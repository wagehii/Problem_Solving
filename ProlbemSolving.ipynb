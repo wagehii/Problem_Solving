{
 "cells": [
  {
   "cell_type": "raw",
   "id": "f225ce60-4c1b-414d-981c-509d9348e3d3",
   "metadata": {},
   "source": []
  },
  {
   "cell_type": "markdown",
   "id": "9668aeee-4e6e-4569-97d3-715d7c0265e0",
   "metadata": {},
   "source": [
    "   # =============== First Day ==================="
   ]
  },
  {
   "cell_type": "raw",
   "id": "a0fb7901-b4cd-4a0a-94a3-9e79d8ce3343",
   "metadata": {},
   "source": []
  },
  {
   "cell_type": "markdown",
   "id": "5b935742-24d5-49c2-9e15-1cfcbce692fb",
   "metadata": {},
   "source": [
    "#### 1 => Check to see if a string has the same amount of 'x's and 'o's. The method must return a boolean and be case insensitive. The string can contain any char."
   ]
  },
  {
   "cell_type": "code",
   "execution_count": 1,
   "id": "d50e40be-acfd-4e57-a356-532967830920",
   "metadata": {},
   "outputs": [],
   "source": [
    "def xo(s):\n",
    "    count = 0\n",
    "    for ch in s:\n",
    "        if (ch == 'o') or (ch == 'O'):\n",
    "            count +=1\n",
    "        elif (ch == 'x') or (ch == 'X'):\n",
    "            count -=1\n",
    "    return count == 0"
   ]
  },
  {
   "cell_type": "markdown",
   "id": "b6e8e78b-d618-475d-9961-e3dc9d1f1f2a",
   "metadata": {},
   "source": [
    "#### 2 => Character recognition software is widely used to digitise printed texts. Thus the texts can be edited, searched and stored on a computer.\n",
    "\n",
    "When documents (especially pretty old ones written with a typewriter), are digitised character recognition softwares often make mistakes.\n",
    "\n",
    "Your task is correct the errors in the digitised text. You only have to handle the following mistakes:\n",
    "\n",
    "S is misinterpreted as 5\n",
    "O is misinterpreted as 0\n",
    "I is misinterpreted as 1\n",
    "The test cases contain numbers only by mistake.\n"
   ]
  },
  {
   "cell_type": "code",
   "execution_count": 2,
   "id": "fe59dd6d-187e-4e58-881d-37b1e62fe045",
   "metadata": {},
   "outputs": [],
   "source": [
    "def correct(s):\n",
    "    return s.replace('5','S').replace('0', 'O').replace('1','I')"
   ]
  },
  {
   "cell_type": "markdown",
   "id": "9bb98f34-e671-490e-bbf4-81487e56b117",
   "metadata": {},
   "source": [
    "#### 3 => You will be given an array a and a value x. All you need to do is check whether the provided array contains the value.\n",
    "\n",
    "a can contain numbers or strings. x can be either.\n",
    "\n",
    "Return true if the array contains the value, false if not.\n"
   ]
  },
  {
   "cell_type": "code",
   "execution_count": 3,
   "id": "b7993b4e-6572-4d88-9554-8147fbdaab86",
   "metadata": {},
   "outputs": [],
   "source": [
    "def check(seq, elem):\n",
    "    return elem in seq"
   ]
  },
  {
   "cell_type": "markdown",
   "id": "645de5c3-d8e1-433e-817f-1bd5a2bd4e37",
   "metadata": {},
   "source": [
    "####  4 =>Build a function that returns an array of integers from n to 1 where n>0.\n",
    "\n",
    "Example : n=5 --> [5,4,3,2,1]\n"
   ]
  },
  {
   "cell_type": "code",
   "execution_count": 4,
   "id": "4e02c7bd-0f9d-410e-8ce6-102e60593c19",
   "metadata": {},
   "outputs": [],
   "source": [
    "import numpy as np\n",
    "def reverse_seq(n):\n",
    "    return list(np.arange(n,0,-1))\n"
   ]
  },
  {
   "cell_type": "markdown",
   "id": "aa006a50-1835-4915-ba75-47d7e19dbaf3",
   "metadata": {},
   "source": [
    "####  5 => Write a function that will accept two parameters: variable and type and check if type of variable is matching type. Return true if types match or false if not.\n"
   ]
  },
  {
   "cell_type": "code",
   "execution_count": 5,
   "id": "675740b2-866e-4f99-bdd0-56b5bd56cd72",
   "metadata": {},
   "outputs": [],
   "source": [
    "def type_validation(variable, _type): \n",
    "    return _type in str(type(variable))"
   ]
  },
  {
   "cell_type": "markdown",
   "id": "7df9c92b-c66d-4c4e-a98b-72c95970237c",
   "metadata": {},
   "source": [
    "#### 6 =>Code as fast as you can! You need to double the integer and return it.\n"
   ]
  },
  {
   "cell_type": "code",
   "execution_count": 6,
   "id": "552d5ff5-2199-438d-a5af-9b3e14da3a4a",
   "metadata": {},
   "outputs": [],
   "source": [
    "def double_integer(i):\n",
    "    return 2 * i"
   ]
  },
  {
   "cell_type": "markdown",
   "id": "95e06be6-f724-4ce4-89ac-6d3e6411582f",
   "metadata": {},
   "source": [
    "####  7=> Count the numbers of digits d used in the writing of all the k**2.\n",
    "\n",
    "Implement the function taking n and d as parameters and returning this count.\n"
   ]
  },
  {
   "cell_type": "code",
   "execution_count": 7,
   "id": "6826f936-5a92-4b4f-a484-7567ac9a923e",
   "metadata": {},
   "outputs": [],
   "source": [
    "def nb_dig(n, d):\n",
    "    c = 0\n",
    "    d = str(d)  \n",
    "    for k in range(n + 1):\n",
    "        c += str(k * k).count(d) \n",
    "    return c"
   ]
  },
  {
   "cell_type": "markdown",
   "id": "8d1d6538-a576-42bd-9688-95862d0e831b",
   "metadata": {},
   "source": [
    "#### 8 =>altERnaTIng cAsE <=> ALTerNAtiNG CaSe\n",
    " see the initial solution for details) such that each lowercase letter becomes uppercase and each uppercase letter becomes lowercase. For example:\n",
    "\n",
    "\"hello world\".toAlternatingCase() === \"HELLO WORLD\""
   ]
  },
  {
   "cell_type": "markdown",
   "id": "57a6028e-def2-4f4d-a890-792cc88f0cbc",
   "metadata": {},
   "source": [
    "def to_alternating_case(string):\n",
    "    s = \"\"\n",
    "    for ch in string:\n",
    "        if str.islower(ch):\n",
    "            s+= str.upper(ch)\n",
    "        else :\n",
    "            s+= str.lower(ch) \n",
    "    return s\n"
   ]
  },
  {
   "cell_type": "markdown",
   "id": "33b1c5fc-c76d-401f-b539-a8f0f8b05afd",
   "metadata": {},
   "source": [
    "#### 9 => Complete the square sum function so that it squares each number passed into it and then sums the results together.\n",
    "\n"
   ]
  },
  {
   "cell_type": "code",
   "execution_count": 8,
   "id": "caa6fb3f-efe7-490d-8346-73816bbc861f",
   "metadata": {},
   "outputs": [],
   "source": [
    "def square_sum(numbers):\n",
    "    c=0\n",
    "    for i in numbers:\n",
    "        c+= i*i\n",
    "    return c    "
   ]
  },
  {
   "cell_type": "markdown",
   "id": "4f6cd92c-3f78-4e05-bbf0-e64e2896011f",
   "metadata": {},
   "source": [
    "#### 10 =>ATM machines allow 4 or 6 digit PIN codes and PIN codes cannot contain anything but exactly 4 digits or exactly 6 digits.\n",
    "\n",
    "If the function is passed a valid PIN string, return true, else return false.\n"
   ]
  },
  {
   "cell_type": "code",
   "execution_count": 9,
   "id": "1af8a1ef-12d1-40b1-8caf-f98e19667bf1",
   "metadata": {},
   "outputs": [],
   "source": [
    "def validate_pin(pin):\n",
    "    return (len(pin)== 4 or len(pin) == 6) and (pin.isnumeric())"
   ]
  },
  {
   "cell_type": "raw",
   "id": "fd3b078c-0b02-4ba5-953d-fd4e28acc74d",
   "metadata": {},
   "source": [
    "   "
   ]
  },
  {
   "cell_type": "markdown",
   "id": "452ecf1b-bad5-400b-b1f4-7b82aa33e0eb",
   "metadata": {},
   "source": [
    "   # =============== Second Day ==================="
   ]
  },
  {
   "cell_type": "raw",
   "id": "3dc8baf1-9266-4410-a1a8-ef7baf376571",
   "metadata": {},
   "source": [
    "   "
   ]
  },
  {
   "cell_type": "markdown",
   "id": "55966c88-bf7b-4b9a-81e1-f57f029573de",
   "metadata": {},
   "source": [
    "#### 11 >> Given the triangle of consecutive odd numbers:\n",
    "\n",
    "               1\n",
    "            3     5\n",
    "         7     9    11\n",
    "      13    15    17    19\n",
    "    21    23    25    27    29\n",
    "...\n",
    "Calculate the sum of the numbers in the nth row of this triangle (starting at index 1) e.g.: (Input --> Output)\n",
    "\n",
    "`1 -->  1`\n",
    "||\n",
    "`2 --> 3 + 5 = 8`\n",
    "\n"
   ]
  },
  {
   "cell_type": "code",
   "execution_count": 10,
   "id": "3e429858-dc7d-43a1-b9c6-dff2a1a90ab1",
   "metadata": {},
   "outputs": [],
   "source": [
    "def row_sum_odd_numbers(n):\n",
    "    return n**3"
   ]
  },
  {
   "cell_type": "markdown",
   "id": "ca310634-2b11-47ea-8c9b-5aa9b105518e",
   "metadata": {},
   "source": [
    "#### 12 >> Given two numbers and an arithmetic operator (the name of it, as a string), return the result of the two numbers having that operator used on them.\n",
    "\n",
    "a and b will both be positive integers, and a will always be the first number in the operation, and b always the second.\n",
    "\n",
    "The four operators are `\"add\"`, `\"subtract\"`, `\"divide\"`, `\"multiply\"`."
   ]
  },
  {
   "cell_type": "code",
   "execution_count": 11,
   "id": "614368a4-af36-4374-a7fa-330b91a5f069",
   "metadata": {},
   "outputs": [],
   "source": [
    "def arithmetic(a, b, operator):\n",
    "    if operator == \"add\":\n",
    "        return a + b\n",
    "    elif operator == \"subtract\":\n",
    "        return a - b\n",
    "    elif operator == \"multiply\":\n",
    "        return a * b\n",
    "    else :\n",
    "        return a / b\n",
    "\n",
    "\n",
    "# another way\n",
    "def arithmetic2(a, b, operator):\n",
    "    return {\n",
    "        'add': a + b,\n",
    "        'subtract': a - b,\n",
    "        'multiply': a * b,\n",
    "        'divide': a / b,\n",
    "    }[operator]"
   ]
  },
  {
   "cell_type": "raw",
   "id": "46413149-8565-48c6-a4a7-371185eb65a5",
   "metadata": {},
   "source": []
  },
  {
   "cell_type": "markdown",
   "id": "1c102000-4575-4e8b-a0c2-dbcc39b8a538",
   "metadata": {},
   "source": [
    "#### 13 >> Task:\n",
    "Given a list of integers, determine whether the sum of its elements is odd or even.\n",
    "\n",
    "Give your answer as a string matching `\"odd\"` or `\"even\"`.\n",
    "\n",
    "If the input array is empty consider it as: `[0] (array with a zero)`."
   ]
  },
  {
   "cell_type": "code",
   "execution_count": 12,
   "id": "868c4265-50c3-47a4-bc99-01ebc584e6ed",
   "metadata": {},
   "outputs": [],
   "source": [
    "def odd_or_even(arr):\n",
    "    return { '0' : \"even\",\n",
    "            '1' : \"odd\",\n",
    "        }[str(sum(arr)% 2) ]"
   ]
  },
  {
   "cell_type": "markdown",
   "id": "91eac443-f19b-4c05-a2fb-0eb900bb3ed4",
   "metadata": {},
   "source": [
    "#### 14 >> Given a month as an integer from 1 to 12, return to which quarter of the year it belongs as an integer number.\n",
    "\n",
    "For example: month 2 (February), is part of the first quarter; month 6 (June), is part of the second quarter; and month 11 (November), is part of the fourth quarter.\n",
    "\n",
    "Constraint:\n",
    "\n",
    "`1 <= month <= 12`"
   ]
  },
  {
   "cell_type": "code",
   "execution_count": 13,
   "id": "118ec6c1-7ea6-4c7a-a946-e1094304cedb",
   "metadata": {},
   "outputs": [],
   "source": [
    "def quarter_of(month):\n",
    "    return {\n",
    "        0 : 1,\n",
    "        1 :2 ,\n",
    "        2 :3 ,\n",
    "        3 :4 ,\n",
    "    }[(month-1) // 3]"
   ]
  },
  {
   "cell_type": "markdown",
   "id": "4a8083a9-2915-473a-9f1d-2716ecaf9b5c",
   "metadata": {},
   "source": [
    "#### 15 >> In this kata you will create a function that takes in a list and returns a list with the reverse order.\n",
    "\n",
    "Examples (Input -> Output)\n",
    "* `[1, 2, 3, 4]  -> [4, 3, 2, 1]`\n",
    "* `[9, 2, 0, 7]  -> [7, 0, 2, 9]`"
   ]
  },
  {
   "cell_type": "code",
   "execution_count": 14,
   "id": "97ad1348-a1a8-41f3-82f2-67556f7be6ea",
   "metadata": {},
   "outputs": [],
   "source": [
    "# normal solution\n",
    "def reverse_list(l):\n",
    "    arr = []\n",
    "    for  i in range(len(l)-1 , -1 , -1):\n",
    "        arr.append(l[i])\n",
    "    return arr\n",
    "\n",
    "\n",
    "# Advanced solution\n",
    "def reverse_list(l):\n",
    "  return l[::-1]"
   ]
  },
  {
   "cell_type": "raw",
   "id": "e51e53b6-4606-44da-9846-f6aec4338c9d",
   "metadata": {},
   "source": []
  },
  {
   "cell_type": "markdown",
   "id": "94e8f9ed-a270-4514-a6fd-e7c3610b1020",
   "metadata": {},
   "source": [
    "#### 16 >> Write function bmi that calculates body mass index (bmi = weight / height2).\n",
    "\n",
    "if `bmi <= 18.5` return `\"Underweight\"`\n",
    "\n",
    "if `bmi <= 25.0` return `\"Normal\"`\n",
    "\n",
    "if `bmi <= 30.0` return `\"Overweight\"`\n",
    "\n",
    "if `bmi > 30` return `\"Obese\"`"
   ]
  },
  {
   "cell_type": "code",
   "execution_count": 15,
   "id": "b4b5a390-d07a-474d-aff3-1dd7c17ea02a",
   "metadata": {},
   "outputs": [],
   "source": [
    "# normal solution\n",
    "def bmi(weight, height):\n",
    "    bm = weight / (height **2)\n",
    "    if bm <= 18.5:\n",
    "        return \"Underweight\"\n",
    "\n",
    "    if bm <= 25.0 :\n",
    "        return \"Normal\"\n",
    "\n",
    "    if bm <= 30.0:\n",
    "        return \"Overweight\"\n",
    "\n",
    "    if bm > 30 :\n",
    "        return \"Obese\""
   ]
  },
  {
   "cell_type": "code",
   "execution_count": 16,
   "id": "ed383e40-39e2-4e95-9266-3367d69852db",
   "metadata": {},
   "outputs": [],
   "source": [
    "# Advanced solution\n",
    "def bmi(weight, height):\n",
    "    b = weight / height ** 2\n",
    "    return ['Underweight', 'Normal', 'Overweight', 'Obese'][(b > 30) + (b > 25) + (b > 18.5)]\n",
    "    "
   ]
  },
  {
   "cell_type": "markdown",
   "id": "c074dbfa-26f2-4171-ab1a-98404735baee",
   "metadata": {},
   "source": [
    "### 17 >> Write a function that returns a string in which firstname is swapped with last name.\n",
    "\n",
    "Example(Input --> Output)\n",
    "\n",
    "`\"john McClane\" --> \"McClane john\"`"
   ]
  },
  {
   "cell_type": "code",
   "execution_count": 17,
   "id": "c38bc62e-1681-4508-8b1f-fe3ae010c311",
   "metadata": {},
   "outputs": [],
   "source": [
    "def name_shuffler(str_):\n",
    "    return ' '.join(str_.split(' ')[::-1])"
   ]
  },
  {
   "cell_type": "markdown",
   "id": "4ed6b666-886e-4d79-8f01-09e292c710d8",
   "metadata": {},
   "source": [
    "####  18 >> Write a function which takes a number and returns the corresponding ASCII char for that value.\n",
    "\n",
    "Example:\n",
    "\n",
    "`65 --> 'A'`\n",
    "`97 --> 'a'`\n",
    "`48 --> '0`"
   ]
  },
  {
   "cell_type": "code",
   "execution_count": 18,
   "id": "347b994e-79a3-416d-8edb-76a795557bf2",
   "metadata": {},
   "outputs": [],
   "source": [
    "def get_char(c):\n",
    "    return chr(c)\n",
    "  \n"
   ]
  },
  {
   "cell_type": "markdown",
   "id": "6af71efb-2687-460a-82a5-3a50859866f5",
   "metadata": {},
   "source": [
    "#### 19 >> Americans are odd people: in their buildings, the first floor is actually the ground floor and there is no 13th floor (due to superstition).\n",
    "\n",
    "Write a function that given a floor in the american system returns the floor in the european system.\n",
    "\n",
    "With the 1st floor being replaced by the ground floor and the 13th floor being removed, the numbers move down to take their place. In case of above 13, they move down by two because there are two omitted numbers below them.\n",
    "\n",
    "Basements (negatives) stay the same as the universal level.\n",
    "\n",
    "More information here\n",
    "\n",
    "Examples\n",
    "`1  =>  0 `\n",
    "`0  =>  0`\n",
    "`5  =>  4`\n",
    "`15  =>  13`\n",
    "`-3  =>  -3`"
   ]
  },
  {
   "cell_type": "code",
   "execution_count": 19,
   "id": "896fdd99-b124-4fb1-8fbb-610099f56128",
   "metadata": {},
   "outputs": [],
   "source": [
    "def get_real_floor(n):\n",
    "    if n <= 0 :\n",
    "        return n\n",
    "    if n <= 13 :\n",
    "        return n-1\n",
    "    if n > 13 :\n",
    "        return n -2"
   ]
  },
  {
   "cell_type": "markdown",
   "id": "0d628832-d030-43fe-a188-83f54f377203",
   "metadata": {},
   "source": [
    "#### 20 >> Complete the solution so that it splits the string into pairs of two characters. If the string contains an odd number of characters then it should replace the missing second character of the final pair with an underscore ('_').\n",
    "\n",
    "Examples:\n",
    "\n",
    "* `'abc' =>  ['ab', 'c_']`\n",
    "* `'abcdef' => ['ab', 'cd', 'ef'] `"
   ]
  },
  {
   "cell_type": "code",
   "execution_count": 20,
   "id": "e3b7bf93-589a-4258-8e6a-7a7623075b5b",
   "metadata": {},
   "outputs": [],
   "source": [
    "def solution(s):\n",
    "    arr = []\n",
    "    for i in range(0, len(s) , 2):\n",
    "        if i == len(s) -1:\n",
    "            arr.append(s[i]+'_')  \n",
    "        else:\n",
    "            arr.append(s[i:i+2])\n",
    "                \n",
    "        \n",
    "    return arr\n",
    "        "
   ]
  },
  {
   "cell_type": "raw",
   "id": "af9f7c59-8410-4ed7-b754-6ac3e006b4d8",
   "metadata": {},
   "source": []
  },
  {
   "cell_type": "markdown",
   "id": "9469fc9e-066e-443a-960b-c6879b4f8dfc",
   "metadata": {},
   "source": [
    "   # =============== Third Day ==================="
   ]
  },
  {
   "cell_type": "raw",
   "id": "4abfea59-55e2-4a4c-9ca2-5328a1b477cb",
   "metadata": {},
   "source": []
  },
  {
   "cell_type": "markdown",
   "id": "0fbde431-5843-4654-ba3c-61190a570d5f",
   "metadata": {},
   "source": [
    "#### 21 -> You are given an array (which will have a length of at least 3, but could be very large) containing integers. The array is either entirely comprised of odd integers or entirely comprised of even integers except for a single integer N. Write a method that takes the array as an argument and returns this \"outlier\" N.\n",
    "\n",
    "Examples\n",
    "\n",
    "`[2, 4, 0, 100, 4, 11, 2602, 36]` -->  11 (the only odd number)\n",
    "\n",
    "`[160, 3, 1719, 19, 11, 13, -21]`--> 160 (the only even number)"
   ]
  },
  {
   "cell_type": "code",
   "execution_count": 21,
   "id": "07bf60e6-36cb-4e0b-9b49-9fb433cc271f",
   "metadata": {},
   "outputs": [],
   "source": [
    "def find_outlier(integers):\n",
    "    even =[]\n",
    "    odd = []\n",
    "    for i in integers:\n",
    "        even.append(i) if (i%2) == 0 else odd.append(i)\n",
    "    return even[0] if len(even) < len(odd) else odd[0]"
   ]
  },
  {
   "cell_type": "markdown",
   "id": "87400b55-185f-41d3-abbf-b562b7eabf79",
   "metadata": {},
   "source": [
    "#### 22 -> You take your son to the forest to see the monkeys. You know that there are a certain number there (n), but your son is too young to just appreciate the full number, he has to start counting them from 1.\n",
    "\n",
    "As a good parent, you will sit and count with him. Given the number (n), populate an array with all numbers up to and including that number, but excluding zero.\n",
    "\n",
    "For example(Input --> Output):\n",
    "\n",
    "10 --> `[1, 2, 3, 4, 5, 6, 7, 8, 9, 10]`\n",
    " 1 --> `[1]`"
   ]
  },
  {
   "cell_type": "code",
   "execution_count": 22,
   "id": "b8e6490f-48f8-4044-9458-2472c8f1f30e",
   "metadata": {},
   "outputs": [],
   "source": [
    "\n",
    "   def monkey_count(n):\n",
    "    return [x for x in range(1,n+1)]        \n",
    "        "
   ]
  },
  {
   "cell_type": "raw",
   "id": "2167a9c1-b681-44de-8175-47089ee307cc",
   "metadata": {},
   "source": []
  },
  {
   "cell_type": "markdown",
   "id": "83e8d3a6-c353-48d7-8459-c0db89019f72",
   "metadata": {},
   "source": [
    "#### 23 -> Jaden Smith, the son of Will Smith, is the star of films such as The Karate Kid (2010) and After Earth (2013). Jaden is also known for some of his philosophy that he delivers via Twitter. When writing on Twitter, he is known for almost always capitalizing every word. For simplicity, you'll have to capitalize each word, check out how contractions are expected to be in the example below.\n",
    "\n",
    "Your task is to convert strings to how they would be written by Jaden Smith. The strings are actual quotes from Jaden Smith, but they are not capitalized in the same way he originally typed them.\n",
    "\n",
    "Example:\n",
    "\n",
    "Not Jaden-Cased: `\"How can mirrors be real if our eyes aren't real\"`\n",
    "Jaden-Cased:     `\"How Can Mirrors Be Real If Our Eyes Aren't Real\"`"
   ]
  },
  {
   "cell_type": "code",
   "execution_count": 23,
   "id": "be178a24-cafc-4d06-ba47-17d45a926ce2",
   "metadata": {},
   "outputs": [],
   "source": [
    "def to_jaden_case(string):\n",
    "    return ' '.join([str.upper(x[0])+str.lower(x[1:]) for  x in (string.split(' '))])"
   ]
  },
  {
   "cell_type": "raw",
   "id": "0b57160f-8d70-4028-934f-9e204fca9357",
   "metadata": {},
   "source": []
  },
  {
   "cell_type": "markdown",
   "id": "abd9e673-6e52-4785-8927-4a7836dbe8c7",
   "metadata": {},
   "source": [
    "#### 24-> The 26 letters of the English alphabets are randomly divided into 5 groups of 5 letters with the remaining letter being ignored. Each of the group is assigned a score of more than 0. The ignored letter always has a score of 0.\n",
    "\n",
    "With this kata, write a function to work out the score of a name that is passed to the function.\n",
    "\n",
    "The output should be returned as an object:\n",
    "\n",
    "{'Mary Jane':20}\n",
    "Only letters have a score. Spaces do not.\n",
    "\n",
    "You can safely assume that name does not contain any punctuations or symbols. There will also be no empty string or null value.\n",
    "\n",
    "A static alpha object for testing has been preloaded for your convenience in the following format:\n",
    "\n",
    "`{'ABCDE':1, 'FGHIJ':2, 'KLMNO':3, 'PQRST':4, 'UVWXY':5}`\n",
    "\n",
    "`'Z' is ignored`"
   ]
  },
  {
   "cell_type": "code",
   "execution_count": 24,
   "id": "3a60d925-dced-47f6-932a-49450900809d",
   "metadata": {},
   "outputs": [],
   "source": [
    "#from preloaded import alpha \n",
    "\n",
    "def name_score(name):\n",
    "    sc = dict.fromkeys(\"ABCDE\", 1) | dict.fromkeys(\"FGHIJ\", 2) | \\\n",
    "         dict.fromkeys(\"KLMNO\", 3) | dict.fromkeys(\"PQRST\", 4) | \\\n",
    "         dict.fromkeys(\"UVWXY\", 5) | {'Z': 0, ' ': 0}\n",
    "    return {name: sum(sc.get(ch) for ch in name.upper())}\n"
   ]
  },
  {
   "cell_type": "code",
   "execution_count": null,
   "id": "3f9d75c8-519e-4388-8fc3-6922bbcbb0fb",
   "metadata": {},
   "outputs": [],
   "source": []
  },
  {
   "cell_type": "markdown",
   "id": "d70db029-71f9-40aa-b63e-d8f83400ce31",
   "metadata": {},
   "source": [
    "#### 25 -> Convert Decimal Degrees to Degrees, Minutes, Seconds.\n",
    "\n",
    "Remember: 1 degree = 60 minutes; 1 minute = 60 seconds.\n",
    "\n",
    "Input: Positive number.\n",
    "\n",
    "Output: Array [degrees, minutes, seconds]. E.g [30, 25, 25]\n",
    "\n",
    "Trailing zeroes should be omitted in the output. E.g"
   ]
  },
  {
   "cell_type": "code",
   "execution_count": 25,
   "id": "d8eea37b-6e43-4f70-a78c-a33fcd7a485c",
   "metadata": {},
   "outputs": [],
   "source": [
    "def convert(decimal_degrees):\n",
    "    degrees = int(decimal_degrees)\n",
    "    remaining = decimal_degrees - degrees\n",
    "    \n",
    "    minutes = int(remaining * 60)\n",
    "    seconds = round((remaining * 60 - minutes) * 60)\n",
    "    if seconds == 60:\n",
    "        minutes+=1\n",
    "        seconds =0\n",
    "    if minutes == 60:\n",
    "        degrees+=1\n",
    "        minutes =0\n",
    "    if seconds == 0:\n",
    "        if minutes == 0:\n",
    "            return [degrees]\n",
    "        else:\n",
    "            return [degrees, minutes]\n",
    "    else:\n",
    "        return [degrees, minutes, seconds]"
   ]
  },
  {
   "cell_type": "raw",
   "id": "fcfbd298-d6fe-4102-a292-283c01f5d027",
   "metadata": {},
   "source": []
  },
  {
   "cell_type": "markdown",
   "id": "18fafc5a-bfa7-4fd3-a71e-4f08a080a1c6",
   "metadata": {},
   "source": [
    "#### 26 -> The rgb function is incomplete. Complete it so that passing in RGB decimal values will result in a hexadecimal representation being returned. Valid decimal values for RGB are 0 - 255. Any values that fall out of that range must be rounded to the closest valid value.\n",
    "\n",
    "Note: Your answer should always be 6 characters long, the shorthand with 3 will not work here.\n",
    "\n",
    "Examples (input --> output):\n",
    "\n",
    "`255, 255, 255 ` --> `\"FFFFFF\"`\n",
    "\n",
    "`255, 255, 300` --> `\"FFFFFF\"`\n",
    "\n",
    "`0, 0, 0     `  --> `\"000000\"`\n",
    "\n",
    "`148, 0, 211`   --> `\"9400D3\"`"
   ]
  },
  {
   "cell_type": "code",
   "execution_count": 26,
   "id": "a64f516e-9cae-45c3-8fb1-814d80e905c6",
   "metadata": {},
   "outputs": [],
   "source": [
    "def rgb(r, g, b):\n",
    "    def d2h(n):\n",
    "        res =\"\"\n",
    "        if n >=255 :\n",
    "            return \"FF\"\n",
    "        if n < 0:\n",
    "            return \"00\"\n",
    "        if (n //16) < 10:\n",
    "            res+= str(n //16)\n",
    "        else:\n",
    "            res+={10:'A',11:'B' , 12 :'C' ,13 :'D' ,14:'E' ,15:'F'}[ n// 16]\n",
    "        if(n%16) < 10:\n",
    "            res += str(n %16)\n",
    "        else:\n",
    "            res +={10:'A',11:'B' , 12 :'C' ,13 :'D' ,14:'E' ,15:'F'}[ n % 16]\n",
    "        return res\n",
    "    return d2h(r) + d2h(g) + d2h(b)"
   ]
  },
  {
   "cell_type": "raw",
   "id": "b9d8a214-84d2-4757-b319-0a9b5d4f007f",
   "metadata": {},
   "source": []
  },
  {
   "cell_type": "markdown",
   "id": "663e2a67-068b-4472-ace0-4cff408be6a7",
   "metadata": {},
   "source": [
    "#### 27 -> Once upon a time, on a way through the old wild mountainous west,…\n",
    "… a man was given directions to go from one point to another. The directions were \"NORTH\", \"SOUTH\", \"WEST\", \"EAST\". Clearly \"NORTH\" and \"SOUTH\" are opposite, \"WEST\" and \"EAST\" too.\n",
    "\n",
    "Going to one direction and coming back the opposite direction right away is a needless effort. Since this is the wild west, with dreadful weather and not much water, it's important to save yourself some energy, otherwise you might die of thirst!\n",
    "\n",
    "How I crossed a mountainous desert the smart way.\n",
    "The directions given to the man are, for example, the following (depending on the language):\n",
    "\n",
    "`[\"NORTH\", \"SOUTH\", \"SOUTH\", \"EAST\", \"WEST\", \"NORTH\", \"WEST\"]`.\n",
    "or\n",
    "`{ \"NORTH\", \"SOUTH\", \"SOUTH\", \"EAST\", \"WEST\", \"NORTH\", \"WEST\" }`;\n",
    "or\n",
    "`[North, South, South, East, West, North, West]`"
   ]
  },
  {
   "cell_type": "code",
   "execution_count": 27,
   "id": "001eee16-3ebe-46cb-9d49-ececa5eea6f0",
   "metadata": {},
   "outputs": [],
   "source": [
    "def dir_reduc(arr):\n",
    "    li = []\n",
    "    for i in arr:\n",
    "        if li and ((li[len(li)-1] == 'NORTH' and i == 'SOUTH') or (li[len(li)-1] == 'SOUTH' and i == 'NORTH') or  (li[len(li)-1] == 'EAST' and i == 'WEST') or (li[len(li)-1] == 'WEST' and i == 'EAST')) :\n",
    "            li.pop()\n",
    "        else:\n",
    "            li.append(i)\n",
    "    return li\n",
    "        "
   ]
  },
  {
   "cell_type": "raw",
   "id": "fa6aafac-98ac-4b17-90b2-a11ac3db5a24",
   "metadata": {},
   "source": []
  },
  {
   "cell_type": "markdown",
   "id": "e7f4bd5d-07da-4f39-a0fc-8cea7c371e3e",
   "metadata": {},
   "source": [
    "#### 28 -> Well met with Fibonacci bigger brother, AKA Tribonacci.\n",
    "\n",
    "As the name may already reveal, it works basically like a Fibonacci, but summing the last 3 (instead of 2) numbers of the sequence to generate the next. And, worse part of it, regrettably I won't get to hear non-native Italian speakers trying to pronounce it :(\n",
    "\n",
    "So, if we are to start our Tribonacci sequence with `[1, 1, 1]` as a starting input (AKA signature), we have this sequence:\n",
    "\n",
    "`[1, 1 ,1, 3, 5, 9, 17, 31, ...]`\n",
    "\n",
    "`[0, 0, 1, 1, 2, 4, 7, 13, 24, ...]`"
   ]
  },
  {
   "cell_type": "code",
   "execution_count": 28,
   "id": "3be9a7f0-bfb4-4293-ad48-7c78a6bee6d5",
   "metadata": {},
   "outputs": [],
   "source": [
    "def tribonacci(signature, n):\n",
    "    if n <3:\n",
    "        return signature[ : n]\n",
    "        \n",
    "    l1 = 0\n",
    "    l2 = 1\n",
    "    l3 =2\n",
    "    \n",
    "    arr= signature\n",
    "    for i in range(n-3):\n",
    "        arr.append(arr[l1] + arr[l2] + arr[l3])\n",
    "        l1+= 1    \n",
    "        l2+= 1    \n",
    "        l3+= 1    \n",
    "    return arr"
   ]
  },
  {
   "cell_type": "raw",
   "id": "34c6ad56-6469-4d2b-9d43-b879e0b14020",
   "metadata": {},
   "source": []
  },
  {
   "cell_type": "markdown",
   "id": "4a533671-a5c5-4cab-8123-40fb60e0d3f6",
   "metadata": {},
   "source": [
    "#### 29 -> Given a set of numbers, return the additive inverse of each. Each positive becomes negatives, and the negatives become positives.\n",
    "\n",
    "`[1, 2, 3, 4, 5]` --> `[-1, -2, -3, -4, -5]`\n",
    "\n",
    "`[1, -2, 3, -4, 5]` --> `[-1, 2, -3, 4, -5]`\n",
    "\n",
    "`[]` --> `[]`"
   ]
  },
  {
   "cell_type": "code",
   "execution_count": 29,
   "id": "36f0f556-563b-4802-b69e-683b8134ed32",
   "metadata": {},
   "outputs": [],
   "source": [
    "def invert(lst):\n",
    "    return [-x for x in lst ]"
   ]
  },
  {
   "cell_type": "raw",
   "id": "ca4003dd-4485-4bfc-b032-95978d0afe04",
   "metadata": {},
   "source": []
  },
  {
   "cell_type": "markdown",
   "id": "116779a6-f399-4eca-8e4c-bf4a88ef6719",
   "metadata": {},
   "source": [
    "#### 30-> I'm new to coding and now I want to get the sum of two arrays... Actually the sum of all their elements. I'll appreciate for your help.\n",
    "\n",
    "P.S. Each array includes only integer numbers. Output is a number too."
   ]
  },
  {
   "cell_type": "code",
   "execution_count": 30,
   "id": "9a7bb768-2160-47cd-8b74-0ccfa3760468",
   "metadata": {},
   "outputs": [],
   "source": [
    "def array_plus_array(arr1,arr2):\n",
    "    return sum (arr1) + sum(arr2)"
   ]
  },
  {
   "cell_type": "raw",
   "id": "25c728c5-9185-41fe-8734-fb133bf11463",
   "metadata": {},
   "source": []
  },
  {
   "cell_type": "markdown",
   "id": "361fe498-42b0-4387-b63e-260fe0f1e308",
   "metadata": {},
   "source": [
    " # =============== Fourth Day ==================="
   ]
  },
  {
   "cell_type": "raw",
   "id": "1cd9b130-540c-44aa-9e22-6d9fe21b3a38",
   "metadata": {},
   "source": []
  },
  {
   "cell_type": "markdown",
   "id": "2f4fa8cc-7172-414f-9fd6-18f8f82cf328",
   "metadata": {},
   "source": [
    "## `31`\n",
    "##### Create a function that takes a positive integer and returns the next bigger number that can be formed by rearranging its digits. For example:\n",
    "\n",
    "  12 ==> 21 \n",
    "  \n",
    " 513 ==> 531\n",
    " \n",
    "2017 ==> 2071\n",
    "\n",
    "If the digits can't be rearranged to form a bigger number, return -1 (or nil in Swift, None in Rust):\n",
    "\n",
    "  9 ==> -1\n",
    "  \n",
    "111 ==> -1\n",
    "\n",
    "531 ==> -1 "
   ]
  },
  {
   "cell_type": "code",
   "execution_count": 31,
   "id": "c9c07e46-744d-4173-9c9d-7df496daad2f",
   "metadata": {},
   "outputs": [],
   "source": [
    "def next_bigger(n):\n",
    "    s = list(str(n))  \n",
    "    length = len(s)\n",
    "    \n",
    "    i = length - 2\n",
    "    while i >= 0 and s[i] >= s[i + 1]:\n",
    "        i -= 1\n",
    "    \n",
    "    if i == -1:\n",
    "        return -1  \n",
    "    \n",
    "    j = length - 1\n",
    "    while s[j] <= s[i]:\n",
    "        j -= 1\n",
    "    \n",
    "    \n",
    "    s[i], s[j] = s[j], s[i]\n",
    "    \n",
    "    s = s[:i + 1] + sorted(s[i + 1:])\n",
    "    \n",
    "    return int(\"\".join(s))\n"
   ]
  },
  {
   "cell_type": "raw",
   "id": "c87acee0-706c-454c-92c1-e9e5bfdcdca2",
   "metadata": {},
   "source": []
  },
  {
   "cell_type": "markdown",
   "id": "024217ac-452a-4ce2-9bb1-e0be564ea30b",
   "metadata": {},
   "source": [
    "## `32` \n",
    "#### You are given a binary tree:\n",
    "\n",
    "class Node:\n",
    "    def __init__(self, L, R, n):\n",
    "        self.left = L\n",
    "        self.right = R\n",
    "        self.value = n\n",
    "Your task is to return the list with elements from tree sorted by levels, which means the root element goes first, then root children (from left to right) are second and third, and so on.\n",
    "\n",
    "Return empty list if root is None.\n",
    "\n",
    "Example 1 - following tree:\n",
    "\n",
    "                 2\n",
    "            8        9\n",
    "          1  3     4   5\n",
    "          \n",
    "Should return following list:\n",
    "\n",
    "`[2,8,9,1,3,4,5]`"
   ]
  },
  {
   "cell_type": "code",
   "execution_count": 32,
   "id": "ca430d4b-43ed-4e75-acae-57bbf6dd91df",
   "metadata": {},
   "outputs": [],
   "source": [
    "from collections import deque\n",
    "\n",
    "def tree_by_levels(root):\n",
    "    if not root:\n",
    "        return []\n",
    "    \n",
    "    result = []\n",
    "    queue = deque([root])\n",
    "    \n",
    "    while queue:\n",
    "        node = queue.popleft()\n",
    "        result.append(node.value)\n",
    "        \n",
    "        if node.left:\n",
    "            queue.append(node.left)\n",
    "        if node.right:\n",
    "            queue.append(node.right)\n",
    "    \n",
    "    return result\n"
   ]
  },
  {
   "cell_type": "raw",
   "id": "68334112-cae6-42bc-ace4-99b854ab7cc6",
   "metadata": {},
   "source": []
  },
  {
   "cell_type": "markdown",
   "id": "a22961e5-9890-43dc-8d4a-438c4ef2a3cf",
   "metadata": {},
   "source": [
    "## `33`\n",
    "#### Story\n",
    "Ben has a very simple idea to make some profit: he buys something and sells it again. Of course, this wouldn't give him any profit at all if he was simply to buy and sell it at the same price. Instead, he's going to buy it for the lowest possible price and sell it at the highest.\n",
    "\n",
    "Task\n",
    "Write a function that returns both the minimum and maximum number of the given list/array.\n",
    "\n",
    "Examples (Input --> Output)\n",
    "\n",
    "[1,2,3,4,5] --> [1,5]\n",
    "\n",
    "[2334454,5] --> [5,2334454]\n",
    "\n",
    "[1]         --> [1,1]"
   ]
  },
  {
   "cell_type": "code",
   "execution_count": 33,
   "id": "291adf8c-e974-4eb6-b174-4660cfc486d7",
   "metadata": {},
   "outputs": [],
   "source": [
    "def min_max(lst):\n",
    "    return [min(lst) , max(lst)]"
   ]
  },
  {
   "cell_type": "raw",
   "id": "443a06ca-965e-41b0-9959-572b551f710f",
   "metadata": {},
   "source": []
  },
  {
   "cell_type": "markdown",
   "id": "d8ea8ace-8a55-4435-b3d5-958150c8d95d",
   "metadata": {},
   "source": [
    "## `34`\n",
    "#### Let's play! You have to return which player won! In case of a draw return Draw!.\n",
    "\n",
    "Examples(Input1, Input2 --> Output):\n",
    "\n",
    "\"scissors\", \"paper\" --> \"Player 1 won!\"\n",
    "\n",
    "\"scissors\", \"rock\" --> \"Player 2 won!\"\n",
    "\n",
    "\"paper\", \"paper\" --> \"Draw!\""
   ]
  },
  {
   "cell_type": "code",
   "execution_count": 34,
   "id": "fa8c6a43-767b-462f-9510-6b233cf91dcb",
   "metadata": {},
   "outputs": [],
   "source": [
    "def rps(p1, p2):\n",
    "    dict ={\"scissors\" : 1, \"rock\" :2 , \"paper\" : 3}\n",
    "    return {1:\"Player 1 won!\" ,-1 : \"Player 2 won!\" , 0: \"Draw!\" ,-2: \"Player 1 won!\" ,2:\"Player 2 won!\" } [(dict[p1] - dict[p2])]"
   ]
  },
  {
   "cell_type": "raw",
   "id": "7ee8c0e8-f825-48b0-8320-ce21aff3addf",
   "metadata": {},
   "source": []
  },
  {
   "cell_type": "markdown",
   "id": "736ce59a-976e-4db3-b9ee-ba6f25020996",
   "metadata": {},
   "source": [
    "## `35`\n",
    "#### Exclusive \"or\" (xor) Logical Operator\n",
    "Overview\n",
    "In some scripting languages like PHP, there exists a logical operator (e.g. &&, ||, and, or, etc.) called the \"Exclusive Or\" (hence the name of this Kata). The exclusive or evaluates two booleans. It then returns true if exactly one of the two expressions are true, false otherwise. For example:\n",
    "\n",
    "`false xor false == false` // since both are false\n",
    "\n",
    "`true xor false == true` // exactly one of the two expressions are true\n",
    "\n",
    "`false xor true == true` // exactly one of the two expressions are true\n",
    "\n",
    "`true xor true == false` // Both are true.  \"xor\" only returns true if EXACTLY"
   ]
  },
  {
   "cell_type": "code",
   "execution_count": 35,
   "id": "cc38c22c-5cf0-43b5-9857-edaad9ace8da",
   "metadata": {},
   "outputs": [],
   "source": [
    "def xor(a,b):\n",
    "    return a != b"
   ]
  },
  {
   "cell_type": "raw",
   "id": "ecf9c70c-2d4e-45a5-a470-223b056ae2cd",
   "metadata": {},
   "source": []
  },
  {
   "cell_type": "markdown",
   "id": "30035703-46ab-403b-9a8c-41a3a403067b",
   "metadata": {},
   "source": [
    "## `36`\n",
    "#### You will be given a list of strings. You must sort it alphabetically (case-sensitive, and based on the ASCII values of the chars) and then return the first value.\n",
    "\n",
    "The returned value must be a string, and have `\"***\"` between each of its letters.\n",
    "\n",
    "You should not remove or add elements from/to the array."
   ]
  },
  {
   "cell_type": "code",
   "execution_count": 36,
   "id": "b83c02a0-1bc1-427a-aa08-05a6948aceed",
   "metadata": {},
   "outputs": [],
   "source": [
    "def two_sort(array):\n",
    "    return \"***\".join(sorted(array)[0])"
   ]
  },
  {
   "cell_type": "raw",
   "id": "7bffdc9c-fb14-4cd9-a3fc-8f371190ca0e",
   "metadata": {},
   "source": []
  },
  {
   "cell_type": "markdown",
   "id": "3b9dc83f-adf0-480e-a48b-e75832058195",
   "metadata": {},
   "source": [
    "## `37`\n",
    "#### Make a function that returns the value multiplied by 50 and increased by 6. If the value entered is a string it should return \"Error\"."
   ]
  },
  {
   "cell_type": "code",
   "execution_count": 37,
   "id": "90265b95-edc4-41d2-ac9b-2fabb735d6d0",
   "metadata": {},
   "outputs": [],
   "source": [
    "def problem(a):\n",
    "    try:\n",
    "        return a * 50 + 6\n",
    "    except:\n",
    "        return \"Error\""
   ]
  },
  {
   "cell_type": "raw",
   "id": "8bb3eb6b-8e5c-4fea-a47f-d4f7a25e8030",
   "metadata": {},
   "source": []
  },
  {
   "cell_type": "markdown",
   "id": "90e4f1a2-58b2-4f14-be0a-878ce3860f89",
   "metadata": {},
   "source": [
    "## `38` \n",
    "#### Given an array (arr) as an argument complete the function countSmileys that should return the total number of smiling faces.\n",
    "\n",
    "Rules for a smiling face:\n",
    "\n",
    "Each smiley face must contain a valid pair of eyes. Eyes can be marked as : or ;\n",
    "A smiley face can have a nose but it does not have to. Valid characters for a nose are - or ~\n",
    "Every smiling face must have a smiling mouth that should be marked with either ) or D\n",
    "No additional characters are allowed except for those mentioned.\n",
    "\n",
    "Valid smiley face examples: :) :D ;-D :~)\n",
    "Invalid smiley faces: ;( :> :} :]\n",
    "\n",
    "Example\n",
    "\n",
    "countSmileys`([':)', ';(', ';}', ':-D']);`       // should return 2;\n",
    "\n",
    "countSmileys`([';D', ':-(', ':-)', ';~)']);`     // should return 3;\n",
    "\n",
    "countSmileys`([';]', ':[', ';*', ':$', ';-D']);` // should return 1;"
   ]
  },
  {
   "cell_type": "code",
   "execution_count": 38,
   "id": "43052537-37f5-4b68-8f95-17711c907884",
   "metadata": {},
   "outputs": [],
   "source": [
    "def contain(s , ch):\n",
    "    return s.find(ch) != -1\n",
    "\n",
    "def count_smileys(arr):\n",
    "    count = 0\n",
    "    for s in arr:\n",
    "        if contain(s , ')') or contain(s , 'D') :\n",
    "            if contain(s , ':') or contain(s , ';'):\n",
    "                if len(s) == 2:\n",
    "                    count += 1\n",
    "                elif (contain(s , '-') or contain(s , '~')) and len(s) == 3:\n",
    "                    count +=1 \n",
    "                else :\n",
    "                    continue               \n",
    "    return count\n",
    "            "
   ]
  },
  {
   "cell_type": "raw",
   "id": "24024fe2-a137-4a90-b6b1-992959600b53",
   "metadata": {},
   "source": []
  },
  {
   "cell_type": "markdown",
   "id": "704814ef-4463-46cf-873f-be5b945421f2",
   "metadata": {},
   "source": [
    "## `39` \n",
    "#### Write Number in Expanded Form\n",
    "You will be given a number and you will need to return it as a string in Expanded Form. For example:\n",
    "\n",
    "  ` 12 --> \"10 + 2\"`\n",
    "  \n",
    "   `45 --> \"40 + 5\"`\n",
    "   \n",
    "`70304 --> \"70000 + 300 + 4\"`"
   ]
  },
  {
   "cell_type": "code",
   "execution_count": 39,
   "id": "58ff6699-0343-4d2b-8b8e-3bfbc0999e46",
   "metadata": {},
   "outputs": [],
   "source": [
    "def expanded_form(n):\n",
    "    s = \"\"\n",
    "    c = 1\n",
    "    while n != 0:\n",
    "        if n%10 != 0:\n",
    "            s = ' + ' + str((n %10) * c) + s\n",
    "            \n",
    "        c *= 10\n",
    "        n = n//10\n",
    "    \n",
    "    return s[3:]\n",
    "            "
   ]
  },
  {
   "cell_type": "raw",
   "id": "bb29d398-7859-44d1-8569-bc61e154b9f7",
   "metadata": {},
   "source": []
  },
  {
   "cell_type": "markdown",
   "id": "6db19fa3-274f-4e4f-a9ad-e799b1f9d93d",
   "metadata": {},
   "source": [
    "## `40` \n",
    "#### Given a string str, reverse it and omit all non-alphabetic characters.\n",
    "\n",
    "Example\n",
    "For str = `\"krishan\"`, the output should be `\"nahsirk\"`.\n",
    "\n",
    "For str = `\"ultr53o?n\"`, the output should be `\"nortlu\"`.\n",
    "\n",
    "Input/Output\n",
    "\n",
    "[input] string str\n",
    "\n",
    "A string consists of lowercase latin letters, digits and symbols.\n",
    "\n",
    "[output] a string"
   ]
  },
  {
   "cell_type": "code",
   "execution_count": 45,
   "id": "c11b941a-8895-40bd-a003-6648f64f279b",
   "metadata": {},
   "outputs": [],
   "source": [
    "def reverse_letter(st):\n",
    "    s = \"\"\n",
    "    for ch in st:\n",
    "        if ch.isalpha():\n",
    "            s+= ch\n",
    "    return s[::-1]"
   ]
  },
  {
   "cell_type": "raw",
   "id": "25e739a2-c918-4990-8adc-b184dd37a2cb",
   "metadata": {},
   "source": []
  },
  {
   "cell_type": "markdown",
   "id": "c0366f7f-7531-42b7-a43d-8d0ba7c240dc",
   "metadata": {},
   "source": [
    "# `41`\n",
    "#### Your goal in this kata is to implement a difference function, which subtracts one list from another and returns the result.\n",
    "\n",
    "It should remove all values from list a, which are present in list b keeping their order.\n",
    "\n",
    "array_diff(`[1,2],[1]`) == `[2]`\n",
    "\n",
    "If a value is present in b, all of its occurrences must be removed from the other:\n",
    "\n",
    "array_diff(`[1,2,2,2,3],[2]`) == `[1,3]`"
   ]
  },
  {
   "cell_type": "code",
   "execution_count": 46,
   "id": "c5aefbd4-b700-4aa7-8c43-cdebc550067d",
   "metadata": {},
   "outputs": [],
   "source": [
    "def array_diff(a, b):\n",
    "    return [i for i in a if i not in b]"
   ]
  },
  {
   "cell_type": "raw",
   "id": "d6b144fa-197a-4c53-92db-de4e4f04599d",
   "metadata": {},
   "source": []
  },
  {
   "cell_type": "markdown",
   "id": "a17e2796-bf7c-4be2-ad57-627097f82c5e",
   "metadata": {},
   "source": [
    "# `42`\n",
    "### Your job is to write a function which increments a string, to create a new string.\n",
    "\n",
    "If the string already ends with a number, the number should be incremented by 1.\n",
    "If the string does not end with a number. the number 1 should be appended to the new string.\n",
    "Examples:\n",
    "\n",
    "`foo -> foo1`\n",
    "\n",
    "`foobar23 -> foobar24`\n",
    "\n",
    "`foo0042 -> foo0043`\n",
    "\n",
    "`foo9 -> foo10`\n",
    "\n",
    "`foo099 -> foo100`\n",
    "\n",
    "Attention: If the number has leading zeros the amount of digits should be considered."
   ]
  },
  {
   "cell_type": "code",
   "execution_count": 60,
   "id": "8b082002-3658-4642-93ae-140366ade276",
   "metadata": {},
   "outputs": [],
   "source": [
    "import re\n",
    "def increment_string(strng):\n",
    "    try:  \n",
    "        num = \"\"\n",
    "        l = 0\n",
    "        z =0\n",
    "        for c in strng[::-1]:\n",
    "            if c.isdigit():\n",
    "                num = c + num\n",
    "            else:\n",
    "                break\n",
    "        return strng[:- len(str(num))] + str(int(num) + 1).zfill(len(num))\n",
    "    except:\n",
    "        return strng + \"1\""
   ]
  },
  {
   "cell_type": "raw",
   "id": "e13646a0-d52b-40fe-947a-99324700fa80",
   "metadata": {},
   "source": []
  },
  {
   "cell_type": "markdown",
   "id": "dffdaacd-17d9-493f-bb96-0231c995c3a7",
   "metadata": {},
   "source": [
    "# `43`\n",
    "### There is a bus moving in the city which takes and drops some people at each bus stop.\n",
    "\n",
    "You are provided with a list (or array) of integer pairs. Elements of each pair represent the number of people that get on the bus (the first item) and the number of people that get off the bus (the second item) at a bus stop.\n",
    "\n",
    "Your task is to return the number of people who are still on the bus after the last bus stop (after the last array). Even though it is the last bus stop, the bus might not be empty and some people might still be inside the bus, they are probably sleeping there :D\n",
    "\n",
    "Take a look on the test cases.\n",
    "\n",
    "Please keep in mind that the test cases ensure that the number of people in the bus is always >= 0. So the returned integer can't be negative.\n",
    "\n",
    "The second value in the first pair in the array is 0, since the bus is empty in the first bus stop."
   ]
  },
  {
   "cell_type": "code",
   "execution_count": 64,
   "id": "7668ffed-a38f-4335-a49d-966751ba667e",
   "metadata": {},
   "outputs": [],
   "source": [
    "def number(bus_stops):\n",
    "    count = 0\n",
    "    for ar in bus_stops:\n",
    "        count += ar[0] - ar[1]\n",
    "    return count    \n",
    "        "
   ]
  },
  {
   "cell_type": "raw",
   "id": "eb52838f-ac63-497a-b62e-25d2ca7bb5fe",
   "metadata": {},
   "source": []
  },
  {
   "cell_type": "markdown",
   "id": "2df39f3a-5852-47f4-bbd6-8e7b7bc8ea5a",
   "metadata": {},
   "source": [
    "# `44`\n",
    "### You're writing code to control your town's traffic lights. You need a function to handle each change from green, to yellow, to red, and then to green again.\n",
    "\n",
    "Complete the function that takes a string as an argument representing the current state of the light and returns a string representing the state the light should change to.\n",
    "\n",
    "For example, when the input is `green`, output should be `yellow`."
   ]
  },
  {
   "cell_type": "code",
   "execution_count": 65,
   "id": "2c26904d-e1ff-45d8-9557-29ec72635c6c",
   "metadata": {},
   "outputs": [],
   "source": [
    "def update_light(current):\n",
    "    dict = {'green' : 1, \"yellow\" :2 , \"red\" : 3 }\n",
    "    return { 0 :'green' , 1 : \"yellow\" ,2 : \"red\" }[dict[current] % 3]"
   ]
  },
  {
   "cell_type": "raw",
   "id": "9f3cc30e-0221-4ea6-97e8-195e1287464f",
   "metadata": {},
   "source": []
  },
  {
   "cell_type": "markdown",
   "id": "399fc259-0a7d-496f-9aee-3f9178234b21",
   "metadata": {},
   "source": [
    "# `45`\n",
    "### The main idea is to count all the occurring characters in a string. If you have a string like aba, then the result should be {'a': 2, 'b': 1}.\n",
    "\n",
    "What if the string is empty? Then the result should be empty object literal, {}."
   ]
  },
  {
   "cell_type": "code",
   "execution_count": 103,
   "id": "426c5c4a-0303-4b9a-a996-4673140acffe",
   "metadata": {},
   "outputs": [],
   "source": [
    "def count(s):\n",
    "    a = set(s)\n",
    "    d =dict()\n",
    "    for i in a :\n",
    "        d[i] = 0\n",
    "        \n",
    "    for i in s:\n",
    "        d[i] += 1 \n",
    "    \n",
    "    return d"
   ]
  },
  {
   "cell_type": "raw",
   "id": "928eaacf-a0e2-41ca-803d-dada7b2c7fb0",
   "metadata": {},
   "source": [
    " "
   ]
  },
  {
   "cell_type": "markdown",
   "id": "3256a5c4-fd76-4199-b442-0c89ae432a33",
   "metadata": {},
   "source": [
    "# `46`\n",
    "###"
   ]
  },
  {
   "cell_type": "code",
   "execution_count": null,
   "id": "2c979abb-8cd2-4882-a018-a9b6114b6686",
   "metadata": {},
   "outputs": [],
   "source": []
  }
 ],
 "metadata": {
  "kernelspec": {
   "display_name": "Python 3 (ipykernel)",
   "language": "python",
   "name": "python3"
  },
  "language_info": {
   "codemirror_mode": {
    "name": "ipython",
    "version": 3
   },
   "file_extension": ".py",
   "mimetype": "text/x-python",
   "name": "python",
   "nbconvert_exporter": "python",
   "pygments_lexer": "ipython3",
   "version": "3.12.7"
  }
 },
 "nbformat": 4,
 "nbformat_minor": 5
}
