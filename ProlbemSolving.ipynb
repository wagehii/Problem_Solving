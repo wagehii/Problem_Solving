{
 "cells": [
  {
   "cell_type": "raw",
   "id": "f225ce60-4c1b-414d-981c-509d9348e3d3",
   "metadata": {},
   "source": []
  },
  {
   "cell_type": "markdown",
   "id": "9668aeee-4e6e-4569-97d3-715d7c0265e0",
   "metadata": {},
   "source": [
    "   # =============== First Day ==================="
   ]
  },
  {
   "cell_type": "raw",
   "id": "a0fb7901-b4cd-4a0a-94a3-9e79d8ce3343",
   "metadata": {},
   "source": []
  },
  {
   "cell_type": "markdown",
   "id": "5b935742-24d5-49c2-9e15-1cfcbce692fb",
   "metadata": {},
   "source": [
    "#### 1 => Check to see if a string has the same amount of 'x's and 'o's. The method must return a boolean and be case insensitive. The string can contain any char."
   ]
  },
  {
   "cell_type": "code",
   "execution_count": 1,
   "id": "d50e40be-acfd-4e57-a356-532967830920",
   "metadata": {},
   "outputs": [],
   "source": [
    "def xo(s):\n",
    "    count = 0\n",
    "    for ch in s:\n",
    "        if (ch == 'o') or (ch == 'O'):\n",
    "            count +=1\n",
    "        elif (ch == 'x') or (ch == 'X'):\n",
    "            count -=1\n",
    "    return count == 0"
   ]
  },
  {
   "cell_type": "markdown",
   "id": "b6e8e78b-d618-475d-9961-e3dc9d1f1f2a",
   "metadata": {},
   "source": [
    "#### 2 => Character recognition software is widely used to digitise printed texts. Thus the texts can be edited, searched and stored on a computer.\n",
    "\n",
    "When documents (especially pretty old ones written with a typewriter), are digitised character recognition softwares often make mistakes.\n",
    "\n",
    "Your task is correct the errors in the digitised text. You only have to handle the following mistakes:\n",
    "\n",
    "S is misinterpreted as 5\n",
    "O is misinterpreted as 0\n",
    "I is misinterpreted as 1\n",
    "The test cases contain numbers only by mistake.\n"
   ]
  },
  {
   "cell_type": "code",
   "execution_count": 2,
   "id": "fe59dd6d-187e-4e58-881d-37b1e62fe045",
   "metadata": {},
   "outputs": [],
   "source": [
    "def correct(s):\n",
    "    return s.replace('5','S').replace('0', 'O').replace('1','I')"
   ]
  },
  {
   "cell_type": "markdown",
   "id": "9bb98f34-e671-490e-bbf4-81487e56b117",
   "metadata": {},
   "source": [
    "#### 3 => You will be given an array a and a value x. All you need to do is check whether the provided array contains the value.\n",
    "\n",
    "a can contain numbers or strings. x can be either.\n",
    "\n",
    "Return true if the array contains the value, false if not.\n"
   ]
  },
  {
   "cell_type": "code",
   "execution_count": 3,
   "id": "b7993b4e-6572-4d88-9554-8147fbdaab86",
   "metadata": {},
   "outputs": [],
   "source": [
    "def check(seq, elem):\n",
    "    return elem in seq"
   ]
  },
  {
   "cell_type": "markdown",
   "id": "645de5c3-d8e1-433e-817f-1bd5a2bd4e37",
   "metadata": {},
   "source": [
    "####  4 =>Build a function that returns an array of integers from n to 1 where n>0.\n",
    "\n",
    "Example : n=5 --> [5,4,3,2,1]\n"
   ]
  },
  {
   "cell_type": "code",
   "execution_count": 4,
   "id": "4e02c7bd-0f9d-410e-8ce6-102e60593c19",
   "metadata": {},
   "outputs": [],
   "source": [
    "import numpy as np\n",
    "def reverse_seq(n):\n",
    "    return list(np.arange(n,0,-1))\n"
   ]
  },
  {
   "cell_type": "markdown",
   "id": "aa006a50-1835-4915-ba75-47d7e19dbaf3",
   "metadata": {},
   "source": [
    "####  5 => Write a function that will accept two parameters: variable and type and check if type of variable is matching type. Return true if types match or false if not.\n"
   ]
  },
  {
   "cell_type": "code",
   "execution_count": 5,
   "id": "675740b2-866e-4f99-bdd0-56b5bd56cd72",
   "metadata": {},
   "outputs": [],
   "source": [
    "def type_validation(variable, _type): \n",
    "    return _type in str(type(variable))"
   ]
  },
  {
   "cell_type": "markdown",
   "id": "7df9c92b-c66d-4c4e-a98b-72c95970237c",
   "metadata": {},
   "source": [
    "#### 6 =>Code as fast as you can! You need to double the integer and return it.\n"
   ]
  },
  {
   "cell_type": "code",
   "execution_count": 6,
   "id": "552d5ff5-2199-438d-a5af-9b3e14da3a4a",
   "metadata": {},
   "outputs": [],
   "source": [
    "def double_integer(i):\n",
    "    return 2 * i"
   ]
  },
  {
   "cell_type": "markdown",
   "id": "95e06be6-f724-4ce4-89ac-6d3e6411582f",
   "metadata": {},
   "source": [
    "####  7=> Count the numbers of digits d used in the writing of all the k**2.\n",
    "\n",
    "Implement the function taking n and d as parameters and returning this count.\n"
   ]
  },
  {
   "cell_type": "code",
   "execution_count": 7,
   "id": "6826f936-5a92-4b4f-a484-7567ac9a923e",
   "metadata": {},
   "outputs": [],
   "source": [
    "def nb_dig(n, d):\n",
    "    c = 0\n",
    "    d = str(d)  \n",
    "    for k in range(n + 1):\n",
    "        c += str(k * k).count(d) \n",
    "    return c"
   ]
  },
  {
   "cell_type": "markdown",
   "id": "8d1d6538-a576-42bd-9688-95862d0e831b",
   "metadata": {},
   "source": [
    "#### 8 =>altERnaTIng cAsE <=> ALTerNAtiNG CaSe\n",
    " see the initial solution for details) such that each lowercase letter becomes uppercase and each uppercase letter becomes lowercase. For example:\n",
    "\n",
    "\"hello world\".toAlternatingCase() === \"HELLO WORLD\""
   ]
  },
  {
   "cell_type": "markdown",
   "id": "57a6028e-def2-4f4d-a890-792cc88f0cbc",
   "metadata": {},
   "source": [
    "def to_alternating_case(string):\n",
    "    s = \"\"\n",
    "    for ch in string:\n",
    "        if str.islower(ch):\n",
    "            s+= str.upper(ch)\n",
    "        else :\n",
    "            s+= str.lower(ch) \n",
    "    return s\n"
   ]
  },
  {
   "cell_type": "markdown",
   "id": "33b1c5fc-c76d-401f-b539-a8f0f8b05afd",
   "metadata": {},
   "source": [
    "#### 9 => Complete the square sum function so that it squares each number passed into it and then sums the results together.\n",
    "\n"
   ]
  },
  {
   "cell_type": "code",
   "execution_count": 8,
   "id": "caa6fb3f-efe7-490d-8346-73816bbc861f",
   "metadata": {},
   "outputs": [],
   "source": [
    "def square_sum(numbers):\n",
    "    c=0\n",
    "    for i in numbers:\n",
    "        c+= i*i\n",
    "    return c    "
   ]
  },
  {
   "cell_type": "markdown",
   "id": "4f6cd92c-3f78-4e05-bbf0-e64e2896011f",
   "metadata": {},
   "source": [
    "#### 10 =>ATM machines allow 4 or 6 digit PIN codes and PIN codes cannot contain anything but exactly 4 digits or exactly 6 digits.\n",
    "\n",
    "If the function is passed a valid PIN string, return true, else return false.\n"
   ]
  },
  {
   "cell_type": "code",
   "execution_count": 9,
   "id": "1af8a1ef-12d1-40b1-8caf-f98e19667bf1",
   "metadata": {},
   "outputs": [],
   "source": [
    "def validate_pin(pin):\n",
    "    return (len(pin)== 4 or len(pin) == 6) and (pin.isnumeric())"
   ]
  },
  {
   "cell_type": "raw",
   "id": "fd3b078c-0b02-4ba5-953d-fd4e28acc74d",
   "metadata": {},
   "source": [
    "   "
   ]
  },
  {
   "cell_type": "markdown",
   "id": "452ecf1b-bad5-400b-b1f4-7b82aa33e0eb",
   "metadata": {},
   "source": [
    "   # =============== Second Day ==================="
   ]
  },
  {
   "cell_type": "raw",
   "id": "3dc8baf1-9266-4410-a1a8-ef7baf376571",
   "metadata": {},
   "source": [
    "   "
   ]
  },
  {
   "cell_type": "markdown",
   "id": "55966c88-bf7b-4b9a-81e1-f57f029573de",
   "metadata": {},
   "source": [
    "#### 11 >> Given the triangle of consecutive odd numbers:\n",
    "\n",
    "               1\n",
    "            3     5\n",
    "         7     9    11\n",
    "      13    15    17    19\n",
    "    21    23    25    27    29\n",
    "...\n",
    "Calculate the sum of the numbers in the nth row of this triangle (starting at index 1) e.g.: (Input --> Output)\n",
    "\n",
    "`1 -->  1`\n",
    "||\n",
    "`2 --> 3 + 5 = 8`\n",
    "\n"
   ]
  },
  {
   "cell_type": "code",
   "execution_count": 10,
   "id": "3e429858-dc7d-43a1-b9c6-dff2a1a90ab1",
   "metadata": {},
   "outputs": [],
   "source": [
    "def row_sum_odd_numbers(n):\n",
    "    return n**3"
   ]
  },
  {
   "cell_type": "markdown",
   "id": "ca310634-2b11-47ea-8c9b-5aa9b105518e",
   "metadata": {},
   "source": [
    "#### 12 >> Given two numbers and an arithmetic operator (the name of it, as a string), return the result of the two numbers having that operator used on them.\n",
    "\n",
    "a and b will both be positive integers, and a will always be the first number in the operation, and b always the second.\n",
    "\n",
    "The four operators are `\"add\"`, `\"subtract\"`, `\"divide\"`, `\"multiply\"`."
   ]
  },
  {
   "cell_type": "code",
   "execution_count": 11,
   "id": "614368a4-af36-4374-a7fa-330b91a5f069",
   "metadata": {},
   "outputs": [],
   "source": [
    "def arithmetic(a, b, operator):\n",
    "    if operator == \"add\":\n",
    "        return a + b\n",
    "    elif operator == \"subtract\":\n",
    "        return a - b\n",
    "    elif operator == \"multiply\":\n",
    "        return a * b\n",
    "    else :\n",
    "        return a / b"
   ]
  },
  {
   "cell_type": "code",
   "execution_count": 12,
   "id": "0bf3f416-35c0-46ef-8f39-3c7b18541b64",
   "metadata": {},
   "outputs": [],
   "source": [
    "# another way\n",
    "def arithmetic2(a, b, operator):\n",
    "    return {\n",
    "        'add': a + b,\n",
    "        'subtract': a - b,\n",
    "        'multiply': a * b,\n",
    "        'divide': a / b,\n",
    "    }[operator]"
   ]
  },
  {
   "cell_type": "markdown",
   "id": "1c102000-4575-4e8b-a0c2-dbcc39b8a538",
   "metadata": {},
   "source": [
    "#### 13 >> Task:\n",
    "Given a list of integers, determine whether the sum of its elements is odd or even.\n",
    "\n",
    "Give your answer as a string matching `\"odd\"` or `\"even\"`.\n",
    "\n",
    "If the input array is empty consider it as: `[0] (array with a zero)`."
   ]
  },
  {
   "cell_type": "code",
   "execution_count": 13,
   "id": "868c4265-50c3-47a4-bc99-01ebc584e6ed",
   "metadata": {},
   "outputs": [],
   "source": [
    "def odd_or_even(arr):\n",
    "    return { '0' : \"even\",\n",
    "            '1' : \"odd\",\n",
    "        }[str(sum(arr)% 2) ]"
   ]
  },
  {
   "cell_type": "markdown",
   "id": "91eac443-f19b-4c05-a2fb-0eb900bb3ed4",
   "metadata": {},
   "source": [
    "#### 14 >> Given a month as an integer from 1 to 12, return to which quarter of the year it belongs as an integer number.\n",
    "\n",
    "For example: month 2 (February), is part of the first quarter; month 6 (June), is part of the second quarter; and month 11 (November), is part of the fourth quarter.\n",
    "\n",
    "Constraint:\n",
    "\n",
    "`1 <= month <= 12`"
   ]
  },
  {
   "cell_type": "code",
   "execution_count": 14,
   "id": "118ec6c1-7ea6-4c7a-a946-e1094304cedb",
   "metadata": {},
   "outputs": [],
   "source": [
    "def quarter_of(month):\n",
    "    return {\n",
    "        0 : 1,\n",
    "        1 :2 ,\n",
    "        2 :3 ,\n",
    "        3 :4 ,\n",
    "    }[(month-1) // 3]"
   ]
  },
  {
   "cell_type": "markdown",
   "id": "4a8083a9-2915-473a-9f1d-2716ecaf9b5c",
   "metadata": {},
   "source": [
    "#### 15 >> In this kata you will create a function that takes in a list and returns a list with the reverse order.\n",
    "\n",
    "Examples (Input -> Output)\n",
    "* `[1, 2, 3, 4]  -> [4, 3, 2, 1]`\n",
    "* `[9, 2, 0, 7]  -> [7, 0, 2, 9]`"
   ]
  },
  {
   "cell_type": "code",
   "execution_count": 15,
   "id": "97ad1348-a1a8-41f3-82f2-67556f7be6ea",
   "metadata": {},
   "outputs": [],
   "source": [
    "# normal solution\n",
    "def reverse_list(l):\n",
    "    arr = []\n",
    "    for  i in range(len(l)-1 , -1 , -1):\n",
    "        arr.append(l[i])\n",
    "    return arr"
   ]
  },
  {
   "cell_type": "code",
   "execution_count": 16,
   "id": "a40e283d-013b-4e60-b0b8-a6bc18a064a0",
   "metadata": {},
   "outputs": [],
   "source": [
    "# Advanced solution\n",
    "def reverse_list(l):\n",
    "  return l[::-1]"
   ]
  },
  {
   "cell_type": "markdown",
   "id": "94e8f9ed-a270-4514-a6fd-e7c3610b1020",
   "metadata": {},
   "source": [
    "#### 16 >> Write function bmi that calculates body mass index (bmi = weight / height2).\n",
    "\n",
    "if `bmi <= 18.5` return `\"Underweight\"`\n",
    "\n",
    "if `bmi <= 25.0` return `\"Normal\"`\n",
    "\n",
    "if `bmi <= 30.0` return `\"Overweight\"`\n",
    "\n",
    "if `bmi > 30` return `\"Obese\"`"
   ]
  },
  {
   "cell_type": "code",
   "execution_count": 17,
   "id": "b4b5a390-d07a-474d-aff3-1dd7c17ea02a",
   "metadata": {},
   "outputs": [],
   "source": [
    "# normal solution\n",
    "def bmi(weight, height):\n",
    "    bm = weight / (height **2)\n",
    "    if bm <= 18.5:\n",
    "        return \"Underweight\"\n",
    "\n",
    "    if bm <= 25.0 :\n",
    "        return \"Normal\"\n",
    "\n",
    "    if bm <= 30.0:\n",
    "        return \"Overweight\"\n",
    "\n",
    "    if bm > 30 :\n",
    "        return \"Obese\""
   ]
  },
  {
   "cell_type": "code",
   "execution_count": 18,
   "id": "ed383e40-39e2-4e95-9266-3367d69852db",
   "metadata": {},
   "outputs": [],
   "source": [
    "# Advanced solution\n",
    "def bmi(weight, height):\n",
    "    b = weight / height ** 2\n",
    "    return ['Underweight', 'Normal', 'Overweight', 'Obese'][(b > 30) + (b > 25) + (b > 18.5)]\n",
    "    "
   ]
  },
  {
   "cell_type": "markdown",
   "id": "c074dbfa-26f2-4171-ab1a-98404735baee",
   "metadata": {},
   "source": [
    "### 17 >> Write a function that returns a string in which firstname is swapped with last name.\n",
    "\n",
    "Example(Input --> Output)\n",
    "\n",
    "`\"john McClane\" --> \"McClane john\"`"
   ]
  },
  {
   "cell_type": "code",
   "execution_count": 19,
   "id": "c38bc62e-1681-4508-8b1f-fe3ae010c311",
   "metadata": {},
   "outputs": [],
   "source": [
    "def name_shuffler(str_):\n",
    "    return ' '.join(str_.split(' ')[::-1])"
   ]
  },
  {
   "cell_type": "markdown",
   "id": "4ed6b666-886e-4d79-8f01-09e292c710d8",
   "metadata": {},
   "source": [
    "####  18 >> Write a function which takes a number and returns the corresponding ASCII char for that value.\n",
    "\n",
    "Example:\n",
    "\n",
    "`65 --> 'A'`\n",
    "`97 --> 'a'`\n",
    "`48 --> '0`"
   ]
  },
  {
   "cell_type": "code",
   "execution_count": 20,
   "id": "347b994e-79a3-416d-8edb-76a795557bf2",
   "metadata": {},
   "outputs": [],
   "source": [
    "def get_char(c):\n",
    "    return chr(c)\n",
    "  \n"
   ]
  },
  {
   "cell_type": "markdown",
   "id": "6af71efb-2687-460a-82a5-3a50859866f5",
   "metadata": {},
   "source": [
    "#### 19 >> Americans are odd people: in their buildings, the first floor is actually the ground floor and there is no 13th floor (due to superstition).\n",
    "\n",
    "Write a function that given a floor in the american system returns the floor in the european system.\n",
    "\n",
    "With the 1st floor being replaced by the ground floor and the 13th floor being removed, the numbers move down to take their place. In case of above 13, they move down by two because there are two omitted numbers below them.\n",
    "\n",
    "Basements (negatives) stay the same as the universal level.\n",
    "\n",
    "More information here\n",
    "\n",
    "Examples\n",
    "`1  =>  0 `\n",
    "`0  =>  0`\n",
    "`5  =>  4`\n",
    "`15  =>  13`\n",
    "`-3  =>  -3`"
   ]
  },
  {
   "cell_type": "code",
   "execution_count": 21,
   "id": "896fdd99-b124-4fb1-8fbb-610099f56128",
   "metadata": {},
   "outputs": [],
   "source": [
    "def get_real_floor(n):\n",
    "    if n <= 0 :\n",
    "        return n\n",
    "    if n <= 13 :\n",
    "        return n-1\n",
    "    if n > 13 :\n",
    "        return n -2"
   ]
  },
  {
   "cell_type": "markdown",
   "id": "0d628832-d030-43fe-a188-83f54f377203",
   "metadata": {},
   "source": [
    "#### 20 >> Complete the solution so that it splits the string into pairs of two characters. If the string contains an odd number of characters then it should replace the missing second character of the final pair with an underscore ('_').\n",
    "\n",
    "Examples:\n",
    "\n",
    "* `'abc' =>  ['ab', 'c_']`\n",
    "* `'abcdef' => ['ab', 'cd', 'ef'] `"
   ]
  },
  {
   "cell_type": "code",
   "execution_count": 22,
   "id": "e3b7bf93-589a-4258-8e6a-7a7623075b5b",
   "metadata": {},
   "outputs": [],
   "source": [
    "def solution(s):\n",
    "    arr = []\n",
    "    for i in range(0, len(s) , 2):\n",
    "        if i == len(s) -1:\n",
    "            arr.append(s[i]+'_')  \n",
    "        else:\n",
    "            arr.append(s[i:i+2])\n",
    "                \n",
    "        \n",
    "    return arr\n",
    "        "
   ]
  },
  {
   "cell_type": "raw",
   "id": "af9f7c59-8410-4ed7-b754-6ac3e006b4d8",
   "metadata": {},
   "source": []
  },
  {
   "cell_type": "markdown",
   "id": "9469fc9e-066e-443a-960b-c6879b4f8dfc",
   "metadata": {},
   "source": [
    "   # =============== Third Day ==================="
   ]
  },
  {
   "cell_type": "raw",
   "id": "4abfea59-55e2-4a4c-9ca2-5328a1b477cb",
   "metadata": {},
   "source": []
  }
 ],
 "metadata": {
  "kernelspec": {
   "display_name": "Python 3 (ipykernel)",
   "language": "python",
   "name": "python3"
  },
  "language_info": {
   "codemirror_mode": {
    "name": "ipython",
    "version": 3
   },
   "file_extension": ".py",
   "mimetype": "text/x-python",
   "name": "python",
   "nbconvert_exporter": "python",
   "pygments_lexer": "ipython3",
   "version": "3.12.7"
  }
 },
 "nbformat": 4,
 "nbformat_minor": 5
}
