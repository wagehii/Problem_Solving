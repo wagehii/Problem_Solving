{
 "cells": [
  {
   "cell_type": "raw",
   "id": "f225ce60-4c1b-414d-981c-509d9348e3d3",
   "metadata": {},
   "source": []
  },
  {
   "cell_type": "markdown",
   "id": "9668aeee-4e6e-4569-97d3-715d7c0265e0",
   "metadata": {},
   "source": [
    "   # ==================== Welcome ==================="
   ]
  },
  {
   "cell_type": "raw",
   "id": "a0fb7901-b4cd-4a0a-94a3-9e79d8ce3343",
   "metadata": {},
   "source": []
  },
  {
   "cell_type": "markdown",
   "id": "8faffa31-2818-425f-9287-ccdd1e411fb0",
   "metadata": {},
   "source": [
    "# `1` \n",
    "### Your task in order to complete this Kata is to write a function which formats a duration, given as a number of seconds, in a human-friendly way.\n",
    "\n",
    "The function must accept a non-negative integer. If it is `zero`, it just returns `\"now\"`. Otherwise, the duration is expressed as a combination of `years, days, hours, minutes and seconds`.\n",
    "\n",
    "It is much easier to understand with an example:\n",
    "\n",
    "* For seconds = 62, your function should return \n",
    "    `\"1 minute and 2 seconds\"`\n",
    "* For seconds = 3662, your function should return\n",
    "    `\"1 hour, 1 minute and 2 seconds\"`"
   ]
  },
  {
   "cell_type": "code",
   "execution_count": 1,
   "id": "2f0200b9-04f0-4a99-a392-63e357215020",
   "metadata": {},
   "outputs": [],
   "source": [
    "def format_duration(sc):\n",
    "    if sc == 0:\n",
    "        return \"now\"\n",
    "    [s , m , h , d ,y] = sc%60 , (sc// 60) % 60 ,(sc// 3600) % 24 ,(sc// 86400) % 365 , (sc// 31536000) \n",
    "    \n",
    "    one = [\"year\" , \"day\" ,\"hour\" , \"minute\",\"second\"]\n",
    "    more = [\"years\" , \"days\" ,\"hours\" , \"minutes\",\"seconds\"]\n",
    "    ar = [s , m , h , d ,y][::-1]\n",
    "    s = []\n",
    "    for i in range(len(ar)):\n",
    "        if ar[i] == 1:\n",
    "            s.append(str(ar[i]) + ' ' + one[i])\n",
    "        elif ar[i] > 1:\n",
    "            s.append(str(ar[i]) + ' ' + more[i])\n",
    "    if len(s) > 1:     \n",
    "        return \", \".join(s[:-1]) + ' and ' + s[-1]\n",
    "    else :\n",
    "        return s[0]\n",
    "            "
   ]
  },
  {
   "cell_type": "raw",
   "id": "34cfab8b-68e2-4104-8094-3959f9fc183b",
   "metadata": {},
   "source": []
  },
  {
   "cell_type": "markdown",
   "id": "b6e8e78b-d618-475d-9961-e3dc9d1f1f2a",
   "metadata": {},
   "source": [
    "# `2`\n",
    "### Character recognition software is widely used to digitise printed texts. Thus the texts can be edited, searched and stored on a computer.\n",
    "\n",
    "When documents (especially pretty old ones written with a typewriter), are digitised character recognition softwares often make mistakes.\n",
    "\n",
    "Your task is correct the errors in the digitised text. You only have to handle the following mistakes:\n",
    "\n",
    "`S` is misinterpreted as `5`\n",
    "\n",
    "`O` is misinterpreted as `0`\n",
    "\n",
    "`I` is misinterpreted as `1`\n",
    "\n",
    "The test cases contain numbers only by mistake.\n"
   ]
  },
  {
   "cell_type": "code",
   "execution_count": 2,
   "id": "fe59dd6d-187e-4e58-881d-37b1e62fe045",
   "metadata": {},
   "outputs": [],
   "source": [
    "def correct(s):\n",
    "    return s.replace('5','S').replace('0', 'O').replace('1','I')"
   ]
  },
  {
   "cell_type": "raw",
   "id": "bcd5d8e4-eb74-4f48-84ec-11763d1f728f",
   "metadata": {},
   "source": []
  },
  {
   "cell_type": "markdown",
   "id": "9bb98f34-e671-490e-bbf4-81487e56b117",
   "metadata": {},
   "source": [
    "# `3`\n",
    "### You will be given an array a and a value x. All you need to do is check whether the provided array contains the value.\n",
    "\n",
    "a can contain numbers or strings. x can be either.\n",
    "\n",
    "Return `true` if the array contains the value, `false` if not.\n"
   ]
  },
  {
   "cell_type": "code",
   "execution_count": 3,
   "id": "b7993b4e-6572-4d88-9554-8147fbdaab86",
   "metadata": {},
   "outputs": [],
   "source": [
    "def check(seq, elem):\n",
    "    return elem in seq"
   ]
  },
  {
   "cell_type": "raw",
   "id": "69f50188-fcf4-4535-91b7-5783c7f655ed",
   "metadata": {},
   "source": []
  },
  {
   "cell_type": "markdown",
   "id": "645de5c3-d8e1-433e-817f-1bd5a2bd4e37",
   "metadata": {},
   "source": [
    "# `4`\n",
    "### Build a function that returns an array of integers from n to 1 where n>0.\n",
    "\n",
    "Example : `n=5` --> `[5,4,3,2,1]`\n"
   ]
  },
  {
   "cell_type": "code",
   "execution_count": 4,
   "id": "76179e2d-4d9c-4a12-a29e-756a856b6781",
   "metadata": {},
   "outputs": [],
   "source": [
    "import numpy as np\n",
    "def reverse_seq(n):\n",
    "    return list(np.arange(n,0,-1))\n"
   ]
  },
  {
   "cell_type": "raw",
   "id": "2c77a97c-7307-41aa-b761-924076e2c123",
   "metadata": {},
   "source": []
  },
  {
   "cell_type": "markdown",
   "id": "aa006a50-1835-4915-ba75-47d7e19dbaf3",
   "metadata": {},
   "source": [
    "# `5`\n",
    "### Write a function that will accept two parameters: variable and type and check if type of variable is matching type. Return true if types match or false if not.\n"
   ]
  },
  {
   "cell_type": "code",
   "execution_count": 5,
   "id": "675740b2-866e-4f99-bdd0-56b5bd56cd72",
   "metadata": {
    "jupyter": {
     "source_hidden": true
    }
   },
   "outputs": [],
   "source": [
    "def type_validation(variable, _type): \n",
    "    return _type in str(type(variable))"
   ]
  },
  {
   "cell_type": "raw",
   "id": "bd743b42-4623-4d92-8e65-9430f276ed78",
   "metadata": {},
   "source": []
  },
  {
   "cell_type": "markdown",
   "id": "7df9c92b-c66d-4c4e-a98b-72c95970237c",
   "metadata": {},
   "source": [
    "# `6`\n",
    "### Code as fast as you can! You need to double the integer and return it.\n"
   ]
  },
  {
   "cell_type": "code",
   "execution_count": 6,
   "id": "552d5ff5-2199-438d-a5af-9b3e14da3a4a",
   "metadata": {},
   "outputs": [],
   "source": [
    "def double_integer(i):\n",
    "    return 2 * i"
   ]
  },
  {
   "cell_type": "raw",
   "id": "6c1185bc-b1b8-4c15-9f05-570e87fd3785",
   "metadata": {},
   "source": []
  },
  {
   "cell_type": "markdown",
   "id": "95e06be6-f724-4ce4-89ac-6d3e6411582f",
   "metadata": {},
   "source": [
    "# `7`\n",
    "### Count the numbers of digits d used in the writing of all the k**2.\n",
    "\n",
    "Implement the function taking `n` and `d` as parameters and returning this `count`.\n"
   ]
  },
  {
   "cell_type": "code",
   "execution_count": 7,
   "id": "6826f936-5a92-4b4f-a484-7567ac9a923e",
   "metadata": {},
   "outputs": [],
   "source": [
    "def nb_dig(n, d):\n",
    "    c = 0\n",
    "    d = str(d)  \n",
    "    for k in range(n + 1):\n",
    "        c += str(k * k).count(d) \n",
    "    return c"
   ]
  },
  {
   "cell_type": "raw",
   "id": "bdfcc9cd-e066-4962-af9a-835938878f5a",
   "metadata": {},
   "source": []
  },
  {
   "cell_type": "markdown",
   "id": "8d1d6538-a576-42bd-9688-95862d0e831b",
   "metadata": {},
   "source": [
    "# `8`\n",
    "### `altERnaTIng` cAsE <=> `ALTerNAtiNG` CaSe\n",
    " see the initial solution for details) such that each lowercase letter becomes uppercase and each uppercase letter becomes lowercase. For example:\n",
    "\n",
    "`\"hello world\"`.toAlternatingCase() === `\"HELLO WORLD\"`"
   ]
  },
  {
   "cell_type": "code",
   "execution_count": 8,
   "id": "60bf7e31-b9c4-438f-b4ce-80cea5a87728",
   "metadata": {},
   "outputs": [],
   "source": [
    "def to_alternating_case(string):\n",
    "    s = \"\"\n",
    "    for ch in string:\n",
    "        if str.islower(ch):\n",
    "            s+= str.upper(ch)\n",
    "        else :\n",
    "            s+= str.lower(ch) \n",
    "    return s\n"
   ]
  },
  {
   "cell_type": "raw",
   "id": "7f64a8e2-85fe-4f2f-813e-5a5f6d70898a",
   "metadata": {},
   "source": []
  },
  {
   "cell_type": "markdown",
   "id": "33b1c5fc-c76d-401f-b539-a8f0f8b05afd",
   "metadata": {},
   "source": [
    "# `9`\n",
    "### Complete the square sum function so that it squares each number passed into it and then sums the results together.\n",
    "\n"
   ]
  },
  {
   "cell_type": "code",
   "execution_count": 9,
   "id": "caa6fb3f-efe7-490d-8346-73816bbc861f",
   "metadata": {},
   "outputs": [],
   "source": [
    "def square_sum(numbers):\n",
    "    c=0\n",
    "    for i in numbers:\n",
    "        c+= i*i\n",
    "    return c    "
   ]
  },
  {
   "cell_type": "raw",
   "id": "3da855e7-67dd-44aa-af15-96e3422b883c",
   "metadata": {},
   "source": []
  },
  {
   "cell_type": "markdown",
   "id": "a6151014-6a72-4423-99bc-b96222f51f58",
   "metadata": {},
   "source": [
    "# `10`\n",
    "### ATM machines allow `4 or 6` digit PIN codes and PIN codes cannot contain anything but exactly 4 digits or exactly 6 digits.\n",
    "If the function is passed a valid PIN string, return `true`, else return `false`."
   ]
  },
  {
   "cell_type": "code",
   "execution_count": 10,
   "id": "1af8a1ef-12d1-40b1-8caf-f98e19667bf1",
   "metadata": {},
   "outputs": [],
   "source": [
    "def validate_pin(pin):\n",
    "    return (len(pin)== 4 or len(pin) == 6) and (pin.isnumeric())"
   ]
  },
  {
   "cell_type": "raw",
   "id": "fd3b078c-0b02-4ba5-953d-fd4e28acc74d",
   "metadata": {},
   "source": [
    "   "
   ]
  },
  {
   "cell_type": "markdown",
   "id": "55966c88-bf7b-4b9a-81e1-f57f029573de",
   "metadata": {},
   "source": [
    "# `11`\n",
    "### Given the triangle of consecutive odd numbers:\n",
    "\n",
    "               1\n",
    "            3     5\n",
    "         7     9    11\n",
    "      13    15    17    19\n",
    "    21    23    25    27    29\n",
    "...\n",
    "Calculate the sum of the numbers in the nth row of this triangle (starting at index 1) e.g.: (Input --> Output)\n",
    "\n",
    "`1 -->  1`\n",
    "||\n",
    "`2 --> 3 + 5 = 8`\n",
    "\n"
   ]
  },
  {
   "cell_type": "code",
   "execution_count": 11,
   "id": "3e429858-dc7d-43a1-b9c6-dff2a1a90ab1",
   "metadata": {},
   "outputs": [],
   "source": [
    "def row_sum_odd_numbers(n):\n",
    "    return n**3"
   ]
  },
  {
   "cell_type": "raw",
   "id": "48bfff8b-a41b-4bdc-b17c-78cbca5f7a96",
   "metadata": {},
   "source": []
  },
  {
   "cell_type": "markdown",
   "id": "ca310634-2b11-47ea-8c9b-5aa9b105518e",
   "metadata": {},
   "source": [
    "# `12`\n",
    "### Given two numbers and an arithmetic operator (the name of it, as a string), return the result of the two numbers having that operator used on them.\n",
    "\n",
    "a and b will both be positive integers, and a will always be the first number in the operation, and b always the second.\n",
    "\n",
    "The four operators are `\"add\"`, `\"subtract\"`, `\"divide\"`, `\"multiply\"`."
   ]
  },
  {
   "cell_type": "code",
   "execution_count": 12,
   "id": "614368a4-af36-4374-a7fa-330b91a5f069",
   "metadata": {},
   "outputs": [],
   "source": [
    "def arithmetic(a, b, operator):\n",
    "    if operator == \"add\":\n",
    "        return a + b\n",
    "    elif operator == \"subtract\":\n",
    "        return a - b\n",
    "    elif operator == \"multiply\":\n",
    "        return a * b\n",
    "    else :\n",
    "        return a / b\n",
    "\n",
    "\n",
    "# another way\n",
    "def arithmetic2(a, b, operator):\n",
    "    return {\n",
    "        'add': a + b,\n",
    "        'subtract': a - b,\n",
    "        'multiply': a * b,\n",
    "        'divide': a / b,\n",
    "    }[operator]"
   ]
  },
  {
   "cell_type": "raw",
   "id": "46413149-8565-48c6-a4a7-371185eb65a5",
   "metadata": {},
   "source": []
  },
  {
   "cell_type": "markdown",
   "id": "1c102000-4575-4e8b-a0c2-dbcc39b8a538",
   "metadata": {},
   "source": [
    " # `13`\n",
    "### Task:\n",
    "Given a list of integers, determine whether the sum of its elements is odd or even.\n",
    "\n",
    "Give your answer as a string matching `\"odd\"` or `\"even\"`.\n",
    "\n",
    "If the input array is empty consider it as: `[0] (array with a zero)`."
   ]
  },
  {
   "cell_type": "code",
   "execution_count": 13,
   "id": "868c4265-50c3-47a4-bc99-01ebc584e6ed",
   "metadata": {},
   "outputs": [],
   "source": [
    "def odd_or_even(arr):\n",
    "    return { '0' : \"even\",\n",
    "            '1' : \"odd\",\n",
    "        }[str(sum(arr)% 2) ]"
   ]
  },
  {
   "cell_type": "raw",
   "id": "1d3141f5-9fd9-4696-be96-e0f6d6dc05c4",
   "metadata": {},
   "source": []
  },
  {
   "cell_type": "markdown",
   "id": "91eac443-f19b-4c05-a2fb-0eb900bb3ed4",
   "metadata": {},
   "source": [
    "# `14`\n",
    "### Given a month as an integer from 1 to 12, return to which quarter of the year it belongs as an integer number.\n",
    "\n",
    "For example: month 2 (February), is part of the first quarter; month 6 (June), is part of the second quarter; and month 11 (November), is part of the fourth quarter.\n",
    "\n",
    "Constraint:\n",
    "\n",
    "`1 <= month <= 12`"
   ]
  },
  {
   "cell_type": "code",
   "execution_count": 14,
   "id": "118ec6c1-7ea6-4c7a-a946-e1094304cedb",
   "metadata": {},
   "outputs": [],
   "source": [
    "def quarter_of(month):\n",
    "    return {\n",
    "        0 : 1,\n",
    "        1 :2 ,\n",
    "        2 :3 ,\n",
    "        3 :4 ,\n",
    "    }[(month-1) // 3]"
   ]
  },
  {
   "cell_type": "raw",
   "id": "c7070eea-b4ca-46d0-b39a-42d6b84c349d",
   "metadata": {},
   "source": []
  },
  {
   "cell_type": "markdown",
   "id": "4a8083a9-2915-473a-9f1d-2716ecaf9b5c",
   "metadata": {},
   "source": [
    "# `15`\n",
    "### In this kata you will create a function that takes in a list and returns a list with the reverse order.\n",
    "\n",
    "Examples (Input -> Output)\n",
    "* `[1, 2, 3, 4]  -> [4, 3, 2, 1]`\n",
    "* `[9, 2, 0, 7]  -> [7, 0, 2, 9]`"
   ]
  },
  {
   "cell_type": "code",
   "execution_count": 15,
   "id": "97ad1348-a1a8-41f3-82f2-67556f7be6ea",
   "metadata": {},
   "outputs": [],
   "source": [
    "# normal solution\n",
    "def reverse_list(l):\n",
    "    arr = []\n",
    "    for  i in range(len(l)-1 , -1 , -1):\n",
    "        arr.append(l[i])\n",
    "    return arr\n",
    "\n",
    "\n",
    "# Advanced solution\n",
    "def reverse_list(l):\n",
    "  return l[::-1]"
   ]
  },
  {
   "cell_type": "raw",
   "id": "e51e53b6-4606-44da-9846-f6aec4338c9d",
   "metadata": {},
   "source": []
  },
  {
   "cell_type": "markdown",
   "id": "94e8f9ed-a270-4514-a6fd-e7c3610b1020",
   "metadata": {},
   "source": [
    "# `16`\n",
    "### Write function bmi that calculates body mass index (bmi = weight / height2).\n",
    "\n",
    "if `bmi <= 18.5` return `\"Underweight\"`\n",
    "\n",
    "if `bmi <= 25.0` return `\"Normal\"`\n",
    "\n",
    "if `bmi <= 30.0` return `\"Overweight\"`\n",
    "\n",
    "if `bmi > 30` return `\"Obese\"`"
   ]
  },
  {
   "cell_type": "code",
   "execution_count": 16,
   "id": "6d4a0a1f-3d4c-43db-9747-3ad719cdcfc7",
   "metadata": {},
   "outputs": [],
   "source": [
    "# normal solution\n",
    "def bmi(weight, height):\n",
    "    bm = weight / (height **2)\n",
    "    if bm <= 18.5:\n",
    "        return \"Underweight\"\n",
    "\n",
    "    if bm <= 25.0 :\n",
    "        return \"Normal\"\n",
    "\n",
    "    if bm <= 30.0:\n",
    "        return \"Overweight\"\n",
    "\n",
    "    if bm > 30 :\n",
    "        return \"Obese\"\n",
    "\n",
    "# Advanced solution\n",
    "def bmi(weight, height):\n",
    "    b = weight / height ** 2\n",
    "    return ['Underweight', 'Normal', 'Overweight', 'Obese'][(b > 30) + (b > 25) + (b > 18.5)]\n",
    "    "
   ]
  },
  {
   "cell_type": "raw",
   "id": "617b81da-fb1f-4c81-8370-d3ca92db9485",
   "metadata": {},
   "source": []
  },
  {
   "cell_type": "markdown",
   "id": "c074dbfa-26f2-4171-ab1a-98404735baee",
   "metadata": {},
   "source": [
    "# `17`\n",
    "###  Write a function that returns a string in which firstname is swapped with last name.\n",
    "\n",
    "Example(Input --> Output)\n",
    "\n",
    "`\"john McClane\" --> \"McClane john\"`"
   ]
  },
  {
   "cell_type": "code",
   "execution_count": 17,
   "id": "c38bc62e-1681-4508-8b1f-fe3ae010c311",
   "metadata": {},
   "outputs": [],
   "source": [
    "def name_shuffler(str_):\n",
    "    return ' '.join(str_.split(' ')[::-1])"
   ]
  },
  {
   "cell_type": "raw",
   "id": "469fe3ce-d10e-4cdb-b33b-af10561bf83b",
   "metadata": {},
   "source": []
  },
  {
   "cell_type": "markdown",
   "id": "4ed6b666-886e-4d79-8f01-09e292c710d8",
   "metadata": {},
   "source": [
    "# `18`\n",
    "### Write a function which takes a number and returns the corresponding ASCII char for that value.\n",
    "\n",
    "Example:\n",
    "\n",
    "`65 --> 'A'`\n",
    "`97 --> 'a'`\n",
    "`48 --> '0`"
   ]
  },
  {
   "cell_type": "code",
   "execution_count": 18,
   "id": "347b994e-79a3-416d-8edb-76a795557bf2",
   "metadata": {},
   "outputs": [],
   "source": [
    "def get_char(c):\n",
    "    return chr(c)\n",
    "  \n"
   ]
  },
  {
   "cell_type": "raw",
   "id": "7b7f066f-227d-4d39-96ab-234815b62050",
   "metadata": {},
   "source": []
  },
  {
   "cell_type": "markdown",
   "id": "6af71efb-2687-460a-82a5-3a50859866f5",
   "metadata": {},
   "source": [
    "# `19`\n",
    "### Americans are odd people: in their buildings, the first floor is actually the ground floor and there is no 13th floor (due to superstition).\n",
    "\n",
    "Write a function that given a floor in the american system returns the floor in the european system.\n",
    "\n",
    "With the 1st floor being replaced by the ground floor and the 13th floor being removed, the numbers move down to take their place. In case of above 13, they move down by two because there are two omitted numbers below them.\n",
    "\n",
    "Basements (negatives) stay the same as the universal level.\n",
    "\n",
    "More information here\n",
    "\n",
    "Examples\n",
    "`1  =>  0 `\n",
    "`0  =>  0`\n",
    "`5  =>  4`\n",
    "`15  =>  13`\n",
    "`-3  =>  -3`"
   ]
  },
  {
   "cell_type": "code",
   "execution_count": 19,
   "id": "896fdd99-b124-4fb1-8fbb-610099f56128",
   "metadata": {},
   "outputs": [],
   "source": [
    "def get_real_floor(n):\n",
    "    if n <= 0 :\n",
    "        return n\n",
    "    if n <= 13 :\n",
    "        return n-1\n",
    "    if n > 13 :\n",
    "        return n -2"
   ]
  },
  {
   "cell_type": "raw",
   "id": "2732587f-d3bd-41e4-9ec8-df59105507c1",
   "metadata": {},
   "source": []
  },
  {
   "cell_type": "markdown",
   "id": "0d628832-d030-43fe-a188-83f54f377203",
   "metadata": {},
   "source": [
    "# `20`\n",
    "### Complete the solution so that it splits the string into pairs of two characters. If the string contains an odd number of characters then it should replace the missing second character of the final pair with an underscore ('_').\n",
    "\n",
    "Examples:\n",
    "\n",
    "* `'abc' =>  ['ab', 'c_']`\n",
    "* `'abcdef' => ['ab', 'cd', 'ef'] `"
   ]
  },
  {
   "cell_type": "code",
   "execution_count": 20,
   "id": "e3b7bf93-589a-4258-8e6a-7a7623075b5b",
   "metadata": {},
   "outputs": [],
   "source": [
    "def solution(s):\n",
    "    arr = []\n",
    "    for i in range(0, len(s) , 2):\n",
    "        if i == len(s) -1:\n",
    "            arr.append(s[i]+'_')  \n",
    "        else:\n",
    "            arr.append(s[i:i+2])\n",
    "                \n",
    "        \n",
    "    return arr\n",
    "        "
   ]
  },
  {
   "cell_type": "raw",
   "id": "af9f7c59-8410-4ed7-b754-6ac3e006b4d8",
   "metadata": {},
   "source": []
  },
  {
   "cell_type": "markdown",
   "id": "0fbde431-5843-4654-ba3c-61190a570d5f",
   "metadata": {},
   "source": [
    "# `21`\n",
    "### You are given an array (which will have a length of at least 3, but could be very large) containing integers. The array is either entirely comprised of odd integers or entirely comprised of even integers except for a single integer N. Write a method that takes the array as an argument and returns this \"outlier\" N.\n",
    "\n",
    "Examples\n",
    "\n",
    "`[2, 4, 0, 100, 4, 11, 2602, 36]` -->  11 (the only odd number)\n",
    "\n",
    "`[160, 3, 1719, 19, 11, 13, -21]`--> 160 (the only even number)"
   ]
  },
  {
   "cell_type": "code",
   "execution_count": 21,
   "id": "07bf60e6-36cb-4e0b-9b49-9fb433cc271f",
   "metadata": {},
   "outputs": [],
   "source": [
    "def find_outlier(integers):\n",
    "    even =[]\n",
    "    odd = []\n",
    "    for i in integers:\n",
    "        even.append(i) if (i%2) == 0 else odd.append(i)\n",
    "    return even[0] if len(even) < len(odd) else odd[0]"
   ]
  },
  {
   "cell_type": "raw",
   "id": "4f5c42c7-06f1-404e-8446-d113a04309ec",
   "metadata": {},
   "source": []
  },
  {
   "cell_type": "markdown",
   "id": "87400b55-185f-41d3-abbf-b562b7eabf79",
   "metadata": {},
   "source": [
    "# `22`\n",
    "### You take your son to the forest to see the monkeys. You know that there are a certain number there (n), but your son is too young to just appreciate the full number, he has to start counting them from 1.\n",
    "\n",
    "As a good parent, you will sit and count with him. Given the number (n), populate an array with all numbers up to and including that number, but excluding zero.\n",
    "\n",
    "For example(Input --> Output):\n",
    "\n",
    "10 --> `[1, 2, 3, 4, 5, 6, 7, 8, 9, 10]`\n",
    " 1 --> `[1]`"
   ]
  },
  {
   "cell_type": "code",
   "execution_count": 22,
   "id": "b8e6490f-48f8-4044-9458-2472c8f1f30e",
   "metadata": {},
   "outputs": [],
   "source": [
    "\n",
    "   def monkey_count(n):\n",
    "    return [x for x in range(1,n+1)]        \n",
    "        "
   ]
  },
  {
   "cell_type": "raw",
   "id": "2167a9c1-b681-44de-8175-47089ee307cc",
   "metadata": {},
   "source": []
  },
  {
   "cell_type": "markdown",
   "id": "83e8d3a6-c353-48d7-8459-c0db89019f72",
   "metadata": {},
   "source": [
    "# `23`\n",
    "### Jaden Smith, the son of Will Smith, is the star of films such as The Karate Kid (2010) and After Earth (2013). Jaden is also known for some of his philosophy that he delivers via Twitter. When writing on Twitter, he is known for almost always capitalizing every word. For simplicity, you'll have to capitalize each word, check out how contractions are expected to be in the example below.\n",
    "\n",
    "Your task is to convert strings to how they would be written by Jaden Smith. The strings are actual quotes from Jaden Smith, but they are not capitalized in the same way he originally typed them.\n",
    "\n",
    "Example:\n",
    "\n",
    "Not Jaden-Cased: `\"How can mirrors be real if our eyes aren't real\"`\n",
    "Jaden-Cased:     `\"How Can Mirrors Be Real If Our Eyes Aren't Real\"`"
   ]
  },
  {
   "cell_type": "code",
   "execution_count": 23,
   "id": "be178a24-cafc-4d06-ba47-17d45a926ce2",
   "metadata": {},
   "outputs": [],
   "source": [
    "def to_jaden_case(string):\n",
    "    return ' '.join([str.upper(x[0])+str.lower(x[1:]) for  x in (string.split(' '))])"
   ]
  },
  {
   "cell_type": "raw",
   "id": "0b57160f-8d70-4028-934f-9e204fca9357",
   "metadata": {},
   "source": []
  },
  {
   "cell_type": "markdown",
   "id": "abd9e673-6e52-4785-8927-4a7836dbe8c7",
   "metadata": {},
   "source": [
    "# `24`\n",
    "### The 26 letters of the English alphabets are randomly divided into 5 groups of 5 letters with the remaining letter being ignored. Each of the group is assigned a score of more than 0. The ignored letter always has a score of 0.\n",
    "\n",
    "With this kata, write a function to work out the score of a name that is passed to the function.\n",
    "\n",
    "The output should be returned as an object:\n",
    "\n",
    "{'Mary Jane':20}\n",
    "Only letters have a score. Spaces do not.\n",
    "\n",
    "You can safely assume that name does not contain any punctuations or symbols. There will also be no empty string or null value.\n",
    "\n",
    "A static alpha object for testing has been preloaded for your convenience in the following format:\n",
    "\n",
    "`{'ABCDE':1, 'FGHIJ':2, 'KLMNO':3, 'PQRST':4, 'UVWXY':5}`\n",
    "\n",
    "`'Z' is ignored`"
   ]
  },
  {
   "cell_type": "code",
   "execution_count": 24,
   "id": "3a60d925-dced-47f6-932a-49450900809d",
   "metadata": {},
   "outputs": [],
   "source": [
    "#from preloaded import alpha \n",
    "\n",
    "def name_score(name):\n",
    "    sc = dict.fromkeys(\"ABCDE\", 1) | dict.fromkeys(\"FGHIJ\", 2) | \\\n",
    "         dict.fromkeys(\"KLMNO\", 3) | dict.fromkeys(\"PQRST\", 4) | \\\n",
    "         dict.fromkeys(\"UVWXY\", 5) | {'Z': 0, ' ': 0}\n",
    "    return {name: sum(sc.get(ch) for ch in name.upper())}\n"
   ]
  },
  {
   "cell_type": "code",
   "execution_count": null,
   "id": "3f9d75c8-519e-4388-8fc3-6922bbcbb0fb",
   "metadata": {},
   "outputs": [],
   "source": []
  },
  {
   "cell_type": "markdown",
   "id": "d70db029-71f9-40aa-b63e-d8f83400ce31",
   "metadata": {},
   "source": [
    "# `25`\n",
    "### Convert Decimal Degrees to Degrees, Minutes, Seconds.\n",
    "\n",
    "Remember: 1 degree = 60 minutes; 1 minute = 60 seconds.\n",
    "\n",
    "Input: Positive number.\n",
    "\n",
    "Output: Array [degrees, minutes, seconds]. E.g [30, 25, 25]\n",
    "\n",
    "Trailing zeroes should be omitted in the output. E.g"
   ]
  },
  {
   "cell_type": "code",
   "execution_count": 25,
   "id": "d8eea37b-6e43-4f70-a78c-a33fcd7a485c",
   "metadata": {},
   "outputs": [],
   "source": [
    "def convert(decimal_degrees):\n",
    "    degrees = int(decimal_degrees)\n",
    "    remaining = decimal_degrees - degrees\n",
    "    \n",
    "    minutes = int(remaining * 60)\n",
    "    seconds = round((remaining * 60 - minutes) * 60)\n",
    "    if seconds == 60:\n",
    "        minutes+=1\n",
    "        seconds =0\n",
    "    if minutes == 60:\n",
    "        degrees+=1\n",
    "        minutes =0\n",
    "    if seconds == 0:\n",
    "        if minutes == 0:\n",
    "            return [degrees]\n",
    "        else:\n",
    "            return [degrees, minutes]\n",
    "    else:\n",
    "        return [degrees, minutes, seconds]"
   ]
  },
  {
   "cell_type": "raw",
   "id": "fcfbd298-d6fe-4102-a292-283c01f5d027",
   "metadata": {},
   "source": []
  },
  {
   "cell_type": "markdown",
   "id": "18fafc5a-bfa7-4fd3-a71e-4f08a080a1c6",
   "metadata": {},
   "source": [
    "# `26`\n",
    "### The rgb function is incomplete. Complete it so that passing in RGB decimal values will result in a hexadecimal representation being returned. Valid decimal values for RGB are 0 - 255. Any values that fall out of that range must be rounded to the closest valid value.\n",
    "\n",
    "Note: Your answer should always be 6 characters long, the shorthand with 3 will not work here.\n",
    "\n",
    "Examples (input --> output):\n",
    "\n",
    "`255, 255, 255 ` --> `\"FFFFFF\"`\n",
    "\n",
    "`255, 255, 300` --> `\"FFFFFF\"`\n",
    "\n",
    "`0, 0, 0     `  --> `\"000000\"`\n",
    "\n",
    "`148, 0, 211`   --> `\"9400D3\"`"
   ]
  },
  {
   "cell_type": "code",
   "execution_count": 26,
   "id": "a64f516e-9cae-45c3-8fb1-814d80e905c6",
   "metadata": {},
   "outputs": [],
   "source": [
    "def rgb(r, g, b):\n",
    "    def d2h(n):\n",
    "        res =\"\"\n",
    "        if n >=255 :\n",
    "            return \"FF\"\n",
    "        if n < 0:\n",
    "            return \"00\"\n",
    "        if (n //16) < 10:\n",
    "            res+= str(n //16)\n",
    "        else:\n",
    "            res+={10:'A',11:'B' , 12 :'C' ,13 :'D' ,14:'E' ,15:'F'}[ n// 16]\n",
    "        if(n%16) < 10:\n",
    "            res += str(n %16)\n",
    "        else:\n",
    "            res +={10:'A',11:'B' , 12 :'C' ,13 :'D' ,14:'E' ,15:'F'}[ n % 16]\n",
    "        return res\n",
    "    return d2h(r) + d2h(g) + d2h(b)"
   ]
  },
  {
   "cell_type": "raw",
   "id": "b9d8a214-84d2-4757-b319-0a9b5d4f007f",
   "metadata": {},
   "source": []
  },
  {
   "cell_type": "markdown",
   "id": "663e2a67-068b-4472-ace0-4cff408be6a7",
   "metadata": {},
   "source": [
    "# `27`\n",
    "### Once upon a time, on a way through the old wild mountainous west,…\n",
    "… a man was given directions to go from one point to another. The directions were \"NORTH\", \"SOUTH\", \"WEST\", \"EAST\". Clearly \"NORTH\" and \"SOUTH\" are opposite, \"WEST\" and \"EAST\" too.\n",
    "\n",
    "Going to one direction and coming back the opposite direction right away is a needless effort. Since this is the wild west, with dreadful weather and not much water, it's important to save yourself some energy, otherwise you might die of thirst!\n",
    "\n",
    "How I crossed a mountainous desert the smart way.\n",
    "The directions given to the man are, for example, the following (depending on the language):\n",
    "\n",
    "`[\"NORTH\", \"SOUTH\", \"SOUTH\", \"EAST\", \"WEST\", \"NORTH\", \"WEST\"]`.\n",
    "or\n",
    "`{ \"NORTH\", \"SOUTH\", \"SOUTH\", \"EAST\", \"WEST\", \"NORTH\", \"WEST\" }`;\n",
    "or\n",
    "`[North, South, South, East, West, North, West]`"
   ]
  },
  {
   "cell_type": "code",
   "execution_count": 27,
   "id": "001eee16-3ebe-46cb-9d49-ececa5eea6f0",
   "metadata": {},
   "outputs": [],
   "source": [
    "def dir_reduc(arr):\n",
    "    li = []\n",
    "    for i in arr:\n",
    "        if li and ((li[len(li)-1] == 'NORTH' and i == 'SOUTH') or (li[len(li)-1] == 'SOUTH' and i == 'NORTH') or  (li[len(li)-1] == 'EAST' and i == 'WEST') or (li[len(li)-1] == 'WEST' and i == 'EAST')) :\n",
    "            li.pop()\n",
    "        else:\n",
    "            li.append(i)\n",
    "    return li\n",
    "        "
   ]
  },
  {
   "cell_type": "raw",
   "id": "fa6aafac-98ac-4b17-90b2-a11ac3db5a24",
   "metadata": {},
   "source": []
  },
  {
   "cell_type": "markdown",
   "id": "e7f4bd5d-07da-4f39-a0fc-8cea7c371e3e",
   "metadata": {},
   "source": [
    "# `28`\n",
    "### Well met with Fibonacci bigger brother, AKA Tribonacci.\n",
    "\n",
    "As the name may already reveal, it works basically like a Fibonacci, but summing the last 3 (instead of 2) numbers of the sequence to generate the next. And, worse part of it, regrettably I won't get to hear non-native Italian speakers trying to pronounce it :(\n",
    "\n",
    "So, if we are to start our Tribonacci sequence with `[1, 1, 1]` as a starting input (AKA signature), we have this sequence:\n",
    "\n",
    "`[1, 1 ,1, 3, 5, 9, 17, 31, ...]`\n",
    "\n",
    "`[0, 0, 1, 1, 2, 4, 7, 13, 24, ...]`"
   ]
  },
  {
   "cell_type": "code",
   "execution_count": 28,
   "id": "3be9a7f0-bfb4-4293-ad48-7c78a6bee6d5",
   "metadata": {},
   "outputs": [],
   "source": [
    "def tribonacci(signature, n):\n",
    "    if n <3:\n",
    "        return signature[ : n]\n",
    "        \n",
    "    l1 = 0\n",
    "    l2 = 1\n",
    "    l3 =2\n",
    "    \n",
    "    arr= signature\n",
    "    for i in range(n-3):\n",
    "        arr.append(arr[l1] + arr[l2] + arr[l3])\n",
    "        l1+= 1    \n",
    "        l2+= 1    \n",
    "        l3+= 1    \n",
    "    return arr"
   ]
  },
  {
   "cell_type": "raw",
   "id": "34c6ad56-6469-4d2b-9d43-b879e0b14020",
   "metadata": {},
   "source": []
  },
  {
   "cell_type": "markdown",
   "id": "4a533671-a5c5-4cab-8123-40fb60e0d3f6",
   "metadata": {},
   "source": [
    "# `29`\n",
    "### Given a set of numbers, return the additive inverse of each. Each positive becomes negatives, and the negatives become positives.\n",
    "\n",
    "`[1, 2, 3, 4, 5]` --> `[-1, -2, -3, -4, -5]`\n",
    "\n",
    "`[1, -2, 3, -4, 5]` --> `[-1, 2, -3, 4, -5]`\n",
    "\n",
    "`[]` --> `[]`"
   ]
  },
  {
   "cell_type": "code",
   "execution_count": 29,
   "id": "36f0f556-563b-4802-b69e-683b8134ed32",
   "metadata": {},
   "outputs": [],
   "source": [
    "def invert(lst):\n",
    "    return [-x for x in lst ]"
   ]
  },
  {
   "cell_type": "raw",
   "id": "ca4003dd-4485-4bfc-b032-95978d0afe04",
   "metadata": {},
   "source": []
  },
  {
   "cell_type": "markdown",
   "id": "116779a6-f399-4eca-8e4c-bf4a88ef6719",
   "metadata": {},
   "source": [
    "# `30`\n",
    "####  I'm new to coding and now I want to get the sum of two arrays... Actually the sum of all their elements. I'll appreciate for your help.\n",
    "\n",
    "P.S. Each array includes only integer numbers. Output is a number too."
   ]
  },
  {
   "cell_type": "code",
   "execution_count": 30,
   "id": "9a7bb768-2160-47cd-8b74-0ccfa3760468",
   "metadata": {},
   "outputs": [],
   "source": [
    "def array_plus_array(arr1,arr2):\n",
    "    return sum (arr1) + sum(arr2)"
   ]
  },
  {
   "cell_type": "raw",
   "id": "25c728c5-9185-41fe-8734-fb133bf11463",
   "metadata": {},
   "source": []
  },
  {
   "cell_type": "markdown",
   "id": "2f4fa8cc-7172-414f-9fd6-18f8f82cf328",
   "metadata": {},
   "source": [
    "## `31`\n",
    "##### Create a function that takes a positive integer and returns the next bigger number that can be formed by rearranging its digits. For example:\n",
    "\n",
    "  12 ==> 21 \n",
    "  \n",
    " 513 ==> 531\n",
    " \n",
    "2017 ==> 2071\n",
    "\n",
    "If the digits can't be rearranged to form a bigger number, return -1 (or nil in Swift, None in Rust):\n",
    "\n",
    "  9 ==> -1\n",
    "  \n",
    "111 ==> -1\n",
    "\n",
    "531 ==> -1 "
   ]
  },
  {
   "cell_type": "code",
   "execution_count": 31,
   "id": "c9c07e46-744d-4173-9c9d-7df496daad2f",
   "metadata": {},
   "outputs": [],
   "source": [
    "def next_bigger(n):\n",
    "    s = list(str(n))  \n",
    "    length = len(s)\n",
    "    \n",
    "    i = length - 2\n",
    "    while i >= 0 and s[i] >= s[i + 1]:\n",
    "        i -= 1\n",
    "    \n",
    "    if i == -1:\n",
    "        return -1  \n",
    "    \n",
    "    j = length - 1\n",
    "    while s[j] <= s[i]:\n",
    "        j -= 1\n",
    "    \n",
    "    \n",
    "    s[i], s[j] = s[j], s[i]\n",
    "    \n",
    "    s = s[:i + 1] + sorted(s[i + 1:])\n",
    "    \n",
    "    return int(\"\".join(s))\n"
   ]
  },
  {
   "cell_type": "raw",
   "id": "c87acee0-706c-454c-92c1-e9e5bfdcdca2",
   "metadata": {},
   "source": []
  },
  {
   "cell_type": "markdown",
   "id": "024217ac-452a-4ce2-9bb1-e0be564ea30b",
   "metadata": {},
   "source": [
    "## `32` \n",
    "#### You are given a binary tree:\n",
    "\n",
    "class Node:\n",
    "    def __init__(self, L, R, n):\n",
    "        self.left = L\n",
    "        self.right = R\n",
    "        self.value = n\n",
    "Your task is to return the list with elements from tree sorted by levels, which means the root element goes first, then root children (from left to right) are second and third, and so on.\n",
    "\n",
    "Return empty list if root is None.\n",
    "\n",
    "Example 1 - following tree:\n",
    "\n",
    "                 2\n",
    "            8        9\n",
    "          1  3     4   5\n",
    "          \n",
    "Should return following list:\n",
    "\n",
    "`[2,8,9,1,3,4,5]`"
   ]
  },
  {
   "cell_type": "code",
   "execution_count": 32,
   "id": "ca430d4b-43ed-4e75-acae-57bbf6dd91df",
   "metadata": {},
   "outputs": [],
   "source": [
    "from collections import deque\n",
    "\n",
    "def tree_by_levels(root):\n",
    "    if not root:\n",
    "        return []\n",
    "    \n",
    "    result = []\n",
    "    queue = deque([root])\n",
    "    \n",
    "    while queue:\n",
    "        node = queue.popleft()\n",
    "        result.append(node.value)\n",
    "        \n",
    "        if node.left:\n",
    "            queue.append(node.left)\n",
    "        if node.right:\n",
    "            queue.append(node.right)\n",
    "    \n",
    "    return result\n"
   ]
  },
  {
   "cell_type": "raw",
   "id": "68334112-cae6-42bc-ace4-99b854ab7cc6",
   "metadata": {},
   "source": []
  },
  {
   "cell_type": "markdown",
   "id": "a22961e5-9890-43dc-8d4a-438c4ef2a3cf",
   "metadata": {},
   "source": [
    "## `33`\n",
    "#### Story\n",
    "Ben has a very simple idea to make some profit: he buys something and sells it again. Of course, this wouldn't give him any profit at all if he was simply to buy and sell it at the same price. Instead, he's going to buy it for the lowest possible price and sell it at the highest.\n",
    "\n",
    "Task\n",
    "Write a function that returns both the minimum and maximum number of the given list/array.\n",
    "\n",
    "Examples (Input --> Output)\n",
    "\n",
    "[1,2,3,4,5] --> [1,5]\n",
    "\n",
    "[2334454,5] --> [5,2334454]\n",
    "\n",
    "[1]         --> [1,1]"
   ]
  },
  {
   "cell_type": "code",
   "execution_count": 33,
   "id": "291adf8c-e974-4eb6-b174-4660cfc486d7",
   "metadata": {},
   "outputs": [],
   "source": [
    "def min_max(lst):\n",
    "    return [min(lst) , max(lst)]"
   ]
  },
  {
   "cell_type": "raw",
   "id": "443a06ca-965e-41b0-9959-572b551f710f",
   "metadata": {},
   "source": []
  },
  {
   "cell_type": "markdown",
   "id": "d8ea8ace-8a55-4435-b3d5-958150c8d95d",
   "metadata": {},
   "source": [
    "## `34`\n",
    "#### Let's play! You have to return which player won! In case of a draw return Draw!.\n",
    "\n",
    "Examples(Input1, Input2 --> Output):\n",
    "\n",
    "\"scissors\", \"paper\" --> \"Player 1 won!\"\n",
    "\n",
    "\"scissors\", \"rock\" --> \"Player 2 won!\"\n",
    "\n",
    "\"paper\", \"paper\" --> \"Draw!\""
   ]
  },
  {
   "cell_type": "code",
   "execution_count": 34,
   "id": "fa8c6a43-767b-462f-9510-6b233cf91dcb",
   "metadata": {},
   "outputs": [],
   "source": [
    "def rps(p1, p2):\n",
    "    dict ={\"scissors\" : 1, \"rock\" :2 , \"paper\" : 3}\n",
    "    return {1:\"Player 1 won!\" ,-1 : \"Player 2 won!\" , 0: \"Draw!\" ,-2: \"Player 1 won!\" ,2:\"Player 2 won!\" } [(dict[p1] - dict[p2])]"
   ]
  },
  {
   "cell_type": "raw",
   "id": "7ee8c0e8-f825-48b0-8320-ce21aff3addf",
   "metadata": {},
   "source": []
  },
  {
   "cell_type": "markdown",
   "id": "736ce59a-976e-4db3-b9ee-ba6f25020996",
   "metadata": {},
   "source": [
    "## `35`\n",
    "#### Exclusive \"or\" (xor) Logical Operator\n",
    "Overview\n",
    "In some scripting languages like PHP, there exists a logical operator (e.g. &&, ||, and, or, etc.) called the \"Exclusive Or\" (hence the name of this Kata). The exclusive or evaluates two booleans. It then returns true if exactly one of the two expressions are true, false otherwise. For example:\n",
    "\n",
    "`false xor false == false` // since both are false\n",
    "\n",
    "`true xor false == true` // exactly one of the two expressions are true\n",
    "\n",
    "`false xor true == true` // exactly one of the two expressions are true\n",
    "\n",
    "`true xor true == false` // Both are true.  \"xor\" only returns true if EXACTLY"
   ]
  },
  {
   "cell_type": "code",
   "execution_count": 35,
   "id": "cc38c22c-5cf0-43b5-9857-edaad9ace8da",
   "metadata": {},
   "outputs": [],
   "source": [
    "def xor(a,b):\n",
    "    return a != b"
   ]
  },
  {
   "cell_type": "raw",
   "id": "ecf9c70c-2d4e-45a5-a470-223b056ae2cd",
   "metadata": {},
   "source": []
  },
  {
   "cell_type": "markdown",
   "id": "30035703-46ab-403b-9a8c-41a3a403067b",
   "metadata": {},
   "source": [
    "## `36`\n",
    "#### You will be given a list of strings. You must sort it alphabetically (case-sensitive, and based on the ASCII values of the chars) and then return the first value.\n",
    "\n",
    "The returned value must be a string, and have `\"***\"` between each of its letters.\n",
    "\n",
    "You should not remove or add elements from/to the array."
   ]
  },
  {
   "cell_type": "code",
   "execution_count": 36,
   "id": "b83c02a0-1bc1-427a-aa08-05a6948aceed",
   "metadata": {},
   "outputs": [],
   "source": [
    "def two_sort(array):\n",
    "    return \"***\".join(sorted(array)[0])"
   ]
  },
  {
   "cell_type": "raw",
   "id": "7bffdc9c-fb14-4cd9-a3fc-8f371190ca0e",
   "metadata": {},
   "source": []
  },
  {
   "cell_type": "markdown",
   "id": "3b9dc83f-adf0-480e-a48b-e75832058195",
   "metadata": {},
   "source": [
    "## `37`\n",
    "#### Make a function that returns the value multiplied by 50 and increased by 6. If the value entered is a string it should return \"Error\"."
   ]
  },
  {
   "cell_type": "code",
   "execution_count": 37,
   "id": "90265b95-edc4-41d2-ac9b-2fabb735d6d0",
   "metadata": {},
   "outputs": [],
   "source": [
    "def problem(a):\n",
    "    try:\n",
    "        return a * 50 + 6\n",
    "    except:\n",
    "        return \"Error\""
   ]
  },
  {
   "cell_type": "raw",
   "id": "8bb3eb6b-8e5c-4fea-a47f-d4f7a25e8030",
   "metadata": {},
   "source": []
  },
  {
   "cell_type": "markdown",
   "id": "90e4f1a2-58b2-4f14-be0a-878ce3860f89",
   "metadata": {},
   "source": [
    "## `38` \n",
    "#### Given an array (arr) as an argument complete the function countSmileys that should return the total number of smiling faces.\n",
    "\n",
    "Rules for a smiling face:\n",
    "\n",
    "Each smiley face must contain a valid pair of eyes. Eyes can be marked as : or ;\n",
    "A smiley face can have a nose but it does not have to. Valid characters for a nose are - or ~\n",
    "Every smiling face must have a smiling mouth that should be marked with either ) or D\n",
    "No additional characters are allowed except for those mentioned.\n",
    "\n",
    "Valid smiley face examples: :) :D ;-D :~)\n",
    "Invalid smiley faces: ;( :> :} :]\n",
    "\n",
    "Example\n",
    "\n",
    "countSmileys`([':)', ';(', ';}', ':-D']);`       // should return 2;\n",
    "\n",
    "countSmileys`([';D', ':-(', ':-)', ';~)']);`     // should return 3;\n",
    "\n",
    "countSmileys`([';]', ':[', ';*', ':$', ';-D']);` // should return 1;"
   ]
  },
  {
   "cell_type": "code",
   "execution_count": 38,
   "id": "43052537-37f5-4b68-8f95-17711c907884",
   "metadata": {},
   "outputs": [],
   "source": [
    "def contain(s , ch):\n",
    "    return s.find(ch) != -1\n",
    "\n",
    "def count_smileys(arr):\n",
    "    count = 0\n",
    "    for s in arr:\n",
    "        if contain(s , ')') or contain(s , 'D') :\n",
    "            if contain(s , ':') or contain(s , ';'):\n",
    "                if len(s) == 2:\n",
    "                    count += 1\n",
    "                elif (contain(s , '-') or contain(s , '~')) and len(s) == 3:\n",
    "                    count +=1 \n",
    "                else :\n",
    "                    continue               \n",
    "    return count\n",
    "            "
   ]
  },
  {
   "cell_type": "raw",
   "id": "24024fe2-a137-4a90-b6b1-992959600b53",
   "metadata": {},
   "source": []
  },
  {
   "cell_type": "markdown",
   "id": "704814ef-4463-46cf-873f-be5b945421f2",
   "metadata": {},
   "source": [
    "## `39` \n",
    "#### Write Number in Expanded Form\n",
    "You will be given a number and you will need to return it as a string in Expanded Form. For example:\n",
    "\n",
    "  ` 12 --> \"10 + 2\"`\n",
    "  \n",
    "   `45 --> \"40 + 5\"`\n",
    "   \n",
    "`70304 --> \"70000 + 300 + 4\"`"
   ]
  },
  {
   "cell_type": "code",
   "execution_count": 39,
   "id": "58ff6699-0343-4d2b-8b8e-3bfbc0999e46",
   "metadata": {},
   "outputs": [],
   "source": [
    "def expanded_form(n):\n",
    "    s = \"\"\n",
    "    c = 1\n",
    "    while n != 0:\n",
    "        if n%10 != 0:\n",
    "            s = ' + ' + str((n %10) * c) + s\n",
    "            \n",
    "        c *= 10\n",
    "        n = n//10\n",
    "    \n",
    "    return s[3:]\n",
    "            "
   ]
  },
  {
   "cell_type": "raw",
   "id": "bb29d398-7859-44d1-8569-bc61e154b9f7",
   "metadata": {},
   "source": []
  },
  {
   "cell_type": "markdown",
   "id": "6db19fa3-274f-4e4f-a9ad-e799b1f9d93d",
   "metadata": {},
   "source": [
    "## `40` \n",
    "#### Given a string str, reverse it and omit all non-alphabetic characters.\n",
    "\n",
    "Example\n",
    "For str = `\"krishan\"`, the output should be `\"nahsirk\"`.\n",
    "\n",
    "For str = `\"ultr53o?n\"`, the output should be `\"nortlu\"`.\n",
    "\n",
    "Input/Output\n",
    "\n",
    "[input] string str\n",
    "\n",
    "A string consists of lowercase latin letters, digits and symbols.\n",
    "\n",
    "[output] a string"
   ]
  },
  {
   "cell_type": "code",
   "execution_count": 40,
   "id": "c11b941a-8895-40bd-a003-6648f64f279b",
   "metadata": {},
   "outputs": [],
   "source": [
    "def reverse_letter(st):\n",
    "    s = \"\"\n",
    "    for ch in st:\n",
    "        if ch.isalpha():\n",
    "            s+= ch\n",
    "    return s[::-1]"
   ]
  },
  {
   "cell_type": "raw",
   "id": "25e739a2-c918-4990-8adc-b184dd37a2cb",
   "metadata": {},
   "source": []
  },
  {
   "cell_type": "markdown",
   "id": "c0366f7f-7531-42b7-a43d-8d0ba7c240dc",
   "metadata": {},
   "source": [
    "# `41`\n",
    "#### Your goal in this kata is to implement a difference function, which subtracts one list from another and returns the result.\n",
    "\n",
    "It should remove all values from list a, which are present in list b keeping their order.\n",
    "\n",
    "array_diff(`[1,2],[1]`) == `[2]`\n",
    "\n",
    "If a value is present in b, all of its occurrences must be removed from the other:\n",
    "\n",
    "array_diff(`[1,2,2,2,3],[2]`) == `[1,3]`"
   ]
  },
  {
   "cell_type": "code",
   "execution_count": 41,
   "id": "c5aefbd4-b700-4aa7-8c43-cdebc550067d",
   "metadata": {},
   "outputs": [],
   "source": [
    "def array_diff(a, b):\n",
    "    return [i for i in a if i not in b]"
   ]
  },
  {
   "cell_type": "raw",
   "id": "d6b144fa-197a-4c53-92db-de4e4f04599d",
   "metadata": {},
   "source": []
  },
  {
   "cell_type": "markdown",
   "id": "a17e2796-bf7c-4be2-ad57-627097f82c5e",
   "metadata": {},
   "source": [
    "# `42`\n",
    "### Your job is to write a function which increments a string, to create a new string.\n",
    "\n",
    "If the string already ends with a number, the number should be incremented by 1.\n",
    "If the string does not end with a number. the number 1 should be appended to the new string.\n",
    "Examples:\n",
    "\n",
    "`foo -> foo1`\n",
    "\n",
    "`foobar23 -> foobar24`\n",
    "\n",
    "`foo0042 -> foo0043`\n",
    "\n",
    "`foo9 -> foo10`\n",
    "\n",
    "`foo099 -> foo100`\n",
    "\n",
    "Attention: If the number has leading zeros the amount of digits should be considered."
   ]
  },
  {
   "cell_type": "code",
   "execution_count": 42,
   "id": "8b082002-3658-4642-93ae-140366ade276",
   "metadata": {},
   "outputs": [],
   "source": [
    "import re\n",
    "def increment_string(strng):\n",
    "    try:  \n",
    "        num = \"\"\n",
    "        l = 0\n",
    "        z =0\n",
    "        for c in strng[::-1]:\n",
    "            if c.isdigit():\n",
    "                num = c + num\n",
    "            else:\n",
    "                break\n",
    "        return strng[:- len(str(num))] + str(int(num) + 1).zfill(len(num))\n",
    "    except:\n",
    "        return strng + \"1\""
   ]
  },
  {
   "cell_type": "raw",
   "id": "e13646a0-d52b-40fe-947a-99324700fa80",
   "metadata": {},
   "source": []
  },
  {
   "cell_type": "markdown",
   "id": "dffdaacd-17d9-493f-bb96-0231c995c3a7",
   "metadata": {},
   "source": [
    "# `43`\n",
    "### There is a bus moving in the city which takes and drops some people at each bus stop.\n",
    "\n",
    "You are provided with a list (or array) of integer pairs. Elements of each pair represent the number of people that get on the bus (the first item) and the number of people that get off the bus (the second item) at a bus stop.\n",
    "\n",
    "Your task is to return the number of people who are still on the bus after the last bus stop (after the last array). Even though it is the last bus stop, the bus might not be empty and some people might still be inside the bus, they are probably sleeping there :D\n",
    "\n",
    "Take a look on the test cases.\n",
    "\n",
    "Please keep in mind that the test cases ensure that the number of people in the bus is always >= 0. So the returned integer can't be negative.\n",
    "\n",
    "The second value in the first pair in the array is 0, since the bus is empty in the first bus stop."
   ]
  },
  {
   "cell_type": "code",
   "execution_count": 43,
   "id": "7668ffed-a38f-4335-a49d-966751ba667e",
   "metadata": {},
   "outputs": [],
   "source": [
    "def number(bus_stops):\n",
    "    count = 0\n",
    "    for ar in bus_stops:\n",
    "        count += ar[0] - ar[1]\n",
    "    return count    \n",
    "        "
   ]
  },
  {
   "cell_type": "raw",
   "id": "eb52838f-ac63-497a-b62e-25d2ca7bb5fe",
   "metadata": {},
   "source": []
  },
  {
   "cell_type": "markdown",
   "id": "2df39f3a-5852-47f4-bbd6-8e7b7bc8ea5a",
   "metadata": {},
   "source": [
    "# `44`\n",
    "### You're writing code to control your town's traffic lights. You need a function to handle each change from green, to yellow, to red, and then to green again.\n",
    "\n",
    "Complete the function that takes a string as an argument representing the current state of the light and returns a string representing the state the light should change to.\n",
    "\n",
    "For example, when the input is `green`, output should be `yellow`."
   ]
  },
  {
   "cell_type": "code",
   "execution_count": 44,
   "id": "2c26904d-e1ff-45d8-9557-29ec72635c6c",
   "metadata": {},
   "outputs": [],
   "source": [
    "def update_light(current):\n",
    "    dict = {'green' : 1, \"yellow\" :2 , \"red\" : 3 }\n",
    "    return { 0 :'green' , 1 : \"yellow\" ,2 : \"red\" }[dict[current] % 3]"
   ]
  },
  {
   "cell_type": "raw",
   "id": "9f3cc30e-0221-4ea6-97e8-195e1287464f",
   "metadata": {},
   "source": []
  },
  {
   "cell_type": "markdown",
   "id": "399fc259-0a7d-496f-9aee-3f9178234b21",
   "metadata": {},
   "source": [
    "# `45`\n",
    "### The main idea is to count all the occurring characters in a string. If you have a string like aba, then the result should be {'a': 2, 'b': 1}.\n",
    "\n",
    "What if the string is empty? Then the result should be empty object literal, {}."
   ]
  },
  {
   "cell_type": "code",
   "execution_count": 45,
   "id": "426c5c4a-0303-4b9a-a996-4673140acffe",
   "metadata": {},
   "outputs": [],
   "source": [
    "def count(s):\n",
    "    a = set(s)\n",
    "    d =dict()\n",
    "    for i in a :\n",
    "        d[i] = 0\n",
    "        \n",
    "    for i in s:\n",
    "        d[i] += 1 \n",
    "    \n",
    "    return d"
   ]
  },
  {
   "cell_type": "raw",
   "id": "928eaacf-a0e2-41ca-803d-dada7b2c7fb0",
   "metadata": {},
   "source": [
    " "
   ]
  },
  {
   "cell_type": "markdown",
   "id": "3256a5c4-fd76-4199-b442-0c89ae432a33",
   "metadata": {},
   "source": [
    "# `46`\n",
    "### Check to see if a string has the same amount of 'x's and 'o's. The method must return a boolean and be case insensitive. The string can contain any char."
   ]
  },
  {
   "cell_type": "code",
   "execution_count": 46,
   "id": "2c979abb-8cd2-4882-a018-a9b6114b6686",
   "metadata": {},
   "outputs": [],
   "source": [
    "def xo(s):\n",
    "    count = 0\n",
    "    for ch in s:\n",
    "        if (ch == 'o') or (ch == 'O'):\n",
    "            count +=1\n",
    "        elif (ch == 'x') or (ch == 'X'):\n",
    "            count -=1\n",
    "    return count == 0"
   ]
  },
  {
   "cell_type": "raw",
   "id": "cd919184-b486-4198-83cd-16dbaeb5e586",
   "metadata": {},
   "source": []
  },
  {
   "cell_type": "markdown",
   "id": "08220c33-d7ed-4a58-a4f4-f078210f64ad",
   "metadata": {},
   "source": [
    "# `47`\n",
    "### Given an integer as input, can you round it to the next (meaning, \"greater than or equal\") multiple of 5?\n",
    "\n",
    "Examples:\n",
    "\n",
    "input:    output:\n",
    "\n",
    "0    ->   0\n",
    "\n",
    "2    ->   5\n",
    "\n",
    "3    ->   5\n",
    "\n",
    "12   ->   15\n",
    "\n",
    "-5   ->   -5\n",
    "\n",
    "etc.\n",
    "Input may be any positive or negative integer (including 0).\n",
    "\n",
    "You can assume that all inputs are valid integers."
   ]
  },
  {
   "cell_type": "code",
   "execution_count": 47,
   "id": "58e2e49e-4766-4c79-997f-a99dbd86bd75",
   "metadata": {},
   "outputs": [],
   "source": [
    "def round_to_next5(n):\n",
    "    return n if (n% 5 == 0) else (((n //5) +1) * 5)"
   ]
  },
  {
   "cell_type": "raw",
   "id": "0b067dda-22c9-4f94-be45-d1b9da678057",
   "metadata": {},
   "source": []
  },
  {
   "cell_type": "markdown",
   "id": "8ba25400-7629-463a-99ff-4c87b7641576",
   "metadata": {},
   "source": [
    "# `48`\n",
    "### Write a function to convert a name into initials. This kata strictly takes two words with one space in between them.\n",
    "\n",
    "The output should be two capital letters with a dot separating them.\n",
    "\n",
    "It should look like this:\n",
    "\n",
    "Sam Harris => `S.H`\n",
    "\n",
    "patrick feeney => `P.F`\n",
    "\n"
   ]
  },
  {
   "cell_type": "code",
   "execution_count": 48,
   "id": "96562803-2d45-479c-a505-f955257daeda",
   "metadata": {},
   "outputs": [],
   "source": [
    "def abbrev_name(name):\n",
    "    return \".\".join([str.upper(x[0]) for x in name.split(' ')])"
   ]
  },
  {
   "cell_type": "raw",
   "id": "982d825c-dd63-4839-b08b-8898411b3108",
   "metadata": {},
   "source": []
  },
  {
   "cell_type": "markdown",
   "id": "e46a23c0-2ed5-47fd-b899-255d231be3e4",
   "metadata": {},
   "source": [
    "# `49`\n",
    "### I have a cat and a dog.\n",
    "\n",
    "I got them at the same time as kitten/puppy. That was humanYears years ago.\n",
    "\n",
    "Return their respective ages now as `[humanYears,catYears,dogYears]`\n",
    "\n",
    "NOTES:\n",
    "\n",
    "humanYears >= 1\n",
    "\n",
    "humanYears are whole numbers only\n",
    "\n",
    "Cat Years\n",
    "\n",
    "`15` cat years for `first` year\n",
    "\n",
    "`+9` cat years for `second` year\n",
    "\n",
    "`+4` cat years for `each` year after that\n",
    "\n",
    "Dog Years\n",
    "\n",
    "`15` dog years for `first` year\n",
    "\n",
    "`+9` dog years for `second` year\n",
    "\n",
    "`+5` dog years for `each` year after that"
   ]
  },
  {
   "cell_type": "code",
   "execution_count": 49,
   "id": "4b8ec7de-b576-43f2-ad80-875c71b2b67c",
   "metadata": {},
   "outputs": [],
   "source": [
    "def human_years_cat_years_dog_years(y):\n",
    "    if y == 1 :\n",
    "        cat , dog = 15 ,15\n",
    "    elif y == 2:\n",
    "        cat , dog = 24 ,24\n",
    "    else :\n",
    "        cat , dog = 24 + (y -2) * 4 , 24 + (y -2) * 5\n",
    "        \n",
    "    return [y , cat ,dog]"
   ]
  },
  {
   "cell_type": "raw",
   "id": "e354d62b-7cda-492c-8ddd-5898c01206a8",
   "metadata": {},
   "source": []
  },
  {
   "cell_type": "markdown",
   "id": "2a1884fd-5bc2-4f01-b56b-88878e9f33ec",
   "metadata": {
    "jp-MarkdownHeadingCollapsed": true
   },
   "source": [
    "# `50` \n",
    "### 46288 --> 4³ + 6⁴+ 2⁵ + 8⁶ + 8⁷ = 2360688 = 46288 * 51\n",
    "Given two positive integers n and p, we want to find a positive integer k, if it exists, such that the sum of the digits of n raised to consecutive powers starting from p is equal to k * n.\n",
    "\n",
    "In other words, writing the consecutive digits of n as a, b, c, d ..., is there an integer k such that :\n",
    "\n",
    "If it is the case we will return k, if not return `-1`.\n",
    "\n",
    "Note: n and p will always be strictly positive integers.\n",
    "\n",
    "Examples:\n",
    "`n = 89`; p = 1 ---> 1 since `8¹ + 9² = 89 = 89 * 1`\n",
    "\n",
    "`n = 92`; p = 1 ---> -1 since there is `no k` such that `9¹ + 2² equals 92 * k`\n",
    "\n",
    "`n = 695;` p = 2 ---> 2 since `6² + 9³ + 5⁴= 1390 = 695 * 2`\n",
    "\n",
    "`n = 46288`; p = 3 ---> 51 since `4³ + 6⁴+ 2⁵ + 8⁶ + 8⁷ = 2360688 = 46288 * 51`"
   ]
  },
  {
   "cell_type": "code",
   "execution_count": 50,
   "id": "43ef85e2-f6f6-41dd-ad05-4ea405d59648",
   "metadata": {},
   "outputs": [],
   "source": [
    "def dig_pow(n, p):\n",
    "    a = n\n",
    "    ar =[]\n",
    "    s = 0\n",
    "    while n > 0:\n",
    "        ar.append(n% 10)\n",
    "        n = n // 10\n",
    "    for i in ar[::-1]:\n",
    "        s+= pow(i , p)\n",
    "        p+=1\n",
    "        \n",
    "    if s % a == 0:\n",
    "        return s // a\n",
    "    \n",
    "        \n",
    "    return -1"
   ]
  },
  {
   "cell_type": "raw",
   "id": "9df40756-f12a-4708-bb1c-9bea63e41295",
   "metadata": {},
   "source": []
  },
  {
   "cell_type": "markdown",
   "id": "51ba584b-868c-4db0-a237-0a656891e0e4",
   "metadata": {
    "jp-MarkdownHeadingCollapsed": true
   },
   "source": [
    "# `51`\n",
    "### Given a list of unique numbers sorted in ascending order, return a new list so that the values increment by 1 for each index from the minimum value up to the maximum value (both included).\n",
    "\n",
    "Example\n",
    "Input:  `1,3,5,6,7,8`Output: `1,2,3,4,5,6,7,8`"
   ]
  },
  {
   "cell_type": "code",
   "execution_count": 51,
   "id": "54b20e7f-370f-4947-9996-24fc7d78113b",
   "metadata": {},
   "outputs": [],
   "source": [
    "def pipe_fix(nums):\n",
    "    return [x for x in range(nums[0] , nums[-1] +1)]"
   ]
  },
  {
   "cell_type": "raw",
   "id": "917d2744-8d0b-4d22-b6c6-ca2360a79a22",
   "metadata": {},
   "source": []
  },
  {
   "cell_type": "markdown",
   "id": "753b47e2-f92b-42a4-b468-31a846b688fa",
   "metadata": {
    "jp-MarkdownHeadingCollapsed": true
   },
   "source": [
    "# `52`\n",
    "### Complete the function which converts hex number (given as a string) to a decimal number.\n",
    "\n"
   ]
  },
  {
   "cell_type": "code",
   "execution_count": 52,
   "id": "820c2577-9fe2-43b7-9ea6-c5be49f58b2e",
   "metadata": {},
   "outputs": [],
   "source": [
    "def hex_to_dec(s):\n",
    "    d = { 'a' : 10 , 'b':11 , 'c' : 12 , 'd' : 13 , 'e' : 14 , 'f' : 15}\n",
    "    l = 1\n",
    "    n = 0\n",
    "    for i in s[::-1]:\n",
    "        n += (int(i) if i.isdigit() else d[i]) * l\n",
    "        l*=16\n",
    "    \n",
    "    return n"
   ]
  },
  {
   "cell_type": "raw",
   "id": "bc0994d8-99f2-4748-afea-84c5f7304f6a",
   "metadata": {},
   "source": []
  },
  {
   "cell_type": "markdown",
   "id": "046cf87d-8b7c-4bdc-87a2-4069f7e47ae1",
   "metadata": {
    "jp-MarkdownHeadingCollapsed": true
   },
   "source": [
    "# `53`\n",
    "### You will be given an array and a limit value. You must check that all values in the array are `below` or `equal` to the limit value. If they are, return `true`. Else, return `false`.\n",
    "\n",
    "You can assume all values in the array are numbers"
   ]
  },
  {
   "cell_type": "code",
   "execution_count": 53,
   "id": "311f41a2-9a95-4af1-8cab-613f33b5b63a",
   "metadata": {},
   "outputs": [],
   "source": [
    "def small_enough(a, l):\n",
    "    return max(a) <= l"
   ]
  },
  {
   "cell_type": "raw",
   "id": "9b4f55fb-406a-498e-ad34-59bcbfc08bf7",
   "metadata": {},
   "source": []
  },
  {
   "cell_type": "markdown",
   "id": "5995750b-acf6-445b-bac4-83946b4a31ad",
   "metadata": {
    "jp-MarkdownHeadingCollapsed": true
   },
   "source": [
    "# `54`\n",
    "### You are given two sorted arrays that contain only integers. These arrays may be sorted in either ascending or descending order. Your task is to merge them into a single array, ensuring that:\n",
    "\n",
    "The resulting array is sorted in ascending order.\n",
    "\n",
    "Any duplicate values are removed, so each integer appears only once.\n",
    "\n",
    "If both input arrays are empty, return an empty array.\n",
    "\n",
    "No input validation is needed, as both arrays are guaranteed to contain zero or more integers.\n",
    "\n",
    "Examples (input -> output)\n",
    "\n",
    "* `[1, 2, 3, 4, 5]`, `[6, 7, 8, 9, 10]` -> `[1, 2, 3, 4, 5, 6, 7, 8, 9, 10]`\n",
    "\n",
    "* `[1, 3, 5, 7, 9]`,` [10, 8, 6, 4, 2]` -> `[1, 2, 3, 4, 5, 6, 7, 8, 9, 10]`"
   ]
  },
  {
   "cell_type": "code",
   "execution_count": 54,
   "id": "71bc6a06-532e-4f0d-a614-44e48d04a90f",
   "metadata": {},
   "outputs": [],
   "source": [
    "def merge_arrays(a1, a2):\n",
    "    return sorted(list(set(a1 + a2)))"
   ]
  },
  {
   "cell_type": "raw",
   "id": "429a1efc-b22e-4cf5-955e-2c6d8579882a",
   "metadata": {},
   "source": []
  },
  {
   "cell_type": "markdown",
   "id": "c7cd0d48-1019-40f7-8b54-5dd580d221f6",
   "metadata": {
    "jp-MarkdownHeadingCollapsed": true
   },
   "source": [
    "# `55` \n",
    "### A string is considered to be in title case if each word in the string is either (a) capitalised (that is, only the first letter of the word is in upper case) or (b) considered to be an exception and put entirely into lower case unless it is the first word, which is always capitalised.\n",
    "\n",
    "Write a function that will convert a string into title case, given an optional list of exceptions (minor words). The list of minor words will be given as a string with each word separated by a space. Your function should ignore the case of the minor words string -- it should behave in the same way even if the case of the minor word string is changed.\n",
    "\n",
    "Arguments (Haskell)\n",
    "\n",
    "First argument: space-delimited list of minor words that must always be lowercase except for the first word in the string.\n",
    "Second argument: the original string to be converted.\n",
    "\n",
    "Arguments (Other languages)\n",
    "\n",
    "`First argument` (required): the original string to be converted.\n",
    "\n",
    "`Second argument` (optional): space-delimited list of minor words that must always be lowercase except for the first word in the string. The JavaScript/CoffeeScript tests will pass undefined when this argument is unused.\n",
    "\n",
    "Example\n",
    "\n",
    "title_case('a clash of KINGS', 'a an the of') # should return: `'A Clash of Kings'`\n",
    "\n",
    "title_case('THE WIND IN THE WILLOWS', 'The In') # should return: `'The Wind in the Willows'`\n",
    "\n",
    "title_case('the quick brown fox') # should return: `'The Quick Brown Fox'`"
   ]
  },
  {
   "cell_type": "code",
   "execution_count": 55,
   "id": "a03b865f-45ca-42fe-8ae6-f3f79f649e75",
   "metadata": {},
   "outputs": [],
   "source": [
    "def title_case(t, m=''):\n",
    "    if t == '':\n",
    "        return ''\n",
    "    s = ' '.join([ x.capitalize() for x in t.split(' ')])\n",
    "    for i in m.split(' '):\n",
    "        i = i.capitalize()\n",
    "        s = s[0] + s[1:].replace( i , i.lower())\n",
    "    \n",
    "    return s"
   ]
  },
  {
   "cell_type": "raw",
   "id": "0c134fa1-033d-453d-9715-a6790e7155ee",
   "metadata": {},
   "source": []
  },
  {
   "cell_type": "markdown",
   "id": "baa04945-94cc-4512-8083-a6a5dbf328c4",
   "metadata": {
    "jp-MarkdownHeadingCollapsed": true
   },
   "source": [
    "# `56`\n",
    "### Complete the function that takes two integers (a, b, where a < b) and return an array of all integers between the input parameters, including them.\n",
    "\n",
    "For example:\n",
    "\n",
    "`a = 1`\n",
    "`b = 4`\n",
    "--> `[1, 2, 3, 4]`"
   ]
  },
  {
   "cell_type": "code",
   "execution_count": 56,
   "id": "d17c0d11-932e-427e-95ba-8667ca82a6ad",
   "metadata": {},
   "outputs": [],
   "source": [
    "def between(a,b):\n",
    "    return list(range(a,b+1))"
   ]
  },
  {
   "cell_type": "raw",
   "id": "5d446ce6-2262-4870-8ca0-f116707f7b91",
   "metadata": {},
   "source": []
  },
  {
   "cell_type": "markdown",
   "id": "f61e99e0-e1b2-43dc-b056-273159fd431c",
   "metadata": {
    "jp-MarkdownHeadingCollapsed": true
   },
   "source": [
    "# `57`\n",
    "### Given two integers a and b, which can be positive or negative, find the sum of all the integers between and including them and return it. If the two numbers are equal return a or b.\n",
    "\n",
    "Note: a and b are not ordered!\n",
    "\n",
    "Examples (a, b) --> output (explanation)\n",
    "\n",
    "`(1, 0) --> 1 (1 + 0 = 1)`\n",
    "\n",
    "`(1, 2) --> 3 (1 + 2 = 3)`\n",
    "\n",
    "`(0, 1) --> 1 (0 + 1 = 1)`\n",
    "\n",
    "`(1, 1) --> 1 (1 since both are same)`\n",
    "\n",
    "`(-1, 0) --> -1 (-1 + 0 = -1)`\n",
    "\n",
    "`(-1, 2) --> 2 (-1 + 0 + 1 + 2 = 2)`"
   ]
  },
  {
   "cell_type": "code",
   "execution_count": 57,
   "id": "170ac3e4-d60e-4197-9288-cacec36c0233",
   "metadata": {},
   "outputs": [],
   "source": [
    "def get_sum(a,b):\n",
    "    \n",
    "    return sum(set(range(min(a,b),max(a ,b) +1)))"
   ]
  },
  {
   "cell_type": "raw",
   "id": "fdcebe67-8e32-43c7-af47-d06815c870da",
   "metadata": {},
   "source": []
  },
  {
   "cell_type": "markdown",
   "id": "25a409d1-3262-45f0-b021-c0c3038777fd",
   "metadata": {
    "jp-MarkdownHeadingCollapsed": true
   },
   "source": [
    "# `58`\n",
    "### Define a method hello that returns `\"Hello, Name!\"` to a given name, or says Hello, World! if name is not given (or passed as an empty String).\n",
    "\n",
    "Assuming that name is a String and it checks for user typos to return a name with a first capital letter (Xxxx).\n",
    "\n",
    "Examples:\n",
    "\n",
    "* With `name` = `\"john\"`  => return `\"Hello, John!\"`\n",
    "* With `name` = `\"aliCE\"` => return `\"Hello, Alice!\"`\n",
    "* With `name` `not given`"
   ]
  },
  {
   "cell_type": "code",
   "execution_count": 58,
   "id": "c401b2a3-21bf-4190-a25f-0e2d5a77fe9f",
   "metadata": {},
   "outputs": [],
   "source": [
    "def hello(name=\"World\"):\n",
    "    return \"Hello, \" + (name.capitalize() if name !=\"\" else \"World\") +\"!\""
   ]
  },
  {
   "cell_type": "raw",
   "id": "3be5a727-b4bc-4126-8abb-f16868519283",
   "metadata": {},
   "source": []
  },
  {
   "cell_type": "markdown",
   "id": "c640359f-bceb-4e8e-a18f-feaa12278e19",
   "metadata": {
    "jp-MarkdownHeadingCollapsed": true
   },
   "source": [
    "# `59`\n",
    "### Create a function finalGrade, which calculates the final grade of a student depending on two parameters: a grade for the exam and a number of completed projects.\n",
    "\n",
    "This function should take two arguments: exam - grade for exam (from 0 to 100); projects - number of completed projects (from 0 and above);\n",
    "\n",
    "This function should return a number (final grade). There are four types of final grades:\n",
    "\n",
    "`100`, if a grade for the exam is more than 90 or if a number of completed projects more than 10.\n",
    "\n",
    "`90`, if a grade for the exam is more than 75 and if a number of completed projects is minimum 5.\n",
    "\n",
    "`75`, if a grade for the exam is more than 50 and if a number of completed projects is minimum 2.\n",
    "\n",
    "`0`, in other cases"
   ]
  },
  {
   "cell_type": "code",
   "execution_count": 59,
   "id": "b3dcd917-55bc-4aaa-a045-8fa6d6bba64c",
   "metadata": {},
   "outputs": [],
   "source": [
    "def final_grade(e, p):\n",
    "    return 100 if (e > 90 or p >10) else 90 if (e > 75 and p >= 5) else 75 if ( e > 50 and p>=2) else 0"
   ]
  },
  {
   "cell_type": "raw",
   "id": "96a6acaa-fcac-4a39-9fc0-ead8ac963eb9",
   "metadata": {},
   "source": []
  },
  {
   "cell_type": "markdown",
   "id": "4531249a-c488-460b-a736-be2d77ee0dcd",
   "metadata": {
    "jp-MarkdownHeadingCollapsed": true
   },
   "source": [
    "# `60`\n",
    "### Write a function named sumDigits which takes a number as input and returns the sum of the absolute value of each of the number's decimal digits.\n",
    "\n",
    "For example: (Input --> Output)\n",
    "\n",
    "`10 --> 1`\n",
    "\n",
    "`99 --> 18`\n",
    "\n",
    "`-32 --> 5`"
   ]
  },
  {
   "cell_type": "code",
   "execution_count": 60,
   "id": "e6cd90e5-15ed-4245-9973-29a540804ab9",
   "metadata": {},
   "outputs": [],
   "source": [
    "def sum_digits(number):\n",
    "    return sum(int(x) for x in str(number).replace('-' ,''))"
   ]
  },
  {
   "cell_type": "raw",
   "id": "5d0989cd-68c0-4ba9-a07d-b4f1888b3901",
   "metadata": {},
   "source": []
  },
  {
   "cell_type": "markdown",
   "id": "46fb7c1b-60d8-47f8-a35c-d276a0b308c5",
   "metadata": {
    "jp-MarkdownHeadingCollapsed": true
   },
   "source": [
    "# `61`\n",
    "### Wolves have been reintroduced to Great Britain. You are a sheep farmer, and are now plagued by wolves which pretend to be sheep. Fortunately, you are good at spotting them.\n",
    "\n",
    "Warn the sheep in front of the wolf that it is about to be eaten. Remember that you are standing at the front of the queue which is at the end of the array:\n",
    "\n",
    "[sheep, sheep, sheep, sheep, sheep, wolf, sheep, sheep]      (YOU ARE HERE AT THE FRONT OF THE QUEUE)\n",
    "   7      6      5      4      3            2      1\n",
    "If the wolf is the closest animal to you, return \"Pls go away and stop eating my sheep\". Otherwise, return `\"Oi! Sheep number N! You are about to be eaten by a wolf!\"` where `N` is the sheep's position in the queue."
   ]
  },
  {
   "cell_type": "code",
   "execution_count": 61,
   "id": "eb75ea3d-bf0a-432e-912f-eeb2124b3b58",
   "metadata": {},
   "outputs": [],
   "source": [
    "def warn_the_sheep(queue):\n",
    "    i = queue[::-1].index('wolf')\n",
    "    if i == 0:\n",
    "        return 'Pls go away and stop eating my sheep'\n",
    "    else :\n",
    "        return f\"Oi! Sheep number {i}! You are about to be eaten by a wolf!\""
   ]
  },
  {
   "cell_type": "raw",
   "id": "1110533c-cb5e-4875-b614-318e2918fc36",
   "metadata": {},
   "source": []
  },
  {
   "cell_type": "markdown",
   "id": "2c06255b-40c3-4803-96ad-35a4391ae193",
   "metadata": {},
   "source": [
    "# `62`\n",
    "### This time we want to write calculations using functions and get the results. Let's have a look at some examples:\n",
    "\n",
    "`seven(times(five()))` # must return `35`\n",
    "\n",
    "`four(plus(nine()))` # must return `13`\n",
    "\n",
    "`eight(minus(three()))` # must return `5`\n",
    "\n",
    "`six(divided_by(two()))` # must return `3`"
   ]
  },
  {
   "cell_type": "code",
   "execution_count": 62,
   "id": "c77b4214-af74-483b-bf71-f987cb821c47",
   "metadata": {},
   "outputs": [],
   "source": [
    "def zero(operation=None): return operation(0) if operation else 0\n",
    "def one(operation=None): return operation(1) if operation else 1\n",
    "def two(operation=None): return operation(2) if operation else 2\n",
    "def three(operation=None): return operation(3) if operation else 3\n",
    "def four(operation=None): return operation(4) if operation else 4\n",
    "def five(operation=None): return operation(5) if operation else 5\n",
    "def six(operation=None): return operation(6) if operation else 6\n",
    "def seven(operation=None): return operation(7) if operation else 7\n",
    "def eight(operation=None): return operation(8) if operation else 8\n",
    "def nine(operation=None): return operation(9) if operation else 9\n",
    "\n",
    "def plus(y): return lambda x: x + y\n",
    "def minus(y): return lambda x: x - y\n",
    "def times(y): return lambda x: x * y\n",
    "def divided_by(y): return lambda x: x // y\n"
   ]
  },
  {
   "cell_type": "raw",
   "id": "06cd05e9-8d01-4163-97fa-b0a4400178c0",
   "metadata": {},
   "source": []
  },
  {
   "cell_type": "markdown",
   "id": "a7b44f94-0845-4196-b7ec-af8d294139c4",
   "metadata": {},
   "source": [
    "# `63`\n",
    "### Create a method that takes as input a name, city, and state to welcome a person. Note that name will be an array consisting of one or more values that should be joined together with one space between each, and the length of the name array in test cases will vary.\n",
    "\n",
    "Example:\n",
    "\n",
    "`['John', 'Smith']`, `'Phoenix'`, `'Arizona'`\n",
    "\n",
    "This example will return the string \n",
    "\n",
    "Hello, `John Smith`! Welcome to `Phoenix`, `Arizona`!"
   ]
  },
  {
   "cell_type": "code",
   "execution_count": 63,
   "id": "37c4803e-43ec-4c78-84f4-52dd6be0affe",
   "metadata": {},
   "outputs": [],
   "source": [
    "def say_hello(name, city, state):\n",
    "    return f\"Hello, {' '.join(name)}! Welcome to {city}, {state}!\""
   ]
  },
  {
   "cell_type": "raw",
   "id": "9141c4d2-f1f9-400b-923f-6c5b7c8496ef",
   "metadata": {},
   "source": []
  },
  {
   "cell_type": "markdown",
   "id": "525f6c96-3e7a-4e9d-802b-c0e90574c713",
   "metadata": {},
   "source": [
    "# `64`\n",
    "### Given a two-dimensional array of integers, return the flattened version of the array with all the integers in the sorted (ascending) order.\n",
    "\n",
    "Example:\n",
    "\n",
    "Given `[[3, 2, 1], [4, 6, 5], [], [9, 7, 8]]`, your function should return `[1, 2, 3, 4, 5, 6, 7, 8, 9]`."
   ]
  },
  {
   "cell_type": "code",
   "execution_count": 64,
   "id": "db217357-9333-40a8-b7e5-37199b8cff77",
   "metadata": {},
   "outputs": [],
   "source": [
    "def flatten_and_sort(ar):\n",
    "    a =[]\n",
    "    for i in ar :\n",
    "        a+= i\n",
    "    return sorted(a)"
   ]
  },
  {
   "cell_type": "raw",
   "id": "ede331dc-373a-4256-9787-96e4daf5bf4c",
   "metadata": {},
   "source": []
  },
  {
   "cell_type": "markdown",
   "id": "be60c883-d9a8-4e3c-8ba8-fb4685745823",
   "metadata": {},
   "source": [
    "# `65`\n",
    "### Create a function that finds the integral of the expression passed.\n",
    "\n",
    "In order to find the integral all you need to do is add one to the exponent (the second argument), and divide the coefficient (the first argument) by that new number.\n",
    "\n",
    "For example for `3x^2`, the integral would be `1x^3`: we added 1 to the exponent, and divided the coefficient by that new number)."
   ]
  },
  {
   "cell_type": "code",
   "execution_count": 65,
   "id": "eba9b13a-ffaa-4cb9-becf-fcdbb624b5f3",
   "metadata": {},
   "outputs": [],
   "source": [
    "\n",
    "integrate = lambda c,e : f\"{c //(e+1)}x^{e +1}\""
   ]
  },
  {
   "cell_type": "raw",
   "id": "05164c28-a170-4420-a89c-4402729a5c40",
   "metadata": {},
   "source": []
  },
  {
   "cell_type": "markdown",
   "id": "81b14ce3-d493-421d-9804-da07962786a9",
   "metadata": {},
   "source": [
    "# `66`\n",
    "### Find Mean\n",
    "Find the mean (average) of a list of numbers in an array.\n",
    "\n",
    "Information\n",
    "To find the mean (average) of a set of numbers add all of the numbers together and divide by the number of values in the list.\n",
    "\n",
    "For an example list of `1, 3, 5, 7`\n",
    "\n",
    "1. Add all of the numbers\n",
    "\n",
    "`1+3+5+7 = 16`\n",
    "\n",
    "2. Divide by the number of values in the list. In this example there are 4 numbers in the list.\n",
    "\n",
    "`16/4 = 4`\n",
    "\n",
    "3. The mean (or average) of this list is `4`"
   ]
  },
  {
   "cell_type": "code",
   "execution_count": 66,
   "id": "70b65a1a-9b71-48bc-abcb-992ce4453c52",
   "metadata": {},
   "outputs": [],
   "source": [
    "import numpy as p\n",
    "def find_average(nums):\n",
    "    return p.mean(nums)"
   ]
  },
  {
   "cell_type": "raw",
   "id": "33534ed0-4972-493b-b0f9-f051cd86ec25",
   "metadata": {},
   "source": []
  },
  {
   "cell_type": "markdown",
   "id": "1634f67f-ffad-4150-9aca-18ca27ddceb7",
   "metadata": {},
   "source": [
    "# `67`\n",
    "### There is a queue for the self-checkout tills at the supermarket. Your task is write a function to calculate the total time required for all the customers to check out!\n",
    "\n",
    "input\n",
    "customers: an array of positive integers representing the queue. Each integer represents a customer, and its value is the amount of time they require to check out.\n",
    "n: a positive integer, the number of checkout tills.\n",
    "output\n",
    "The function should return an integer, the total time required.\n",
    "\n",
    "Important\n",
    "Please look at the examples and clarifications below, to ensure you understand the task correctly :)\n",
    "\n",
    "Examples\n",
    "queue_time([5,3,4], 1)\n",
    "\n",
    " should return 12\n",
    "\n",
    " because when n=1, the total time is just the sum of the times\n",
    "\n",
    "queue_time([10,2,3,3], 2)\n",
    "\n",
    " should return 10\n",
    "\n",
    " because here n=2 and the 2nd, 3rd, and 4th people in the \n",
    "\n",
    " queue finish before the 1st person has finished.\n",
    "\n",
    "queue_time([2,3,10], 2)\n",
    "\n",
    " should return 12"
   ]
  },
  {
   "cell_type": "code",
   "execution_count": 67,
   "id": "9547a660-620e-4663-9fe1-8dca0fc23602",
   "metadata": {},
   "outputs": [],
   "source": [
    "def queue_time(c, n):\n",
    "    sh = [0]*n\n",
    "    for i in c:\n",
    "        sh[sh.index(min(sh))]+= i\n",
    "    return max(sh)"
   ]
  },
  {
   "cell_type": "raw",
   "id": "c3ace65e-ba96-42f5-a0e7-5ea386c24bff",
   "metadata": {},
   "source": []
  },
  {
   "cell_type": "markdown",
   "id": "3e6eac5a-88f3-4bcd-bc59-3ec8bd5e7948",
   "metadata": {},
   "source": [
    "# `68`\n",
    "### Given an array of integers as strings and numbers, return the sum of the array values as if all were numbers.\n",
    "\n",
    "Return your answer as a number."
   ]
  },
  {
   "cell_type": "code",
   "execution_count": 68,
   "id": "5c47237a-1089-4f90-9b45-b1d8a9d78d74",
   "metadata": {},
   "outputs": [],
   "source": [
    "def sum_mix(arr):\n",
    "    return sum([int(x) for x in arr])"
   ]
  },
  {
   "cell_type": "raw",
   "id": "0e6acef5-7a66-485d-b7ca-0d01329803ef",
   "metadata": {},
   "source": []
  },
  {
   "cell_type": "markdown",
   "id": "65e0dcb0-2d4f-4b00-ae69-7718a6c07aa1",
   "metadata": {},
   "source": [
    "# `69`\n",
    "### A hero is on his way to the castle to complete his mission. However, he's been told that the castle is surrounded with a couple of powerful dragons! each dragon takes 2 bullets to be defeated, our hero has no idea how many bullets he should carry.. Assuming he's gonna grab a specific given number of bullets and move forward to fight another specific given number of dragons, will he survive?\n",
    "\n",
    "Return true if yes, false otherwise :)"
   ]
  },
  {
   "cell_type": "code",
   "execution_count": 69,
   "id": "e405909e-9242-44c5-b93b-64a2ecf47258",
   "metadata": {},
   "outputs": [],
   "source": [
    "def hero(b, d):\n",
    "    return b >= 2* d"
   ]
  },
  {
   "cell_type": "raw",
   "id": "8d71e63f-f152-43e6-a6e3-98bf988e1391",
   "metadata": {},
   "source": []
  },
  {
   "cell_type": "markdown",
   "id": "2894f345-5180-4ec1-ba93-0b0d28a3fb8a",
   "metadata": {},
   "source": [
    "# `70`\n",
    "### Given a 2D ( nested ) list ( array, vector, .. ) of size m * n, your task is to find the sum of the minimum values in each row.\n",
    "\n",
    "For Example:\n",
    "\n",
    "[ `[ 1, 2, 3, 4, 5 ] `       #  minimum value of row is `1`\n",
    "\n",
    ", `[ 5, 6, 7, 8, 9 ]`        #  minimum value of row is `5`\n",
    "\n",
    ", `[ 20, 21, 34, 56, 100 ]`  #  minimum value of row is `20`\n",
    "]\n",
    "So the function should return 26 because the sum of the minimums is `1 + 5 + 20 = 26`."
   ]
  },
  {
   "cell_type": "code",
   "execution_count": 70,
   "id": "8d4175c5-722d-474e-94f4-3eea6fe968a0",
   "metadata": {},
   "outputs": [],
   "source": [
    "def sum_of_minimums(numbers):\n",
    "    return sum(min(x) for x in numbers)"
   ]
  },
  {
   "cell_type": "raw",
   "id": "2c3439d9-ca6b-4e55-b608-a82ef361318c",
   "metadata": {},
   "source": []
  },
  {
   "cell_type": "markdown",
   "id": "ce5d779e-bfcd-4eb5-ba37-caf9714134b3",
   "metadata": {},
   "source": [
    "# `71`\n",
    "### What if we need the length of the words separated by a space to be added at the end of that same word and have it returned as an array?\n",
    "\n",
    "Example(Input --> Output)\n",
    "\n",
    "`\"apple ban\"` --> `[\"apple 5\", \"ban 3\"]`\n",
    "\n",
    "`\"you will win\"` -->`[\"you 3\", \"will 4\", \"win 3\"]`\n",
    "\n",
    "Your task is to write a function that takes a String and returns an Array/list with the length of each word added to each element .\n",
    "\n",
    "Note: String will have at least one element; words will always be separated by a space."
   ]
  },
  {
   "cell_type": "code",
   "execution_count": 71,
   "id": "658e0d0e-d081-4fd6-aca7-207fbfc23b5d",
   "metadata": {},
   "outputs": [],
   "source": [
    "def add_length(s):\n",
    "    return [(x+\" \" + str(len(x))) for x in s.split()]"
   ]
  },
  {
   "cell_type": "raw",
   "id": "9c4e3c36-e71f-423c-a0c0-24082daa3075",
   "metadata": {},
   "source": []
  },
  {
   "cell_type": "markdown",
   "id": "8d581712-d421-45fc-a026-ca09734068a2",
   "metadata": {
    "jp-MarkdownHeadingCollapsed": true
   },
   "source": [
    "# `72`\n",
    "### Kids drink `toddy`.\n",
    "Teens drink `coke`.\n",
    "\n",
    "Young adults drink `beer`.\n",
    "\n",
    "Adults drink `whisky`.\n",
    "\n",
    "Make a function that receive age, and return what they drink.\n",
    "\n",
    "Rules:\n",
    "\n",
    "Children `under 14` old.\n",
    "\n",
    "Teens `under 18` old.\n",
    "\n",
    "Young `under 21` old.\n",
    "\n",
    "Adults have `21 or more.`\n",
    "\n",
    "Examples: (Input --> Output)\n",
    "\n",
    "`13` --> `\"drink toddy\"`\n",
    "\n",
    "`17` --> `\"drink coke\"`\n",
    "\n",
    "`18 `--> `\"drink beer\"`\n",
    "\n",
    "`30 `--> `\"drink whisky\"`"
   ]
  },
  {
   "cell_type": "code",
   "execution_count": 72,
   "id": "bd4e6b50-7316-42d4-9b00-4dd10bb3fdec",
   "metadata": {},
   "outputs": [],
   "source": [
    "def people_with_age_drink(a):\n",
    "    return 'drink ' + ('toddy' if a < 14 else 'coke' if a < 18 else 'beer' if a < 21 else 'whisky')"
   ]
  },
  {
   "cell_type": "raw",
   "id": "e7ed585a-9b0d-4354-8d2e-7b4ac61f52ae",
   "metadata": {},
   "source": []
  },
  {
   "cell_type": "markdown",
   "id": "0c769239-2920-4da6-a3e4-16a9088a7aac",
   "metadata": {
    "jp-MarkdownHeadingCollapsed": true
   },
   "source": [
    "# `73`\n",
    "### In a small town the population is `p0 = 1000` at the beginning of a year. The population regularly increases by `2 percent per year` and moreover `50 new inhabitants` per year come to live in the town. How many years does the town need to see its population greater than or equal to `p = 1200` inhabitants?\n",
    "\n",
    "At the end of the first year there will be: \n",
    "\n",
    "`1000 + 1000 * 0.02 + 50 => 1070` inhabitants\n",
    "\n",
    "At the end of the 2nd year there will be:\n",
    "\n",
    "`1070 + 1070 * 0.02 + 50 => 1141` inhabitants (** number of inhabitants is an integer **)\n",
    "\n",
    "At the end of the 3rd year there will be:\n",
    "\n",
    "`1141 + 1141 * 0.02 + 50 => 1213`\n",
    "\n",
    "It will need `3` entire years."
   ]
  },
  {
   "cell_type": "code",
   "execution_count": 73,
   "id": "40f69802-ec57-4a74-beb4-cce36076e8ad",
   "metadata": {},
   "outputs": [],
   "source": [
    "def nb_year(p0, percent, aug, p):\n",
    "    y =0\n",
    "    while p0 < p:\n",
    "        p0 += (p0 * percent)//100 + aug\n",
    "        y+=1\n",
    "    return y"
   ]
  },
  {
   "cell_type": "raw",
   "id": "1b52ae7a-9f46-4e88-bbd0-d14010557406",
   "metadata": {},
   "source": []
  },
  {
   "cell_type": "markdown",
   "id": "1e60eeca-11ed-414d-b946-f470aef8e0c0",
   "metadata": {},
   "source": [
    "# `74`\n",
    "###  Jamie is a programmer, and James' girlfriend. She likes diamonds, and wants a diamond string from James. Since James doesn't know how to make this happen, he needs your help.\n",
    "\n",
    "Task\n",
    "You need to return a string that looks like a diamond shape when printed on the screen, using asterisk (*) characters. Trailing spaces should be removed, and every line must be terminated with a newline character (\\n).\n",
    "\n",
    "Return null/nil/None/... if the input is an even number or negative, as it is not possible to print a diamond of even or negative size.\n",
    "\n",
    "Examples\n",
    "\n",
    "A size 3 diamond:\n",
    "\n",
    "     *\n",
    "    ***\n",
    "     *"
   ]
  },
  {
   "cell_type": "code",
   "execution_count": 74,
   "id": "4c499f0a-b0f9-46f9-9cba-6f172f015f33",
   "metadata": {},
   "outputs": [],
   "source": [
    "def diamond(n):\n",
    "    if n % 2 == 0 or n <1:\n",
    "        return None\n",
    "    s =\"\"\n",
    "    l = 1\n",
    "    for i in range( n // 2 +1):\n",
    "        for j in range(i, n // 2 ):\n",
    "            s+=' '\n",
    "        \n",
    "        for j in range(l):\n",
    "            s+='*'\n",
    "        \n",
    "        l+=2\n",
    "        s+='\\n'\n",
    "    l = n-2    \n",
    "    for i in range (n // 2 , 0,-1):\n",
    "        for j in range(i, n // 2 +1 ):\n",
    "            s+= ' '\n",
    "        \n",
    "        for j in range(l):\n",
    "            print ('*' ,end = \"\") \n",
    "            s+= '*'\n",
    "        l-=2\n",
    "        s+='\\n'\n",
    "    return s\n",
    "    "
   ]
  },
  {
   "cell_type": "raw",
   "id": "f090fa30-d956-4e37-ab9a-410510d32ab8",
   "metadata": {},
   "source": []
  },
  {
   "cell_type": "markdown",
   "id": "8fd3bc45-ca2c-4a3a-acd2-52963e6c985c",
   "metadata": {},
   "source": [
    "# `75`\n",
    "### Given a random non-negative number, you have to return the digits of this number within an array in reverse order.\n",
    "\n",
    "Example (Input => Output):\n",
    "\n",
    "`35231` => `[1,3,2,5,3]`\n",
    "\n",
    "`0`     => `[0]`"
   ]
  },
  {
   "cell_type": "code",
   "execution_count": 75,
   "id": "6fd7ac8f-a724-4e2a-8ac1-d3756534b5ce",
   "metadata": {},
   "outputs": [],
   "source": [
    "def digitize(n):\n",
    "    return [int(i) for i in str(n)[::-1]]"
   ]
  },
  {
   "cell_type": "raw",
   "id": "f8782a74-e32d-4e04-989b-fa2bcebf066e",
   "metadata": {},
   "source": []
  },
  {
   "cell_type": "markdown",
   "id": "c201e058-d91e-4d43-9080-6893f8c0337a",
   "metadata": {},
   "source": [
    "# `76`\n",
    "### Create a method to see whether the string is ALL CAPS.\n",
    "\n",
    "Examples (input -> output)\n",
    "\n",
    "\"c\" -> False\n",
    "\n",
    "\"C\" -> True\n",
    "\n",
    "\"hello I AM DONALD\" -> False\n",
    "\n",
    "\"HELLO I AM DONALD\" -> True\n",
    "\n",
    "\"ACSKLDFJSgSKLDFJSKLDFJ\" -> False\n",
    "\n",
    "\"ACSKLDFJSGSKLDFJSKLDFJ\" -> True"
   ]
  },
  {
   "cell_type": "code",
   "execution_count": 76,
   "id": "2a474be4-9d7e-44c0-a493-ac7154df4d09",
   "metadata": {},
   "outputs": [],
   "source": [
    "def is_uppercase(inp):   \n",
    "    s =\"\"\n",
    "    for i in inp:\n",
    "        if i.isalpha():\n",
    "            s+= i \n",
    "    return True if s==\"\" else  str.isupper(s)\n"
   ]
  },
  {
   "cell_type": "raw",
   "id": "9030ad18-5831-412b-974f-76f093601c3d",
   "metadata": {},
   "source": []
  },
  {
   "cell_type": "markdown",
   "id": "348542ac-2211-404f-9e46-f0fc85c3ce8e",
   "metadata": {},
   "source": [
    "# `77`\n",
    "### Find the `total sum` of internal angles (in degrees) in an `n-sided` simple polygon. N will be greater than 2."
   ]
  },
  {
   "cell_type": "code",
   "execution_count": 77,
   "id": "684ce159-ba13-4629-a62f-1cf170ce8e0e",
   "metadata": {},
   "outputs": [],
   "source": [
    "def angle(n):\n",
    "    return (n - 2 ) * 180"
   ]
  },
  {
   "cell_type": "raw",
   "id": "98e8fbec-4a20-40e0-bbd0-c1b0adac4a06",
   "metadata": {},
   "source": []
  },
  {
   "cell_type": "markdown",
   "id": "bb0141a8-f5c7-4f4d-803c-a85be9b4c5e7",
   "metadata": {},
   "source": [
    "# `78`\n",
    "### In this Kata, you will be given a string that may have mixed uppercase and lowercase letters and your task is to convert that string to either lowercase only or uppercase only based on:\n",
    "\n",
    "   * make as few changes as possible.\n",
    "   * if the string contains equal number of uppercase and lowercase letters, convert the string to lowercase.\n",
    "   * \n",
    "For example:\n",
    "\n",
    "solve(`\"coDe\"`) = `\"code\"`\n",
    "\n",
    "solve(`\"CODe\"`) = `\"CODE\"`\n",
    "\n",
    "solve(`\"coDE\"`) = `\"code\"`"
   ]
  },
  {
   "cell_type": "code",
   "execution_count": 78,
   "id": "d9b3dbe6-6fd8-44f2-a583-bec477fb7467",
   "metadata": {},
   "outputs": [],
   "source": [
    "def solve(s):\n",
    "    l , u =0 , 0\n",
    "    for i in s:\n",
    "        if str.islower(i):\n",
    "            l+=1\n",
    "        else:\n",
    "            u += 1\n",
    "    return s.upper() if u>l else s.lower()\n",
    "    "
   ]
  },
  {
   "cell_type": "raw",
   "id": "720a02ad-faf4-4b70-b16c-514eb51ec745",
   "metadata": {},
   "source": []
  },
  {
   "cell_type": "markdown",
   "id": "11f508be-19a3-424f-ad73-7a950dfec8b9",
   "metadata": {},
   "source": [
    "# `79`\n",
    "### You have an award-winning garden \n",
    "and every day the plants need exactly 40mm of water. You created a great piece of JavaScript to calculate the amount of water your plants will need when you have taken into consideration the amount of rain water that is forecast for the day. Your jealous neighbour hacked your computer and filled your code with bugs.\n",
    "\n",
    "Your task is to debug the code before your plants die!"
   ]
  },
  {
   "cell_type": "code",
   "execution_count": 79,
   "id": "e3f7c7fe-ce61-454f-9f9d-480bcb115d3b",
   "metadata": {},
   "outputs": [],
   "source": [
    "def rain_amount(mm):\n",
    "    if mm < 40:\n",
    "             return \"You need to give your plant \" + str(40 - mm) + \"mm of water\"\n",
    "    else:\n",
    "             return \"Your plant has had more than enough water for today!\""
   ]
  },
  {
   "cell_type": "code",
   "execution_count": null,
   "id": "f5e3a38b-a97b-4b62-a09d-1164fb3f080e",
   "metadata": {},
   "outputs": [],
   "source": []
  },
  {
   "cell_type": "markdown",
   "id": "d4c857d9-0762-4597-a8b6-57e5da0a856d",
   "metadata": {},
   "source": [
    "# `80`\n",
    "### Your task is to write function factorial."
   ]
  },
  {
   "cell_type": "code",
   "execution_count": 80,
   "id": "4a078d69-ff8d-496a-9a57-674032590aa9",
   "metadata": {},
   "outputs": [],
   "source": [
    "def factorial(n):\n",
    "    if n >1:\n",
    "        return n * factorial(n-1)\n",
    "    return 1"
   ]
  },
  {
   "cell_type": "raw",
   "id": "7062c377-27ae-4000-8a3c-60a5aba413da",
   "metadata": {},
   "source": []
  },
  {
   "cell_type": "markdown",
   "id": "ea6b0c3d-e3d3-40b7-afd1-f910c453ad5d",
   "metadata": {},
   "source": [
    "# `81`\n",
    "### Your task is to write a function which returns the sum of a sequence of integers.\n",
    "\n",
    "The sequence is defined by `3 non-negative` values: `begin`, `end`, `step`.\n",
    "\n",
    "If begin value is greater than the end, your function should return 0. If end is not the result of an integer number of steps, then don't add it to the sum. See the 4th example below.\n",
    "\n",
    "Examples\n",
    "\n",
    "2,2,2 --> `2`\n",
    "\n",
    "2,6,2 --> `12` (2 + 4 + 6)\n",
    "\n",
    "1,5,1 --> `15` (1 + 2 + 3 + 4 + 5)\n",
    "\n",
    "1,5,3  --> `5` (1 + 4)"
   ]
  },
  {
   "cell_type": "code",
   "execution_count": 81,
   "id": "13de83a3-0f81-4b0a-9bb1-a5e0f0a5906c",
   "metadata": {},
   "outputs": [],
   "source": [
    "def sequence_sum(b, e, s):\n",
    "    return sum(range(b, e+1 ,s))"
   ]
  },
  {
   "cell_type": "code",
   "execution_count": null,
   "id": "baa77196-c0ec-4ea5-bc4e-caf8023077d8",
   "metadata": {},
   "outputs": [],
   "source": []
  },
  {
   "cell_type": "markdown",
   "id": "6c5c0cfe-4952-411a-96b6-6ce79847746f",
   "metadata": {},
   "source": [
    "# `82`\n",
    "### Your function takes two arguments:\n",
    "\n",
    "current `father`'s age (years)\n",
    "current age of his `son` (years)\n",
    "Сalculate how many years ago the father was twice as old as his son (or in how many years he will be twice as old). The answer is always greater or equal to 0, no matter if it was in the past or it is in the future."
   ]
  },
  {
   "cell_type": "code",
   "execution_count": 82,
   "id": "6fb92062-6780-4906-8917-317ec79ccc17",
   "metadata": {},
   "outputs": [],
   "source": [
    "def twice_as_old(d, s):\n",
    "    return abs(2 *s - d)"
   ]
  },
  {
   "cell_type": "raw",
   "id": "8ffef138-2069-4819-b009-bbf62c33a8bf",
   "metadata": {},
   "source": []
  },
  {
   "cell_type": "markdown",
   "id": "2b6f9834-1055-4f41-a14f-49729320e54a",
   "metadata": {},
   "source": [
    "# `83`\n",
    "### In this kata you will create a function that takes a list of non-negative integers and strings and returns a new list with the strings filtered out.\n",
    "\n",
    "Example\n",
    "\n",
    "filter_list(`[1,2,'a','b']`) == `[1,2]`\n",
    "\n",
    "filter_list(`[1,'a','b',0,15]`) == `[1,0,15`\n",
    "\n",
    "filter_list(`[1,2,'aasf','1','123',123]`) == `[1,2,123]`"
   ]
  },
  {
   "cell_type": "code",
   "execution_count": 83,
   "id": "3abf7336-1a6d-4042-990f-20cef845bb28",
   "metadata": {},
   "outputs": [],
   "source": [
    "def filter_list(l):\n",
    "    a = []\n",
    "    for i in l:\n",
    "        try:\n",
    "            i +=5\n",
    "            a.append(i-5)\n",
    "        except :\n",
    "            continue\n",
    "    return a"
   ]
  },
  {
   "cell_type": "raw",
   "id": "ef465d76-736d-4905-a1ee-cdcf7b9fd317",
   "metadata": {},
   "source": []
  },
  {
   "cell_type": "markdown",
   "id": "44e140a2-52b9-4205-854f-1bb91e7ab3dd",
   "metadata": {},
   "source": [
    "# `84`\n",
    "### The Fibonacci numbers are the numbers in the following integer sequence (Fn): `0, 1, 1, 2, 3, 5, 8, 13, 21, 34, 55, 89, 144, 233, ...`\n",
    "\n",
    "such that:\n",
    "\n",
    "F(0)=1\n",
    "F(1)=1\n",
    "F(n)=F(n−1)+F(n−2)\n",
    "Given a number, say prod (for product), we search two Fibonacci numbers F(n) and F(n+1) verifying:\n",
    "F(n)∗F(n+1)=prod\n",
    "Your function takes an integer (prod) and returns an array/tuple (check the function signature/sample tests for the return type in your language):\n",
    "\n",
    "if F(n) * F(n+1) = prod:\n",
    "(F(n), F(n+1), true)\n",
    "\n",
    "If you do not find two consecutive F(n) verifying F(n) * F(n+1) = prod:\n",
    "(F(n), F(n+1), false)\n",
    "\n",
    "where F(n) is the smallest one such as F(n) * F(n+1) > prod.\n",
    "Examples:\n",
    "\n",
    "714 ---> (21, 34, true)\n",
    "--> since F(8) = 21, F(9) = 34 and 714 = 21 * 34\n",
    "\n",
    "800 --->  (34, 55, false)\n",
    "--> since F(8) = 21, F(9) = 34, F(10) = 55 and 21 * 34 < 800 < 34 * 55"
   ]
  },
  {
   "cell_type": "code",
   "execution_count": 84,
   "id": "67264209-0582-42a9-9bf2-d4adc0bf43f5",
   "metadata": {},
   "outputs": [],
   "source": [
    "import math\n",
    "def product_fib(_prod):\n",
    "    f = [0,1,1]\n",
    "    i = 0\n",
    "    while f[i] * f[i+1]  <= _prod:\n",
    "        f.append(f[-1] + f[-2])\n",
    "        \n",
    "        if f[i ] * f[i +1] == _prod :\n",
    "            return [f[i] , f[i+1] , True]\n",
    "        i+=1\n",
    "        \n",
    "    return [f[i] , f[i+1 ] , False] \n",
    "                \n",
    "    \n"
   ]
  },
  {
   "cell_type": "raw",
   "id": "cdec22d8-d8ae-4142-8f97-49c940ad143f",
   "metadata": {},
   "source": []
  },
  {
   "cell_type": "markdown",
   "id": "acf2da54-7dfc-4fac-9e7b-cafb3764204b",
   "metadata": {},
   "source": [
    "# `85`\n",
    "### Take 2 strings s1 and s2 including only letters from a to z. Return a new `sorted` string (`alphabetical ascending`), the longest possible, containing distinct letters - each taken only once - coming from s1 or s2.\n",
    "\n",
    "Examples:\n",
    "\n",
    "a = `\"xyaabbbccccdefww\"`       \n",
    "b = `\"xxxxyyyyabklmopq\"`\n",
    "\n",
    "longest(a, b) -> `\"abcdefklmopqwxy\"`\n",
    "\n",
    "a = `\"abcdefghijklmnopqrstuvwxyz\"`\n",
    "longest(a, a) -> `\"abcdefghijklmnopqrstuvwxyz\"`"
   ]
  },
  {
   "cell_type": "code",
   "execution_count": 85,
   "id": "72fb39ec-2d50-4a44-812e-c83fa2d94b5a",
   "metadata": {},
   "outputs": [],
   "source": [
    "def longest(a1, a2):\n",
    "    return \"\".join(sorted(set(a1 + a2))) "
   ]
  },
  {
   "cell_type": "raw",
   "id": "177461ad-b50b-40e7-b70d-4b0d4f1b3e27",
   "metadata": {},
   "source": []
  },
  {
   "cell_type": "markdown",
   "id": "6f0d0c43-7f5b-43e0-9bfd-cbe438df144b",
   "metadata": {},
   "source": [
    "# `86`\n",
    "### You need to write a function that reverses the words in a given string. Words are always separated by a single space.\n",
    "\n",
    "As the input may have trailing spaces, you will also need to ignore unneccesary whitespace.\n",
    "\n",
    "Example (Input --> Output)\n",
    "\n",
    "`\"Hello World\"` --> `\"World Hello\"`\n",
    "\n",
    "`\"Hi There.\"` --> `\"There. Hi\"`"
   ]
  },
  {
   "cell_type": "code",
   "execution_count": 86,
   "id": "64fd9bc0-5afb-4f75-afba-3f790f20ecb4",
   "metadata": {},
   "outputs": [],
   "source": [
    "def reverse(st):\n",
    "    return ' '.join(st.split()[::-1])"
   ]
  },
  {
   "cell_type": "raw",
   "id": "104b9192-920c-4499-8867-48dd7e0d79ce",
   "metadata": {},
   "source": []
  },
  {
   "cell_type": "markdown",
   "id": "ff52e1fe-87e4-44fb-9e77-a0b5ca4caa65",
   "metadata": {},
   "source": [
    "# `87`\n",
    "### Welcome.\n",
    "\n",
    "In this kata you are required to, given a string, replace every letter with its position in the `alphabet`.\n",
    "\n",
    "If anything in the `text isn't a letter`, `ignore it` and don't return it.\n",
    "\n",
    "`\"a\" = 1`, `\"b\" = 2`, etc.\n",
    "\n",
    "Example\n",
    "\n",
    "Input = \"`The sunset sets at twelve o' clock.`\"\n",
    "\n",
    "Output = \"`20 8 5 19 21 14 19 5 20 19 5 20 19 1 20 20 23 5 12 22 5 15 3 12 15 3 11`\""
   ]
  },
  {
   "cell_type": "code",
   "execution_count": 87,
   "id": "598bb9e7-a53a-4d00-a27c-7c30bd0f09a9",
   "metadata": {},
   "outputs": [],
   "source": [
    "def alphabet_position(t):\n",
    "    s = ''.join([str.lower(i) for i in t if i.isalpha()])\n",
    "    return ' '.join([str(ord(j) -96) for j in s ])"
   ]
  },
  {
   "cell_type": "raw",
   "id": "ba583518-c629-43da-bd57-3d55af063ada",
   "metadata": {},
   "source": []
  },
  {
   "cell_type": "markdown",
   "id": "fda0ca3f-3ad8-432b-851b-6c6c26e99249",
   "metadata": {},
   "source": [
    "# `88`\n",
    "### In mathematics, the factorial of a non-negative integer n, denoted by n!, is the product of all positive integers less than or equal to n. For example: 5! = 5 * 4 * 3 * 2 * 1 = 120. By convention the value of 0! is 1.\n",
    "\n",
    "Write a function to calculate factorial for a given input. If input is below 0 or above 12 throw an exception of type ArgumentOutOfRangeException (C#) or IllegalArgumentException (Java) or RangeException (PHP) or throw a RangeError (JavaScript) or ValueError (Python) or return -1 (C)."
   ]
  },
  {
   "cell_type": "code",
   "execution_count": 88,
   "id": "9e9c187b-06b3-49e7-9dda-ac1060277ca3",
   "metadata": {},
   "outputs": [],
   "source": [
    "def factorial(n):\n",
    "    if n < 13 and n > -1 :\n",
    "        if n > 1:\n",
    "            return n * factorial(n-1)\n",
    "        else :\n",
    "            return 1\n",
    "    else:\n",
    "         raise ValueError(\"Input must be between 0 and 12 inclusive.\")\n",
    "        \n"
   ]
  },
  {
   "cell_type": "raw",
   "id": "0e355439-6a4b-4b26-be56-8cab1b2ea97a",
   "metadata": {},
   "source": []
  },
  {
   "cell_type": "markdown",
   "id": "4b71abaa-0ece-413a-b3ef-298d0a624f0b",
   "metadata": {},
   "source": [
    "# `89`\n",
    "### Your colleagues have been looking over your shoulder. When you should have been doing your boring real job, you've been using the work computers to smash in endless hours of codewars.\n",
    "\n",
    "In a team meeting, a terrible, awful person declares to the group that you aren't working. You're in trouble. You quickly have to gauge the feeling in the room to decide whether or not you should gather your things and leave.\n",
    "\n",
    "Given an object ( meet ) containing team member names as keys, and their happiness rating out of 10 as the value, you need to assess the overall happiness rating of the group. If <= 5, return 'Get Out Now!'. Else return 'Nice Work Champ!'.\n",
    "\n",
    "Happiness rating will be total score / number of people in the room.\n",
    "\n",
    "Note that your boss is in the room ( boss ). Their score is worth double its face value (but they are still just one person!)."
   ]
  },
  {
   "cell_type": "code",
   "execution_count": 89,
   "id": "38b1318f-f6fd-4329-b483-29021edb4b24",
   "metadata": {},
   "outputs": [],
   "source": [
    "\n",
    "def outed(meet, boss):\n",
    "    total_happiness = 0\n",
    "    num_people = len(meet)\n",
    "    \n",
    "    for member, score in meet.items():\n",
    "        if member == boss:\n",
    "            total_happiness += score * 2\n",
    "        else:\n",
    "            total_happiness += score\n",
    "    \n",
    "    average_happiness = total_happiness / num_people\n",
    "    \n",
    "    if average_happiness <= 5:\n",
    "        return 'Get Out Now!'\n",
    "    else:\n",
    "        return 'Nice Work Champ!'"
   ]
  },
  {
   "cell_type": "raw",
   "id": "a5425841-f849-4b65-9513-8d68f1cdf525",
   "metadata": {},
   "source": []
  },
  {
   "cell_type": "markdown",
   "id": "98fceba4-d135-4988-858c-c175b4270754",
   "metadata": {},
   "source": [
    "# `90`\n",
    "### The number \n",
    "89\n",
    "89 is the first integer with more than one digit that fulfills the property partially introduced in the title of this kata. What's the use of saying \"Eureka\"? Because this sum gives the same number: \n",
    "89\n",
    "=\n",
    "8^\n",
    "1\n",
    "+\n",
    "9^\n",
    "2\n",
    "89=8 ^\n",
    "1\n",
    " +9 ^ \n",
    "2\n",
    " \n",
    "\n",
    "Task\n",
    "We need a function to collect these numbers, that may receive two integers \n",
    "a\n",
    "a, \n",
    "b\n",
    "b that defines the range \n",
    "[\n",
    "a\n",
    ",\n",
    "b\n",
    "]\n",
    "[a,b] (inclusive) and outputs a list of the sorted numbers in the range that fulfills the property described above.\n",
    "\n",
    "\n",
    "Examples (input -> output):\n",
    "\n",
    "1, 10  --> `[1, 2, 3, 4, 5, 6, 7, 8, 9]`\n",
    "\n",
    "1, 100 --> `[1, 2, 3, 4, 5, 6, 7, 8, 9, 89]`"
   ]
  },
  {
   "cell_type": "code",
   "execution_count": 90,
   "id": "897c3b0a-7690-442a-a91e-c6c7b6501de5",
   "metadata": {},
   "outputs": [],
   "source": [
    "import math\n",
    "def sum_dig_pow(a, b): \n",
    "    ar = []\n",
    "    for i in range(a,b+1):\n",
    "        if isd(i):\n",
    "            ar.append(i)\n",
    "        \n",
    "    return ar\n",
    "\n",
    "def isd(n):\n",
    "    s = str(n)\n",
    "    num=0\n",
    "    for i in range(len(s)):\n",
    "        num += math.pow(int(s[i]),i +1 )\n",
    "        \n",
    "    return num == n\n",
    "    "
   ]
  },
  {
   "cell_type": "raw",
   "id": "bae549f2-885f-41b7-a4b6-8e16f8b665bf",
   "metadata": {},
   "source": []
  },
  {
   "cell_type": "markdown",
   "id": "a84ce2a9-c1c6-46d3-a141-1fb8dd5a004b",
   "metadata": {},
   "source": [
    "# `91`\n",
    "### Numbers ending with zeros are boring.\n",
    "\n",
    "They might be fun in your world, but not here.\n",
    "\n",
    "Get rid of them. Only the ending ones.\n",
    "\n",
    "`1450   -> 145`\n",
    "\n",
    "`960000 -> 96`\n",
    "\n",
    "`1050   -> 105`\n",
    "\n",
    "`-1050  -> -105`\n",
    "\n",
    "`0      -> 0`\n",
    "\n"
   ]
  },
  {
   "cell_type": "code",
   "execution_count": 91,
   "id": "06227de9-9c71-4b84-9821-b224e1edd26e",
   "metadata": {},
   "outputs": [],
   "source": [
    "def no_boring_zeros(n):\n",
    "    return n if n==0 else int(str(n).strip('0'))"
   ]
  },
  {
   "cell_type": "raw",
   "id": "18af97a3-4ed3-474b-817b-4cf6450e0fbd",
   "metadata": {},
   "source": []
  },
  {
   "cell_type": "markdown",
   "id": "664038e9-c6b4-4418-b5d8-9b58b6356757",
   "metadata": {},
   "source": [
    "# `92`\n",
    "### You are given an odd-length array of integers, in which all of them are the same, except for one single number.\n",
    "\n",
    "Complete the method which accepts such an array, and returns that single different number.\n",
    "\n",
    "The input array will always be valid! (odd-length >= 3)\n",
    "\n",
    "Examples\n",
    "\n",
    "`[1, 1, 2]` ==> 2\n",
    "\n",
    "`[17, 17, 3, 17, 17, 17, 17]` ==> 3"
   ]
  },
  {
   "cell_type": "code",
   "execution_count": 92,
   "id": "790ecfd3-97ba-4936-b704-0522384df740",
   "metadata": {},
   "outputs": [],
   "source": [
    "def stray(arr):\n",
    "    s = list(set(arr))\n",
    "    return s[0] if arr.count(s[0]) == 1 else s[1]"
   ]
  },
  {
   "cell_type": "raw",
   "id": "a84cf735-5e02-4a8e-9ac8-62859b778748",
   "metadata": {},
   "source": []
  },
  {
   "cell_type": "markdown",
   "id": "0f1c0e88-adcd-436e-b101-542a291ba28a",
   "metadata": {},
   "source": [
    "# `93`\n",
    "### This function takes two numbers as parameters, the first number being the coefficient, and the second number being the exponent.\n",
    "\n",
    "Your function should multiply the two numbers, and then subtract 1 from the exponent. Then, it has to return an expression (like 28x^7). \"^1\" should not be truncated when exponent = 2.\n",
    "\n",
    "For example:\n",
    "\n",
    "`derive(7, 8)`\n",
    "\n",
    "In this case, the function should multiply 7 and 8, and then subtract 1 from 8. It should output \"56x^7\", the first number 56 being the product of the two numbers, and the second number being the exponent minus 1.\n",
    "\n",
    "`derive(7, 8)` --> this should output `\"56x^7\" `\n",
    "\n",
    "`derive(5, 9)` --> this should output `\"45x^8\" `"
   ]
  },
  {
   "cell_type": "code",
   "execution_count": 93,
   "id": "a5a6aa68-ad24-4b48-9805-49b4a2515263",
   "metadata": {},
   "outputs": [],
   "source": [
    "def derive(c, e): \n",
    "    return f\"{c*e}x^{e-1}\""
   ]
  },
  {
   "cell_type": "markdown",
   "id": "e7d68bbd-8cc6-4843-97e7-8e7b04ba72ab",
   "metadata": {},
   "source": []
  },
  {
   "cell_type": "markdown",
   "id": "83cfdc5b-66fb-4fee-a53a-a89ff0135fbf",
   "metadata": {},
   "source": [
    "# `94`\n",
    "### All of the animals are having a feast! Each animal is bringing one dish. There is just one rule: the dish must start and end with the same letters as the animal's name. For example, the great blue heron is bringing garlic naan and the chickadee is bringing chocolate cake.\n",
    "\n",
    "Write a function feast that takes the animal's name and dish as arguments and returns true or false to indicate whether the beast is allowed to bring the dish to the feast.\n",
    "\n",
    "Assume that beast and dish are always lowercase strings, and that each has at least two letters. beast and dish may contain hyphens and spaces, but these will not appear at the beginning or end of the string. They will not contain numerals."
   ]
  },
  {
   "cell_type": "code",
   "execution_count": 94,
   "id": "7f558d61-ea05-4639-9daa-50e4936950e1",
   "metadata": {},
   "outputs": [],
   "source": [
    "def feast(b, d):\n",
    "    return b[0] == d[0] and b[-1] == d[-1]"
   ]
  },
  {
   "cell_type": "raw",
   "id": "09c773a4-2761-49d4-a66a-1189fe67b5b4",
   "metadata": {},
   "source": []
  },
  {
   "cell_type": "markdown",
   "id": "b2d06403-1994-4d81-840f-8033fe28cc6f",
   "metadata": {},
   "source": [
    "# `95`\n",
    "### An anagram is the result of rearranging the letters of a word to produce a new word (see wikipedia).\n",
    "\n",
    "Note: anagrams are case `insensitive`\n",
    "\n",
    "Complete the function to return true if the two arguments given are anagrams of each other; return false otherwise.\n",
    "\n",
    "Examples\n",
    "\n",
    "`\"foefet\"` is an anagram of `\"toffee\"`\n",
    "\n",
    "`\"Buckethead\"` is an anagram of `\"DeathCubeK\"`"
   ]
  },
  {
   "cell_type": "code",
   "execution_count": 95,
   "id": "4cca89d3-775a-4218-b348-fce26b2cb1b4",
   "metadata": {},
   "outputs": [],
   "source": [
    "def is_anagram(test, original):\n",
    "    return sorted(test.lower()) == sorted(original.lower())"
   ]
  },
  {
   "cell_type": "raw",
   "id": "8b3bcf81-060d-4ed1-ac2a-0c59433076c2",
   "metadata": {},
   "source": []
  },
  {
   "cell_type": "markdown",
   "id": "6e29a39d-9cf7-445b-92ac-fc7c7ed43693",
   "metadata": {},
   "source": [
    "# `96`\n",
    "### Given an integral number, determine if it's a square number:\n",
    "\n",
    "In mathematics, a square number or perfect square is an integer that is the square of an integer; in other words, it is the product of some integer with itself.\n",
    "\n",
    "The tests will always use some integral number, so don't worry about that in dynamic typed languages.\n",
    "\n",
    "Examples\n",
    "\n",
    "`-1  =>  false`\n",
    " `0  =>  true`\n",
    " `3  =>  false`\n",
    " `4  =>  true`\n",
    "`25  =>  true`\n",
    "`26  =>  false`"
   ]
  },
  {
   "cell_type": "code",
   "execution_count": 96,
   "id": "27bca3e1-896e-4d70-8249-6f3334e0a3fb",
   "metadata": {},
   "outputs": [
    {
     "data": {
      "text/plain": [
       "True"
      ]
     },
     "execution_count": 96,
     "metadata": {},
     "output_type": "execute_result"
    }
   ],
   "source": [
    "math.sqrt(4) == round(math.sqrt(4))"
   ]
  },
  {
   "cell_type": "raw",
   "id": "a55895ad-1ef3-486a-b0e0-010c52703bea",
   "metadata": {},
   "source": []
  },
  {
   "cell_type": "markdown",
   "id": "370bd8ff-682c-4beb-95ef-6638394e55dd",
   "metadata": {},
   "source": [
    "# 9`7`\n",
    "### Philip's just turned four and he wants to know how old he will be in various years in the future such as 2090 or 3044. His parents can't keep up calculating this so they've begged you to help them out by writing a programme that can answer Philip's endless questions.\n",
    "\n",
    "Your task is to write a function that takes two parameters: the year of birth and the year to count years in relation to. As Philip is getting more curious every day he may soon want to know how many years it was until he would be born, so your function needs to work with both dates in the future and in the past.\n",
    "\n",
    "Provide output in this format: For dates in the future: \"You are ... year(s) old.\" For dates in the past: \"You will be born in ... year(s).\" If the year of birth equals the year requested return: \"You were born this very year!\"\n",
    "\n",
    "\"...\" are to be replaced by the number, followed and proceeded by a single space. Mind that you need to account for both \"year\" and \"years\", depending on the result.\n",
    "\n",
    "Good Luck!"
   ]
  },
  {
   "cell_type": "code",
   "execution_count": 97,
   "id": "07fb437c-013f-45aa-8b3a-dcb4ebb17088",
   "metadata": {},
   "outputs": [],
   "source": [
    "def calculate_age(y, c):\n",
    "    if y > c:\n",
    "        return f\"You will be born in {y - c} years.\" if (y - c) > 1 else \"You will be born in 1 year.\"\n",
    "    elif y == c:\n",
    "        return \"You were born this very year!\"\n",
    "    else:\n",
    "        return f\"You are {c - y} years old.\" if (c - y) > 1 else \"You are 1 year old.\"\n"
   ]
  },
  {
   "cell_type": "raw",
   "id": "7de435c2-6407-4e51-af62-208bdbcbca8a",
   "metadata": {},
   "source": []
  },
  {
   "cell_type": "markdown",
   "id": "7f1c55ff-d6d6-4c4e-857d-5c5104bc8f7d",
   "metadata": {},
   "source": [
    "# `98`\n",
    "### Your boss decided to save money by purchasing some cut-rate optical character recognition software for scanning in the text of old novels to your database. At first it seems to capture words okay, but you quickly notice that it throws in a lot of numbers at random places in the text.\n",
    "\n",
    "Examples (input -> output)\n",
    "\n",
    "`'! !' `                -> `'! !'`\n",
    "\n",
    "`'123456789`'           -> `''`\n",
    "\n",
    "`'This looks5 grea8t!`' -> '`This looks great!'`\n",
    "\n",
    "Your harried co-workers are looking to you for a solution to take this garbled text and remove all of the numbers. Your program will take in a string and clean out all numeric characters, and return a string with spacing and special characters ~#$%^&!@*():;\"'.,? all intact."
   ]
  },
  {
   "cell_type": "code",
   "execution_count": 98,
   "id": "35d0bf9b-362a-479f-89b0-6019fc36754a",
   "metadata": {},
   "outputs": [],
   "source": [
    "def string_clean(s):\n",
    "    return \"\".join([i for i in s if not i.isdigit()])"
   ]
  },
  {
   "cell_type": "raw",
   "id": "6f1448e0-aac4-4986-ae1b-7b0089706a8b",
   "metadata": {},
   "source": []
  },
  {
   "cell_type": "markdown",
   "id": "65977ff1-88d4-4cb7-8919-3688a6486cad",
   "metadata": {},
   "source": [
    "# `99`\n",
    "### Task\n",
    "Your job is simple, if x squared is more than 1000, return It's hotter than the sun!!, else, return Help yourself to a honeycomb Yorkie for the glovebox."
   ]
  },
  {
   "cell_type": "code",
   "execution_count": 99,
   "id": "359ae187-372d-40d2-a58a-5c6199381ac5",
   "metadata": {},
   "outputs": [],
   "source": [
    "def apple(x):\n",
    "    return \"It's hotter than the sun!!\" if int(x) ** 2 > 1000 else \"Help yourself to a honeycomb Yorkie for the glovebox.\"\n"
   ]
  },
  {
   "cell_type": "raw",
   "id": "a38f2b71-d27f-45e1-a5da-40b47538d6bf",
   "metadata": {},
   "source": []
  },
  {
   "cell_type": "markdown",
   "id": "d55130a6-9c67-4373-841b-d96609181002",
   "metadata": {},
   "source": [
    "# `100`\n",
    "### In this simple exercise, you will build a program that takes a value, integer , and returns a list of its multiples up to another value, limit . If limit is a multiple of integer, it should be included as well. There will only ever be positive integers passed into the function, not consisting of 0. The limit will always be higher than the base.\n",
    "\n",
    "For example, if the parameters passed are `(2, 6)`, the function should return `[2, 4, 6]` as 2, 4, and 6 are the multiples of 2 up to 6."
   ]
  },
  {
   "cell_type": "code",
   "execution_count": 100,
   "id": "a84e765c-3ab2-4559-bca6-4cbbd2e9e8b1",
   "metadata": {},
   "outputs": [],
   "source": [
    "def find_multiples(i, l):\n",
    "    return list(range(i,l+1,i))"
   ]
  },
  {
   "cell_type": "raw",
   "id": "5fd237ae-7418-4822-a350-4549376d5b5f",
   "metadata": {},
   "source": []
  }
 ],
 "metadata": {
  "kernelspec": {
   "display_name": "Python 3 (ipykernel)",
   "language": "python",
   "name": "python3"
  },
  "language_info": {
   "codemirror_mode": {
    "name": "ipython",
    "version": 3
   },
   "file_extension": ".py",
   "mimetype": "text/x-python",
   "name": "python",
   "nbconvert_exporter": "python",
   "pygments_lexer": "ipython3",
   "version": "3.12.7"
  }
 },
 "nbformat": 4,
 "nbformat_minor": 5
}
